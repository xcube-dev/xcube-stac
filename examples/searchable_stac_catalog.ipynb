{
 "cells": [
  {
   "cell_type": "markdown",
   "metadata": {},
   "source": [
    "# Seachable STAC catalog\n",
    "\n",
    "This notebook shows an example how to access items and the corresponding hrefs stored in the assets for given search and open data parameters. A searchable STAC catalog implements the [STAC API - Item Search](https://github.com/radiantearth/stac-api-spec/tree/release/v1.0.0/item-search) conformance class, which provides the ability to search for STAC Item objects across collections.\n",
    "\n",
    "### Setup\n",
    "In order to run this notebook you need to install [`xcube`](https://xcube.readthedocs.io/en/latest/) and the [`xcube_stac`](https://github.com/xcube-dev/xcube-stac) plugin. You may install [`xcube_stac`](https://github.com/xcube-dev/xcube-stac) directly from the git repository by cloning the repository, directing into `xcube-stac`, and following the steps below:\n",
    "\n",
    "```bash\n",
    "conda env create -f environment.yml\n",
    "conda activate xcube-stac\n",
    "pip install .\n",
    "```\n",
    "\n",
    "Note that [`xcube`](https://xcube.readthedocs.io/en/latest/) is included in the `environment.yml`.  \n",
    "\n",
    "Now, we first import everything we need:"
   ]
  },
  {
   "cell_type": "code",
   "execution_count": 17,
   "metadata": {},
   "outputs": [],
   "source": [
    "from xcube.core.store import new_data_store, get_data_store_params_schema\n",
    "import itertools"
   ]
  },
  {
   "cell_type": "markdown",
   "metadata": {},
   "source": [
    "First, we get the store parameters needed to initialize a STAC [data store](https://xcube.readthedocs.io/en/latest/dataaccess.html#data-store-framework). "
   ]
  },
  {
   "cell_type": "code",
   "execution_count": 18,
   "metadata": {},
   "outputs": [
    {
     "data": {
      "application/json": {
       "additionalProperties": false,
       "description": "Describes the parameters of the xcube data store 'stac'.",
       "properties": {
        "url": {
         "title": "URL to STAC catalog",
         "type": "string"
        }
       },
       "required": [
        "url"
       ],
       "type": "object"
      },
      "text/plain": [
       "<xcube.util.jsonschema.JsonObjectSchema at 0x7ee1601fc140>"
      ]
     },
     "execution_count": 18,
     "metadata": {},
     "output_type": "execute_result"
    }
   ],
   "source": [
    "store_params = get_data_store_params_schema(\"stac\")\n",
    "store_params"
   ]
  },
  {
   "cell_type": "markdown",
   "metadata": {},
   "source": [
    "We determine the url of the [Earth Search](https://element84.com/earth-search/) STAC catalog and initiate a STAC [data store](https://xcube.readthedocs.io/en/latest/dataaccess.html#data-store-framework) where the `xcube-stac` plugin is recognized by setting the first argument to `\"stac\"` in the `new_data_store` function."
   ]
  },
  {
   "cell_type": "code",
   "execution_count": 19,
   "metadata": {},
   "outputs": [],
   "source": [
    "url = \"https://earth-search.aws.element84.com/v1\"\n",
    "store = new_data_store(\"stac\", url=url)"
   ]
  },
  {
   "cell_type": "markdown",
   "metadata": {},
   "source": [
    "The data IDs point to a [STAC item's JSON](https://github.com/radiantearth/stac-spec/blob/master/item-spec/item-spec.md) and are specified by the segment of the URL that follows the catalog's URL. The data IDs can be streamed using the following code where we show the first 10 data IDs as an example."
   ]
  },
  {
   "cell_type": "code",
   "execution_count": 20,
   "metadata": {},
   "outputs": [
    {
     "data": {
      "text/plain": [
       "['collections/sentinel-1-grd/items/S1A_IW_GRDH_1SDV_20240528T070327_20240528T070354_054068_0692F7',\n",
       " 'collections/sentinel-1-grd/items/S1A_IW_GRDH_1SDV_20240528T070302_20240528T070327_054068_0692F7',\n",
       " 'collections/sentinel-1-grd/items/S1A_IW_GRDH_1SDV_20240528T070237_20240528T070302_054068_0692F7',\n",
       " 'collections/sentinel-1-grd/items/S1A_IW_GRDH_1SDV_20240528T070212_20240528T070237_054068_0692F7',\n",
       " 'collections/sentinel-1-grd/items/S1A_IW_GRDH_1SDV_20240528T070147_20240528T070212_054068_0692F7',\n",
       " 'collections/sentinel-1-grd/items/S1A_IW_GRDH_1SDV_20240528T070122_20240528T070147_054068_0692F7',\n",
       " 'collections/sentinel-1-grd/items/S1A_IW_GRDH_1SDV_20240528T070057_20240528T070122_054068_0692F7',\n",
       " 'collections/sentinel-1-grd/items/S1A_IW_GRDH_1SDV_20240528T070028_20240528T070057_054068_0692F7',\n",
       " 'collections/sentinel-1-grd/items/S1A_IW_GRDH_1SDV_20240528T065729_20240528T065750_054068_0692F6',\n",
       " 'collections/sentinel-1-grd/items/S1A_IW_GRDH_1SDV_20240528T065704_20240528T065729_054068_0692F6']"
      ]
     },
     "execution_count": 20,
     "metadata": {},
     "output_type": "execute_result"
    }
   ],
   "source": [
    "data_ids = store.get_data_ids()\n",
    "list(itertools.islice(data_ids, 10))"
   ]
  },
  {
   "cell_type": "markdown",
   "metadata": {},
   "source": [
    "In the next step, we can search for items using search parameters. The following code shows which search parameters are available."
   ]
  },
  {
   "cell_type": "code",
   "execution_count": 21,
   "metadata": {},
   "outputs": [
    {
     "data": {
      "application/json": {
       "additionalProperties": false,
       "properties": {
        "bbox": {
         "items": [
          {
           "type": "number"
          },
          {
           "type": "number"
          },
          {
           "type": "number"
          },
          {
           "type": "number"
          }
         ],
         "title": "Bounding box [x1,y1,x2,y2] in geographical coordinates",
         "type": "array"
        },
        "collections": {
         "description": "Collection IDs to be included in the search request.",
         "items": {
          "minLength": 0,
          "type": "string"
         },
         "title": "Collection IDs",
         "type": "array",
         "uniqueItems": true
        },
        "time_range": {
         "description": "Time range given as pair of start and stop dates.  Dates must be given using format 'YYYY-MM-DD'. Start and stop are inclusive.",
         "items": [
          {
           "format": "date",
           "type": [
            "string",
            "null"
           ]
          },
          {
           "format": "date",
           "type": [
            "string",
            "null"
           ]
          }
         ],
         "title": "Time Range",
         "type": "array"
        }
       },
       "type": "object"
      },
      "text/plain": [
       "<xcube.util.jsonschema.JsonObjectSchema at 0x7ee16024b380>"
      ]
     },
     "execution_count": 21,
     "metadata": {},
     "output_type": "execute_result"
    }
   ],
   "source": [
    "search_params = store.get_search_params_schema()\n",
    "search_params"
   ]
  },
  {
   "cell_type": "markdown",
   "metadata": {},
   "source": [
    "Now, let's search for Sentinel-2 L2a data in the region of Lake Constance for the period from March 4th to March 6th, 2020."
   ]
  },
  {
   "cell_type": "code",
   "execution_count": 22,
   "metadata": {},
   "outputs": [
    {
     "data": {
      "text/plain": [
       "[{'data_id': 'collections/sentinel-2-l2a/items/S2A_32TMT_20200305_0_L2A',\n",
       "  'data_type': 'dataset',\n",
       "  'bbox': [7.662878883910047,\n",
       "   46.85818510451771,\n",
       "   9.130456971519783,\n",
       "   47.85361872923358],\n",
       "  'time_range': ['2020-03-05', None]},\n",
       " {'data_id': 'collections/sentinel-2-l2a/items/S2A_32TNT_20200305_0_L2A',\n",
       "  'data_type': 'dataset',\n",
       "  'bbox': [8.999746010269408,\n",
       "   46.86543294418706,\n",
       "   9.69101980741396,\n",
       "   47.85369284462768],\n",
       "  'time_range': ['2020-03-05', None]},\n",
       " {'data_id': 'collections/sentinel-2-l2a/items/S2A_32UMU_20200305_0_L2A',\n",
       "  'data_type': 'dataset',\n",
       "  'bbox': [7.639190643894996,\n",
       "   47.75741268155721,\n",
       "   9.132768981529203,\n",
       "   48.752927528985374],\n",
       "  'time_range': ['2020-03-05', None]},\n",
       " {'data_id': 'collections/sentinel-2-l2a/items/S2A_32UNU_20200305_0_L2A',\n",
       "  'data_type': 'dataset',\n",
       "  'bbox': [8.999741508947045,\n",
       "   47.76332693643577,\n",
       "   10.103302080212728,\n",
       "   48.75300400802843],\n",
       "  'time_range': ['2020-03-05', None]}]"
      ]
     },
     "execution_count": 22,
     "metadata": {},
     "output_type": "execute_result"
    }
   ],
   "source": [
    "descriptors = list(store.search_data(\n",
    "    collections=[\"sentinel-2-l2a\"],\n",
    "    bbox=[9, 47, 10, 48],\n",
    "    time_range=[\"2020-03-04\", \"2020-03-06\"]\n",
    "))\n",
    "[d.to_dict() for d in descriptors]"
   ]
  },
  {
   "cell_type": "markdown",
   "metadata": {},
   "source": [
    "In the next step, we can open the data for each data id. (Note that this is not fully implemented yet. So far we can access assets which will give the href to the data resource). The following code shows which parameters are available for opening the data."
   ]
  },
  {
   "cell_type": "code",
   "execution_count": 23,
   "metadata": {},
   "outputs": [
    {
     "data": {
      "application/json": {
       "additionalProperties": false,
       "properties": {
        "asset_names": {
         "description": "Names of assets which will be included in the data cube.",
         "items": {
          "minLength": 0,
          "type": "string"
         },
         "title": "Names of assets",
         "type": "array",
         "uniqueItems": true
        }
       },
       "type": "object"
      },
      "text/plain": [
       "<xcube.util.jsonschema.JsonObjectSchema at 0x7ee1601fbe00>"
      ]
     },
     "execution_count": 23,
     "metadata": {},
     "output_type": "execute_result"
    }
   ],
   "source": [
    "open_params = store.get_open_data_params_schema()\n",
    "open_params"
   ]
  },
  {
   "cell_type": "markdown",
   "metadata": {},
   "source": [
    "We select the band B04 (red) and get the corresponding assets and the corresponding hrefs pointing to the data resources by running the following code."
   ]
  },
  {
   "cell_type": "code",
   "execution_count": 24,
   "metadata": {},
   "outputs": [
    {
     "data": {
      "text/plain": [
       "['https://sentinel-cogs.s3.us-west-2.amazonaws.com/sentinel-s2-l2a-cogs/32/T/MT/2020/3/S2A_32TMT_20200305_0_L2A/B04.tif',\n",
       " 'https://sentinel-cogs.s3.us-west-2.amazonaws.com/sentinel-s2-l2a-cogs/32/T/NT/2020/3/S2A_32TNT_20200305_0_L2A/B04.tif',\n",
       " 'https://sentinel-cogs.s3.us-west-2.amazonaws.com/sentinel-s2-l2a-cogs/32/U/MU/2020/3/S2A_32UMU_20200305_0_L2A/B04.tif',\n",
       " 'https://sentinel-cogs.s3.us-west-2.amazonaws.com/sentinel-s2-l2a-cogs/32/U/NU/2020/3/S2A_32UNU_20200305_0_L2A/B04.tif']"
      ]
     },
     "execution_count": 24,
     "metadata": {},
     "output_type": "execute_result"
    }
   ],
   "source": [
    "asset_collection = []\n",
    "for descriptor in descriptors:\n",
    "    assets = store.open_data(descriptor.data_id, asset_names=[\"red\"])\n",
    "    assert len(assets) == 1\n",
    "    asset_collection.append(assets[0])\n",
    "[asset.href for asset in asset_collection]"
   ]
  },
  {
   "cell_type": "markdown",
   "metadata": {},
   "source": [
    "This notebook will be continued once the data access is implemented."
   ]
  }
 ],
 "metadata": {
  "kernelspec": {
   "display_name": "Python 3",
   "language": "python",
   "name": "python3"
  },
  "language_info": {
   "codemirror_mode": {
    "name": "ipython",
    "version": 3
   },
   "file_extension": ".py",
   "mimetype": "text/x-python",
   "name": "python",
   "nbconvert_exporter": "python",
   "pygments_lexer": "ipython3",
   "version": "3.12.3"
  }
 },
 "nbformat": 4,
 "nbformat_minor": 2
}
