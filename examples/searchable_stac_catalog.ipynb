{
 "cells": [
  {
   "cell_type": "markdown",
   "metadata": {},
   "source": [
    "# Seachable STAC catalog\n",
    "\n",
    "This notebook shows an example how to access items and the corresponding hrefs stored in the assets for given search and open data parameters. A searchable STAC catalog implements the [STAC API - Item Search](https://github.com/radiantearth/stac-api-spec/tree/release/v1.0.0/item-search) conformance class, which provides the ability to search for STAC Item objects across collections.\n",
    "\n",
    "### Setup\n",
    "In order to run this notebook you need to install [`xcube`](https://xcube.readthedocs.io/en/latest/) and the [`xcube_stac`](https://github.com/xcube-dev/xcube-stac) plugin. You may install [`xcube_stac`](https://github.com/xcube-dev/xcube-stac) directly from the git repository by cloning the repository, directing into `xcube-stac`, and following the steps below:\n",
    "\n",
    "```bash\n",
    "conda env create -f environment.yml\n",
    "conda activate xcube-stac\n",
    "pip install .\n",
    "```\n",
    "\n",
    "Note that [`xcube`](https://xcube.readthedocs.io/en/latest/) is included in the `environment.yml`.  \n",
    "\n",
    "Now, we first import everything we need:"
   ]
  },
  {
   "cell_type": "code",
   "execution_count": 1,
   "metadata": {},
   "outputs": [],
   "source": [
    "from xcube.core.store import new_data_store, get_data_store_params_schema\n",
    "import itertools"
   ]
  },
  {
   "cell_type": "markdown",
   "metadata": {},
   "source": [
    "First, we get the store parameters needed to initialize a STAC [data store](https://xcube.readthedocs.io/en/latest/dataaccess.html#data-store-framework). "
   ]
  },
  {
   "cell_type": "code",
   "execution_count": 2,
   "metadata": {},
   "outputs": [
    {
     "data": {
      "application/json": {
       "additionalProperties": false,
       "description": "Describes the parameters of the xcube data store 'stac'.",
       "properties": {
        "url": {
         "title": "URL to STAC catalog",
         "type": "string"
        }
       },
       "required": [
        "url"
       ],
       "type": "object"
      },
      "text/plain": [
       "<xcube.util.jsonschema.JsonObjectSchema at 0x787d2e169790>"
      ]
     },
     "execution_count": 2,
     "metadata": {},
     "output_type": "execute_result"
    }
   ],
   "source": [
    "store_params = get_data_store_params_schema(\"stac\")\n",
    "store_params"
   ]
  },
  {
   "cell_type": "markdown",
   "metadata": {},
   "source": [
    "We determine the url of the [Earth Search](https://element84.com/earth-search/) STAC catalog and initiate a STAC [data store](https://xcube.readthedocs.io/en/latest/dataaccess.html#data-store-framework) where the `xcube-stac` plugin is recognized by setting the first argument to `\"stac\"` in the `new_data_store` function."
   ]
  },
  {
   "cell_type": "code",
   "execution_count": 3,
   "metadata": {},
   "outputs": [],
   "source": [
    "url = \"https://earth-search.aws.element84.com/v1\"\n",
    "store = new_data_store(\"stac\", url=url)"
   ]
  },
  {
   "cell_type": "markdown",
   "metadata": {},
   "source": [
    "The data IDs point to a [STAC item's JSON](https://github.com/radiantearth/stac-spec/blob/master/item-spec/item-spec.md) and are specified by the segment of the URL that follows the catalog's URL. The data IDs can be streamed using the following code where we show the first 10 data IDs as an example."
   ]
  },
  {
   "cell_type": "code",
   "execution_count": 4,
   "metadata": {},
   "outputs": [
    {
     "data": {
      "text/plain": [
       "['collections/sentinel-1-grd/items/S1A_IW_GRDH_1SDV_20240612T105523_20240612T105544_054289_069A9A',\n",
       " 'collections/sentinel-1-grd/items/S1A_IW_GRDH_1SDV_20240612T105458_20240612T105523_054289_069A9A',\n",
       " 'collections/sentinel-1-grd/items/S1A_IW_GRDH_1SDV_20240612T105433_20240612T105458_054289_069A9A',\n",
       " 'collections/sentinel-1-grd/items/S1A_IW_GRDH_1SDV_20240612T105408_20240612T105433_054289_069A9A',\n",
       " 'collections/sentinel-1-grd/items/S1A_IW_GRDH_1SDV_20240612T105318_20240612T105343_054289_069A9A',\n",
       " 'collections/sentinel-1-grd/items/S1A_IW_GRDH_1SDV_20240612T105253_20240612T105318_054289_069A9A',\n",
       " 'collections/sentinel-1-grd/items/S1A_IW_GRDH_1SDV_20240612T105228_20240612T105253_054289_069A9A',\n",
       " 'collections/sentinel-1-grd/items/S1A_IW_GRDH_1SDV_20240612T105203_20240612T105228_054289_069A9A',\n",
       " 'collections/sentinel-1-grd/items/S1A_IW_GRDH_1SDV_20240612T105138_20240612T105203_054289_069A9A',\n",
       " 'collections/sentinel-1-grd/items/S1A_IW_GRDH_1SDV_20240612T105113_20240612T105138_054289_069A9A']"
      ]
     },
     "execution_count": 4,
     "metadata": {},
     "output_type": "execute_result"
    }
   ],
   "source": [
    "data_ids = store.get_data_ids()\n",
    "list(itertools.islice(data_ids, 10))"
   ]
  },
  {
   "cell_type": "markdown",
   "metadata": {},
   "source": [
    "In the next step, we can search for items using search parameters. The following code shows which search parameters are available."
   ]
  },
  {
   "cell_type": "code",
   "execution_count": 5,
   "metadata": {},
   "outputs": [
    {
     "data": {
      "application/json": {
       "additionalProperties": false,
       "properties": {
        "bbox": {
         "items": [
          {
           "type": "number"
          },
          {
           "type": "number"
          },
          {
           "type": "number"
          },
          {
           "type": "number"
          }
         ],
         "title": "Bounding box [x1,y1,x2,y2] in geographical coordinates",
         "type": "array"
        },
        "collections": {
         "description": "Collection IDs to be included in the search request.",
         "items": {
          "minLength": 0,
          "type": "string"
         },
         "title": "Collection IDs",
         "type": "array",
         "uniqueItems": true
        },
        "time_range": {
         "description": "Time range given as pair of start and stop dates. Dates must be given using format 'YYYY-MM-DD'. Start and stop are inclusive.",
         "items": [
          {
           "format": "date",
           "type": [
            "string",
            "null"
           ]
          },
          {
           "format": "date",
           "type": [
            "string",
            "null"
           ]
          }
         ],
         "title": "Time Range",
         "type": "array"
        }
       },
       "type": "object"
      },
      "text/plain": [
       "<xcube.util.jsonschema.JsonObjectSchema at 0x787d2ce17fe0>"
      ]
     },
     "execution_count": 5,
     "metadata": {},
     "output_type": "execute_result"
    }
   ],
   "source": [
    "search_params = store.get_search_params_schema()\n",
    "search_params"
   ]
  },
  {
   "cell_type": "markdown",
   "metadata": {},
   "source": [
    "Now, let's search for Sentinel-2 L2a data in the region of Lake Constance for the period from March 4th to March 6th, 2020."
   ]
  },
  {
   "cell_type": "code",
   "execution_count": 6,
   "metadata": {},
   "outputs": [
    {
     "data": {
      "text/plain": [
       "[{'data_id': 'collections/sentinel-2-l2a/items/S2A_32TMT_20200305_0_L2A',\n",
       "  'data_type': 'dataset',\n",
       "  'bbox': [7.662878883910047,\n",
       "   46.85818510451771,\n",
       "   9.130456971519783,\n",
       "   47.85361872923358],\n",
       "  'time_range': ['2020-03-05', None]},\n",
       " {'data_id': 'collections/sentinel-2-l2a/items/S2A_32TNT_20200305_0_L2A',\n",
       "  'data_type': 'dataset',\n",
       "  'bbox': [8.999746010269408,\n",
       "   46.86543294418706,\n",
       "   9.69101980741396,\n",
       "   47.85369284462768],\n",
       "  'time_range': ['2020-03-05', None]},\n",
       " {'data_id': 'collections/sentinel-2-l2a/items/S2A_32UMU_20200305_0_L2A',\n",
       "  'data_type': 'dataset',\n",
       "  'bbox': [7.639190643894996,\n",
       "   47.75741268155721,\n",
       "   9.132768981529203,\n",
       "   48.752927528985374],\n",
       "  'time_range': ['2020-03-05', None]},\n",
       " {'data_id': 'collections/sentinel-2-l2a/items/S2A_32UNU_20200305_0_L2A',\n",
       "  'data_type': 'dataset',\n",
       "  'bbox': [8.999741508947045,\n",
       "   47.76332693643577,\n",
       "   10.103302080212728,\n",
       "   48.75300400802843],\n",
       "  'time_range': ['2020-03-05', None]}]"
      ]
     },
     "execution_count": 6,
     "metadata": {},
     "output_type": "execute_result"
    }
   ],
   "source": [
    "descriptors = list(\n",
    "    store.search_data(\n",
    "        collections=[\"sentinel-2-l2a\"],\n",
    "        bbox=[9, 47, 10, 48],\n",
    "        time_range=[\"2020-03-04\", \"2020-03-06\"],\n",
    "    )\n",
    ")\n",
    "[d.to_dict() for d in descriptors]"
   ]
  },
  {
   "cell_type": "markdown",
   "metadata": {},
   "source": [
    "In the next step, we can open the data for each data ID. The following code shows which parameters are available for opening the data."
   ]
  },
  {
   "cell_type": "code",
   "execution_count": 7,
   "metadata": {},
   "outputs": [
    {
     "data": {
      "application/json": {
       "additionalProperties": false,
       "properties": {
        "asset_names": {
         "description": "Names of assets which will be included in the data cube.",
         "items": {
          "minLength": 0,
          "type": "string"
         },
         "title": "Names of assets",
         "type": "array",
         "uniqueItems": true
        }
       },
       "type": "object"
      },
      "text/plain": [
       "<xcube.util.jsonschema.JsonObjectSchema at 0x787d2ceec350>"
      ]
     },
     "execution_count": 7,
     "metadata": {},
     "output_type": "execute_result"
    }
   ],
   "source": [
    "open_params = store.get_open_data_params_schema()\n",
    "open_params"
   ]
  },
  {
   "cell_type": "markdown",
   "metadata": {},
   "source": [
    "We select the band red (B04), green (B03), and blue (B02) and lazily load the corresponding data. "
   ]
  },
  {
   "cell_type": "code",
   "execution_count": 8,
   "metadata": {},
   "outputs": [
    {
     "name": "stdout",
     "output_type": "stream",
     "text": [
      "----------------------------------------------------------------------------------------------------\n",
      "<xarray.Dataset> Size: 724MB\n",
      "Dimensions:      (x: 10980, y: 10980)\n",
      "Coordinates:\n",
      "  * x            (x) float64 88kB 4e+05 4e+05 4e+05 ... 5.097e+05 5.098e+05\n",
      "  * y            (y) float64 88kB 5.3e+06 5.3e+06 5.3e+06 ... 5.19e+06 5.19e+06\n",
      "    spatial_ref  int64 8B 0\n",
      "Data variables:\n",
      "    blue         (y, x) uint16 241MB dask.array<chunksize=(512, 512), meta=np.ndarray>\n",
      "    green        (y, x) uint16 241MB dask.array<chunksize=(512, 512), meta=np.ndarray>\n",
      "    nir          (y, x) uint16 241MB dask.array<chunksize=(512, 512), meta=np.ndarray>\n",
      "----------------------------------------------------------------------------------------------------\n",
      "<xarray.Dataset> Size: 724MB\n",
      "Dimensions:      (x: 10980, y: 10980)\n",
      "Coordinates:\n",
      "  * x            (x) float64 88kB 5e+05 5e+05 5e+05 ... 6.098e+05 6.098e+05\n",
      "  * y            (y) float64 88kB 5.3e+06 5.3e+06 5.3e+06 ... 5.19e+06 5.19e+06\n",
      "    spatial_ref  int64 8B 0\n",
      "Data variables:\n",
      "    blue         (y, x) uint16 241MB dask.array<chunksize=(512, 512), meta=np.ndarray>\n",
      "    green        (y, x) uint16 241MB dask.array<chunksize=(512, 512), meta=np.ndarray>\n",
      "    nir          (y, x) uint16 241MB dask.array<chunksize=(512, 512), meta=np.ndarray>\n",
      "----------------------------------------------------------------------------------------------------\n",
      "<xarray.Dataset> Size: 724MB\n",
      "Dimensions:      (x: 10980, y: 10980)\n",
      "Coordinates:\n",
      "  * x            (x) float64 88kB 4e+05 4e+05 4e+05 ... 5.097e+05 5.098e+05\n",
      "  * y            (y) float64 88kB 5.4e+06 5.4e+06 5.4e+06 ... 5.29e+06 5.29e+06\n",
      "    spatial_ref  int64 8B 0\n",
      "Data variables:\n",
      "    blue         (y, x) uint16 241MB dask.array<chunksize=(512, 512), meta=np.ndarray>\n",
      "    green        (y, x) uint16 241MB dask.array<chunksize=(512, 512), meta=np.ndarray>\n",
      "    nir          (y, x) uint16 241MB dask.array<chunksize=(512, 512), meta=np.ndarray>\n",
      "----------------------------------------------------------------------------------------------------\n",
      "<xarray.Dataset> Size: 724MB\n",
      "Dimensions:      (x: 10980, y: 10980)\n",
      "Coordinates:\n",
      "  * x            (x) float64 88kB 5e+05 5e+05 5e+05 ... 6.098e+05 6.098e+05\n",
      "  * y            (y) float64 88kB 5.4e+06 5.4e+06 5.4e+06 ... 5.29e+06 5.29e+06\n",
      "    spatial_ref  int64 8B 0\n",
      "Data variables:\n",
      "    blue         (y, x) uint16 241MB dask.array<chunksize=(512, 512), meta=np.ndarray>\n",
      "    green        (y, x) uint16 241MB dask.array<chunksize=(512, 512), meta=np.ndarray>\n",
      "    nir          (y, x) uint16 241MB dask.array<chunksize=(512, 512), meta=np.ndarray>\n"
     ]
    }
   ],
   "source": [
    "for descriptor in descriptors:\n",
    "    ds = store.open_data(descriptor.data_id, asset_names=[\"blue\", \"green\", \"nir\"])\n",
    "    print(\"-\" * 100)\n",
    "    print(ds)"
   ]
  },
  {
   "cell_type": "markdown",
   "metadata": {},
   "source": [
    "This notebook will be continued once the data access is implemented."
   ]
  }
 ],
 "metadata": {
  "kernelspec": {
   "display_name": "Python 3",
   "language": "python",
   "name": "python3"
  },
  "language_info": {
   "codemirror_mode": {
    "name": "ipython",
    "version": 3
   },
   "file_extension": ".py",
   "mimetype": "text/x-python",
   "name": "python",
   "nbconvert_exporter": "python",
   "pygments_lexer": "ipython3",
   "version": "3.1.-1"
  }
 },
 "nbformat": 4,
 "nbformat_minor": 2
}
