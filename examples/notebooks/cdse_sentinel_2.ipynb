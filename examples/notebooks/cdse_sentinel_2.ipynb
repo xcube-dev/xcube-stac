{
 "cells": [
  {
   "cell_type": "markdown",
   "metadata": {},
   "source": [
    "# Load Sentinel-2 data from the CDSE STAC catalog\n",
    "\n",
    "This notebook shows an example how to load Sentinel-2 data from the [CDSE STAC API](https://browser.stac.dataspace.copernicus.eu/?.language=en).\n",
    "\n",
    "### Setup\n",
    "In order to run this notebook you may install [`xcube_stac`](https://github.com/xcube-dev/xcube-stac), following the [README](../../README.md).\n",
    "\n",
    "The data can be accessed via S3, where key and secret can be obtained following the [CDSE access documentation to EO data via S3](https://documentation.dataspace.copernicus.eu/APIs/S3.html#generate-secrets). The store object will receive the key and secret upon initialization, as demonstrated below.\n",
    "\n",
    "Now, we first import everything we need:"
   ]
  },
  {
   "cell_type": "code",
   "execution_count": 1,
   "metadata": {},
   "outputs": [
    {
     "name": "stdout",
     "output_type": "stream",
     "text": [
      "CPU times: user 3.46 s, sys: 263 ms, total: 3.72 s\n",
      "Wall time: 1.83 s\n"
     ]
    }
   ],
   "source": [
    "%%time\n",
    "import itertools\n",
    "\n",
    "import matplotlib.pyplot as plt\n",
    "from xcube.core.store import new_data_store, get_data_store_params_schema\n",
    "\n",
    "from xcube_stac.utils import reproject_bbox"
   ]
  },
  {
   "cell_type": "markdown",
   "metadata": {},
   "source": [
    "Next store the credentials in a dictionary. "
   ]
  },
  {
   "cell_type": "code",
   "execution_count": 2,
   "metadata": {},
   "outputs": [],
   "source": [
    "credentials = {\n",
    "    \"key\": \"O0M0CUQIDQO9TDZ4D8NR\",\n",
    "    \"secret\": \"qPUyXs9G6j8on6MY5KPhQNHuA5uZTqxEscrbBCGx\",\n",
    "}"
   ]
  },
  {
   "cell_type": "markdown",
   "metadata": {},
   "source": [
    "First, we get the store parameters needed to initialize a STAC [data store](https://xcube.readthedocs.io/en/latest/dataaccess.html#data-store-framework). Note that key and secret of the S3 access are required."
   ]
  },
  {
   "cell_type": "code",
   "execution_count": 3,
   "metadata": {},
   "outputs": [
    {
     "name": "stdout",
     "output_type": "stream",
     "text": [
      "CPU times: user 18.7 ms, sys: 11 ms, total: 29.7 ms\n",
      "Wall time: 29.4 ms\n"
     ]
    },
    {
     "data": {
      "application/json": {
       "additionalProperties": false,
       "description": "Describes the parameters of the xcube data store 'stac-csde'.",
       "properties": {
        "anon": {
         "title": "Whether to anonymously connect to AWS S3.",
         "type": "boolean"
        },
        "asynchronous": {
         "type": "boolean"
        },
        "client_kwargs": {
         "additionalProperties": true,
         "description": "Parameters for the botocore client.",
         "properties": {
          "endpoint_url": {
           "format": "uri",
           "minLength": 1,
           "title": "Alternative endpoint URL.",
           "type": "string"
          },
          "profile_name": {
           "description": "Section name with within ~/.aws/config file, which provides AWS configurations and credentials.",
           "minLength": 1,
           "title": "Name of the AWS configuration profile",
           "type": "string"
          },
          "region_name": {
           "minLength": 1,
           "title": "AWS storage region name",
           "type": "string"
          }
         },
         "type": "object"
        },
        "key": {
         "description": "Can also be set in profile section of ~/.aws/config, or by environment variable AWS_ACCESS_KEY_ID.",
         "minLength": 1,
         "title": "AWS access key identifier.",
         "type": "string"
        },
        "listings_expiry_time": {
         "type": "number"
        },
        "max_paths": {
         "type": "integer"
        },
        "requester_pays": {
         "default": false,
         "description": "If \"RequesterPays\" buckets are supported.",
         "type": "boolean"
        },
        "s3_additional_kwargs": {
         "additionalProperties": true,
         "description": "parameters that are used when calling S3 API methods. Typically used for things like \"ServerSideEncryption\".",
         "properties": {},
         "type": "object"
        },
        "secret": {
         "description": "Can also be set in profile section of ~/.aws/config, or by environment variable AWS_SECRET_ACCESS_KEY.",
         "minLength": 1,
         "title": "AWS secret access key.",
         "type": "string"
        },
        "skip_instance_cache": {
         "type": "boolean"
        },
        "stack_mode": {
         "default": false,
         "description": "If True, 'odc-stac' is used as a default backend.",
         "title": "Decide if stacking of STAC items is applied",
         "type": "boolean"
        },
        "token": {
         "description": "Can also be set in profile section of ~/.aws/config, or by environment variable AWS_SESSION_TOKEN.",
         "minLength": 1,
         "title": "Session token.",
         "type": "string"
        },
        "use_listings_cache": {
         "type": "boolean"
        },
        "use_ssl": {
         "default": true,
         "description": "Whether to use SSL in connections to S3; may be faster without, but insecure.",
         "type": "boolean"
        }
       },
       "type": "object"
      },
      "text/plain": [
       "<xcube.util.jsonschema.JsonObjectSchema at 0x739ff9a690f0>"
      ]
     },
     "execution_count": 3,
     "metadata": {},
     "output_type": "execute_result"
    }
   ],
   "source": [
    "%%time\n",
    "store_params = get_data_store_params_schema(\"stac-cdse\")\n",
    "store_params"
   ]
  },
  {
   "cell_type": "markdown",
   "metadata": {},
   "source": [
    "Note that the user does not need to provide the URL for the [CDSE STAC API](https://documentation.dataspace.copernicus.eu/APIs/STAC.html). Only the key and secret for S3 access are required when initializing a `stac-cdse` [data store](https://xcube.readthedocs.io/en/latest/dataaccess.html#data-store-framework). First, we will initialize a store supporting the stacking mode. Then, for completeness, we will initialize a store in single-tile mode."
   ]
  },
  {
   "cell_type": "code",
   "execution_count": 4,
   "metadata": {},
   "outputs": [
    {
     "name": "stdout",
     "output_type": "stream",
     "text": [
      "CPU times: user 9.63 ms, sys: 0 ns, total: 9.63 ms\n",
      "Wall time: 171 ms\n"
     ]
    }
   ],
   "source": [
    "%%time\n",
    "store = new_data_store(\"stac-cdse\", stack_mode=True, **credentials)"
   ]
  },
  {
   "cell_type": "markdown",
   "metadata": {},
   "source": [
    "The data IDs point to a STAC collections. So far only `'sentinel-2-l2a'` is supported."
   ]
  },
  {
   "cell_type": "code",
   "execution_count": 5,
   "metadata": {
    "scrolled": true
   },
   "outputs": [
    {
     "name": "stdout",
     "output_type": "stream",
     "text": [
      "CPU times: user 60.8 ms, sys: 1.07 ms, total: 61.9 ms\n",
      "Wall time: 393 ms\n"
     ]
    },
    {
     "data": {
      "text/plain": [
       "['sentinel-3-olci-2-wfr-nrt',\n",
       " 'sentinel-1-mosaic',\n",
       " 'sentinel-3-sl-2-aod-nrt',\n",
       " 'sentinel-1-grd',\n",
       " 'sentinel-2-l2a',\n",
       " 'sentinel-2-l1c',\n",
       " 'sentinel-2-global-mosaics',\n",
       " 'sentinel-3-sl-2-wst-nrt',\n",
       " 'sentinel-3-olci-1-efr-nrt',\n",
       " 'sentinel-3-olci-2-wrr-nrt',\n",
       " 'sentinel-3-sl-2-lst-ntc',\n",
       " 'sentinel-3-olci-1-efr-ntc',\n",
       " 'sentinel-3-olci-2-wfr-ntc',\n",
       " 'sentinel-3-olci-2-lfr-nrt',\n",
       " 'sentinel-3-sl-2-wst-ntc',\n",
       " 'sentinel-3-olci-1-err-nrt',\n",
       " 'sentinel-3-olci-2-lfr-ntc',\n",
       " 'sentinel-3-sl-2-frp-ntc',\n",
       " 'sentinel-3-olci-1-err-ntc',\n",
       " 'sentinel-3-sl-1-rbt-ntc',\n",
       " 'sentinel-3-olci-2-lrr-ntc',\n",
       " 'sentinel-3-sl-2-lst-nrt',\n",
       " 'sentinel-3-sl-1-rbt-nrt',\n",
       " 'sentinel-3-olci-2-lrr-nrt',\n",
       " 'sentinel-3-sl-2-frp-nrt',\n",
       " 'sentinel-5p-l1-ra-bd2-offl',\n",
       " 'sentinel-3-sr-1-sra-a-nrt',\n",
       " 'sentinel-5p-l1-ra-bd2-nrti',\n",
       " 'sentinel-3-sr-1-sra-a-stc',\n",
       " 'sentinel-5p-l1-ra-bd1-rpro',\n",
       " 'sentinel-3-sr-1-sra-a-ntc',\n",
       " 'sentinel-3-sr-1-sra-bs-ntc',\n",
       " 'sentinel-5p-l1-ra-bd5-nrti',\n",
       " 'sentinel-3-sr-1-sra-bs-stc',\n",
       " 'sentinel-5p-l1-ra-bd6-offl',\n",
       " 'sentinel-5p-l1-ra-bd4-nrti',\n",
       " 'sentinel-3-sr-1-sra-stc',\n",
       " 'sentinel-3-olci-2-wrr-ntc',\n",
       " 'sentinel-5p-l1-ra-bd1-nrti',\n",
       " 'sentinel-3-sr-1-sra-ntc',\n",
       " 'sentinel-5p-l1-ra-bd3-nrti',\n",
       " 'sentinel-3-sr-1-sra-nrt',\n",
       " 'sentinel-5p-l1-ra-bd6-rpro',\n",
       " 'sentinel-3-sr-2-lan-hy-nrt',\n",
       " 'sentinel-5p-l1-ra-bd5-rpro',\n",
       " 'sentinel-3-sr-2-lan-hy-stc',\n",
       " 'sentinel-5p-l1-ra-bd8-rpro',\n",
       " 'sentinel-3-sr-2-lan-hy-ntc',\n",
       " 'sentinel-5p-l1-ra-bd3-rpro',\n",
       " 'sentinel-3-sr-2-lan-li-ntc',\n",
       " 'sentinel-5p-l1-ra-bd7-offl',\n",
       " 'sentinel-3-sr-2-lan-li-stc',\n",
       " 'sentinel-5p-l1-ra-bd6-nrti',\n",
       " 'sentinel-3-sr-2-lan-li-nrt',\n",
       " 'sentinel-5p-l1-ra-bd5-offl',\n",
       " 'sentinel-3-sr-2-lan-si-stc',\n",
       " 'sentinel-5p-l1-ra-bd8-offl',\n",
       " 'sentinel-3-sr-2-lan-si-nrt',\n",
       " 'sentinel-5p-l1-ra-bd2-rpro',\n",
       " 'sentinel-3-sr-2-lan-si-ntc',\n",
       " 'sentinel-5p-l1-ra-bd4-offl',\n",
       " 'sentinel-3-sr-2-lan-nrt',\n",
       " 'sentinel-5p-l1-ra-bd7-rpro',\n",
       " 'sentinel-3-sr-2-lan-stc',\n",
       " 'sentinel-5p-l1-ra-bd8-nrti',\n",
       " 'sentinel-3-sr-2-lan-ntc',\n",
       " 'sentinel-5p-l1-ra-bd4-rpro',\n",
       " 'sentinel-3-sr-2-wat-stc',\n",
       " 'sentinel-5p-l1-ra-bd7-nrti',\n",
       " 'sentinel-3-sr-2-wat-nrt',\n",
       " 'sentinel-5p-l1-ra-bd3-offl',\n",
       " 'sentinel-3-sr-2-wat-ntc',\n",
       " 'sentinel-5p-l1-ra-bd1-offl',\n",
       " 'sentinel-3-syn-2-aod-ntc',\n",
       " 'sentinel-5p-l2-aer-ai-nrti',\n",
       " 'sentinel-3-syn-2-syn-stc',\n",
       " 'sentinel-5p-l2-aer-ai-offl',\n",
       " 'sentinel-3-syn-2-syn-ntc',\n",
       " 'sentinel-5p-l2-aer-ai-rpro',\n",
       " 'sentinel-3-syn-2-v10-ntc',\n",
       " 'sentinel-5p-l2-aer-lh-nrti',\n",
       " 'sentinel-3-syn-2-v10-stc',\n",
       " 'sentinel-5p-l2-aer-lh-offl',\n",
       " 'sentinel-3-syn-2-vg1-ntc',\n",
       " 'sentinel-5p-l2-aer-lh-rpro',\n",
       " 'sentinel-3-syn-2-vg1-stc',\n",
       " 'sentinel-5p-l2-ch4-offl',\n",
       " 'sentinel-3-syn-2-vgp-stc',\n",
       " 'sentinel-5p-l2-ch4-rpro',\n",
       " 'sentinel-3-syn-2-vgp-ntc',\n",
       " 'sentinel-5p-l2-cloud-nrti',\n",
       " 'sentinel-5p-l2-cloud-offl',\n",
       " 'sentinel-5p-l2-cloud-rpro',\n",
       " 'sentinel-5p-l2-co-rpro',\n",
       " 'sentinel-5p-l2-co-nrti',\n",
       " 'sentinel-5p-l2-co-offl',\n",
       " 'sentinel-5p-l2-hcho-nrti',\n",
       " 'sentinel-5p-l2-hcho-rpro',\n",
       " 'sentinel-5p-l2-hcho-offl',\n",
       " 'sentinel-5p-l2-no2-offl',\n",
       " 'sentinel-5p-l2-no2-rpro',\n",
       " 'sentinel-5p-l2-no2-nrti',\n",
       " 'sentinel-5p-l2-np-bd3-rpro',\n",
       " 'sentinel-5p-l2-np-bd3-offl',\n",
       " 'sentinel-5p-l2-np-bd6-rpro',\n",
       " 'sentinel-5p-l2-np-bd6-offl',\n",
       " 'sentinel-5p-l2-np-bd7-rpro',\n",
       " 'sentinel-5p-l2-np-bd7-offl',\n",
       " 'sentinel-5p-l2-o3-pr-nrti',\n",
       " 'sentinel-5p-l2-o3-pr-rpro',\n",
       " 'sentinel-5p-l2-o3-pr-offl',\n",
       " 'sentinel-5p-l2-o3-tcl-offl',\n",
       " 'sentinel-5p-l2-o3-tcl-nrti',\n",
       " 'sentinel-5p-l2-o3-tcl-rpro',\n",
       " 'sentinel-5p-l2-o3-rpro',\n",
       " 'sentinel-5p-l2-o3-nrti',\n",
       " 'sentinel-5p-l2-o3-offl',\n",
       " 'sentinel-5p-l2-so2-offl',\n",
       " 'sentinel-5p-l2-so2-nrti',\n",
       " 'sentinel-5p-l2-so2-rpro']"
      ]
     },
     "execution_count": 5,
     "metadata": {},
     "output_type": "execute_result"
    }
   ],
   "source": [
    "%%time\n",
    "data_ids = store.list_data_ids()\n",
    "data_ids"
   ]
  },
  {
   "cell_type": "markdown",
   "metadata": {},
   "source": [
    "Below, the parameters for the `open_data` method can be viewed."
   ]
  },
  {
   "cell_type": "code",
   "execution_count": 6,
   "metadata": {},
   "outputs": [
    {
     "name": "stdout",
     "output_type": "stream",
     "text": [
      "CPU times: user 29 μs, sys: 3 μs, total: 32 μs\n",
      "Wall time: 33.4 μs\n"
     ]
    },
    {
     "data": {
      "application/json": {
       "additionalProperties": false,
       "properties": {
        "angles_sentinel2": {
         "default": false,
         "description": "Viewing and solar angles will be extracted for all spectral bands defined in keyword `asset_name`.",
         "title": "Add viewing and solar angles from Sentinel2 metadata.",
         "type": "boolean"
        },
        "apply_scaling": {
         "title": "Apply scaling, offset, and no-data values to data.",
         "type": "boolean"
        },
        "asset_names": {
         "description": "Names of assets which will be included in the data cube.",
         "items": {
          "minLength": 0,
          "type": "string"
         },
         "title": "Names of assets",
         "type": "array",
         "uniqueItems": true
        },
        "bbox": {
         "items": [
          {
           "type": "number"
          },
          {
           "type": "number"
          },
          {
           "type": "number"
          },
          {
           "type": "number"
          }
         ],
         "title": "Bounding box [x1,y1,x2,y2] in geographical coordinates.",
         "type": "array"
        },
        "crs": {
         "default": "EPSG:4326",
         "title": "Coordinate reference system",
         "type": "string"
        },
        "data_opener_open_params": {
         "additionalProperties": false,
         "properties": {
          "dataset:geotiff": {
           "additionalProperties": false,
           "properties": {
            "overview_level": {
             "default": null,
             "description": "GeoTIFF overview level. 0 is the first overview.",
             "type": [
              "integer",
              "null"
             ]
            },
            "tile_size": {
             "default": [
              512,
              512
             ],
             "items": [
              {
               "default": 512,
               "minimum": 256,
               "type": "number"
              },
              {
               "default": 512,
               "minimum": 256,
               "type": "number"
              }
             ],
             "type": "array"
            }
           },
           "type": "object"
          },
          "dataset:jp2": {
           "additionalProperties": false,
           "properties": {
            "overview_level": {
             "default": null,
             "description": "GeoTIFF overview level. 0 is the first overview.",
             "type": [
              "integer",
              "null"
             ]
            },
            "tile_size": {
             "default": [
              512,
              512
             ],
             "items": [
              {
               "default": 512,
               "minimum": 256,
               "type": "number"
              },
              {
               "default": 512,
               "minimum": 256,
               "type": "number"
              }
             ],
             "type": "array"
            }
           },
           "type": "object"
          },
          "dataset:levels": {
           "additionalProperties": true,
           "properties": {
            "cache_size": {
             "minimum": 0,
             "type": "integer"
            },
            "chunks": {
             "additionalProperties": true,
             "description": "Optional chunk sizes along each dimension. Chunk size values may be None, \"auto\" or an integer value.",
             "examples": [
              {
               "lat": "auto",
               "lon": 90,
               "time": null
              },
              {
               "time": 1,
               "x": 512,
               "y": 512
              }
             ],
             "properties": {},
             "type": "object"
            },
            "consolidated": {
             "default": false,
             "description": "Whether to open the store using Zarr's consolidated metadata capability. Only works for stores that have already been consolidated.",
             "type": "boolean"
            },
            "decode_cf": {
             "default": true,
             "description": "Whether to decode these variables, assuming they were saved according to CF conventions.",
             "type": "boolean"
            },
            "decode_coords": {
             "default": true,
             "description": "If True, decode the \"coordinates\" attribute to identify coordinates in the resulting dataset.",
             "type": "boolean"
            },
            "decode_times": {
             "default": true,
             "description": "If True, decode times encoded in the standard NetCDF datetime format into datetime objects. Otherwise, leave them encoded as numbers.",
             "type": "boolean"
            },
            "drop_variables": {
             "items": {
              "minLength": 1,
              "type": "string"
             },
             "type": "array"
            },
            "engine": {
             "description": "xarray backend name.",
             "minLength": 1,
             "type": "string"
            },
            "group": {
             "description": "Group path. (a.k.a. path in zarr terminology.).",
             "minLength": 1,
             "type": "string"
            },
            "log_access": {
             "default": false,
             "type": "boolean"
            },
            "mask_and_scale": {
             "default": true,
             "description": "If True, replace array values equal to attribute \"_FillValue\" with NaN.  Use \"scale_factor\" and \"add_offset\" attributes to compute actual values.",
             "type": "boolean"
            }
           },
           "type": "object"
          },
          "dataset:netcdf": {
           "additionalProperties": true,
           "properties": {},
           "type": "object"
          },
          "dataset:zarr": {
           "additionalProperties": true,
           "properties": {
            "cache_size": {
             "minimum": 0,
             "type": "integer"
            },
            "chunks": {
             "additionalProperties": true,
             "description": "Optional chunk sizes along each dimension. Chunk size values may be None, \"auto\" or an integer value.",
             "examples": [
              {
               "lat": "auto",
               "lon": 90,
               "time": null
              },
              {
               "time": 1,
               "x": 512,
               "y": 512
              }
             ],
             "properties": {},
             "type": "object"
            },
            "consolidated": {
             "default": false,
             "description": "Whether to open the store using Zarr's consolidated metadata capability. Only works for stores that have already been consolidated.",
             "type": "boolean"
            },
            "decode_cf": {
             "default": true,
             "description": "Whether to decode these variables, assuming they were saved according to CF conventions.",
             "type": "boolean"
            },
            "decode_coords": {
             "default": true,
             "description": "If True, decode the \"coordinates\" attribute to identify coordinates in the resulting dataset.",
             "type": "boolean"
            },
            "decode_times": {
             "default": true,
             "description": "If True, decode times encoded in the standard NetCDF datetime format into datetime objects. Otherwise, leave them encoded as numbers.",
             "type": "boolean"
            },
            "drop_variables": {
             "items": {
              "minLength": 1,
              "type": "string"
             },
             "type": "array"
            },
            "engine": {
             "description": "xarray backend name.",
             "minLength": 1,
             "type": "string"
            },
            "group": {
             "description": "Group path. (a.k.a. path in zarr terminology.).",
             "minLength": 1,
             "type": "string"
            },
            "log_access": {
             "default": false,
             "type": "boolean"
            },
            "mask_and_scale": {
             "default": true,
             "description": "If True, replace array values equal to attribute \"_FillValue\" with NaN.  Use \"scale_factor\" and \"add_offset\" attributes to compute actual values.",
             "type": "boolean"
            }
           },
           "type": "object"
          },
          "mldataset:geotiff": {
           "additionalProperties": false,
           "properties": {
            "tile_size": {
             "default": [
              512,
              512
             ],
             "items": [
              {
               "default": 512,
               "minimum": 256,
               "type": "number"
              },
              {
               "default": 512,
               "minimum": 256,
               "type": "number"
              }
             ],
             "type": "array"
            }
           },
           "type": "object"
          },
          "mldataset:jp2": {
           "additionalProperties": false,
           "properties": {
            "tile_size": {
             "default": [
              512,
              512
             ],
             "items": [
              {
               "default": 512,
               "minimum": 256,
               "type": "number"
              },
              {
               "default": 512,
               "minimum": 256,
               "type": "number"
              }
             ],
             "type": "array"
            }
           },
           "type": "object"
          },
          "mldataset:levels": {
           "additionalProperties": true,
           "properties": {
            "cache_size": {
             "minimum": 0,
             "type": "integer"
            },
            "chunks": {
             "additionalProperties": true,
             "description": "Optional chunk sizes along each dimension. Chunk size values may be None, \"auto\" or an integer value.",
             "examples": [
              {
               "lat": "auto",
               "lon": 90,
               "time": null
              },
              {
               "time": 1,
               "x": 512,
               "y": 512
              }
             ],
             "properties": {},
             "type": "object"
            },
            "consolidated": {
             "default": false,
             "description": "Whether to open the store using Zarr's consolidated metadata capability. Only works for stores that have already been consolidated.",
             "type": "boolean"
            },
            "decode_cf": {
             "default": true,
             "description": "Whether to decode these variables, assuming they were saved according to CF conventions.",
             "type": "boolean"
            },
            "decode_coords": {
             "default": true,
             "description": "If True, decode the \"coordinates\" attribute to identify coordinates in the resulting dataset.",
             "type": "boolean"
            },
            "decode_times": {
             "default": true,
             "description": "If True, decode times encoded in the standard NetCDF datetime format into datetime objects. Otherwise, leave them encoded as numbers.",
             "type": "boolean"
            },
            "drop_variables": {
             "items": {
              "minLength": 1,
              "type": "string"
             },
             "type": "array"
            },
            "engine": {
             "description": "xarray backend name.",
             "minLength": 1,
             "type": "string"
            },
            "group": {
             "description": "Group path. (a.k.a. path in zarr terminology.).",
             "minLength": 1,
             "type": "string"
            },
            "log_access": {
             "default": false,
             "type": "boolean"
            },
            "mask_and_scale": {
             "default": true,
             "description": "If True, replace array values equal to attribute \"_FillValue\" with NaN.  Use \"scale_factor\" and \"add_offset\" attributes to compute actual values.",
             "type": "boolean"
            }
           },
           "type": "object"
          }
         },
         "type": "object"
        },
        "query": {
         "additionalProperties": true,
         "description": "If STAC Catalog is conform with query extension, additional filtering based on the properties of Item objects is supported. For more information see https://github.com/stac-api-extensions/query",
         "properties": {},
         "title": "Additional query options used during item search of STAC API.",
         "type": "object"
        },
        "spatial_res": {
         "exclusiveMinimum": 0,
         "title": "Spatial Resolution",
         "type": "number"
        },
        "tile_size": {
         "default": [
          1024,
          1024
         ],
         "description": "Tile size in y and x (or lat and lon if crs is geographic) of returned dataset",
         "items": [
          {
           "minimum": 1,
           "type": "integer"
          },
          {
           "minimum": 1,
           "type": "integer"
          }
         ],
         "title": "Tile size of returned dataset",
         "type": [
          "array",
          "null"
         ]
        },
        "time_range": {
         "description": "Time range given as pair of start and stop dates. Dates must be given using format 'YYYY-MM-DD'. Start and stop are inclusive.",
         "items": [
          {
           "format": "date",
           "type": [
            "string",
            "null"
           ]
          },
          {
           "format": "date",
           "type": [
            "string",
            "null"
           ]
          }
         ],
         "title": "Time Range",
         "type": "array"
        }
       },
       "required": [
        "time_range",
        "bbox",
        "crs",
        "spatial_res"
       ],
       "type": "object"
      },
      "text/plain": [
       "<xcube.util.jsonschema.JsonObjectSchema at 0x739ff99facf0>"
      ]
     },
     "execution_count": 6,
     "metadata": {},
     "output_type": "execute_result"
    }
   ],
   "source": [
    "%%time\n",
    "open_params = store.get_open_data_params_schema()\n",
    "open_params"
   ]
  },
  {
   "cell_type": "markdown",
   "metadata": {},
   "source": [
    "So far, only data from the collection `sentinel-2-l2a` can be accessed. We therefore assign `data_id` to `\"sentinel-2-l2a\"`. We set the bounding box to cover the greater Hamburg area and the time range to second half of July 2020."
   ]
  },
  {
   "cell_type": "code",
   "execution_count": null,
   "metadata": {},
   "outputs": [],
   "source": [
    "%%time\n",
    "ds = store.open_data(\n",
    "    data_id=\"sentinel-2-l2a\",\n",
    "    bbox=[9.1, 53.1, 10.7, 54],\n",
    "    time_range=[\"2020-07-15\", \"2020-08-01\"],\n",
    "    spatial_res=10 / 111320, # meter in degree\n",
    "    crs=\"EPSG:4326\",\n",
    "    asset_names=[\"B02\", \"B03\", \"B04\", \"SCL\"],\n",
    "    apply_scaling=True,\n",
    "    angles_sentinel2=True,\n",
    ")\n",
    "ds"
   ]
  },
  {
   "cell_type": "markdown",
   "metadata": {},
   "source": [
    "We can plot the B04 (red) band for a given timestamp as an example. Hereby a mosaicking of multiple tiles have been applied. Additionally, we plot the solar and viewing angle.\n"
   ]
  },
  {
   "cell_type": "code",
   "execution_count": null,
   "metadata": {},
   "outputs": [],
   "source": [
    "%%time\n",
    "fig, ax = plt.subplots(1, 3, figsize=(20, 6))\n",
    "ds.B04.isel(time=-1)[::10, ::10].plot(ax=ax[0], vmin=0, vmax=0.2)\n",
    "ds.solar_angle.isel(angle=0, time=-1).plot(ax=ax[1])\n",
    "ds.viewing_angle.isel(band=2, angle=0, time=-1).plot(ax=ax[2])"
   ]
  },
  {
   "cell_type": "markdown",
   "metadata": {},
   "source": [
    "The data access can be speed up when requesting the data in the UTM CRS which is the native UTM of the Sentinel-2 products. "
   ]
  },
  {
   "cell_type": "code",
   "execution_count": 8,
   "metadata": {},
   "outputs": [
    {
     "name": "stdout",
     "output_type": "stream",
     "text": [
      "CPU times: user 1.1 ms, sys: 6 μs, total: 1.11 ms\n",
      "Wall time: 558 μs\n"
     ]
    }
   ],
   "source": [
    "%%time\n",
    "bbox = [9.1, 53.1, 10.7, 54]\n",
    "crs_target = \"EPSG:32632\"\n",
    "bbox_utm = reproject_bbox(bbox, \"EPSG:4326\", crs_target)"
   ]
  },
  {
   "cell_type": "code",
   "execution_count": 9,
   "metadata": {},
   "outputs": [
    {
     "name": "stdout",
     "output_type": "stream",
     "text": [
      "CPU times: user 32.6 s, sys: 1.21 s, total: 33.8 s\n",
      "Wall time: 1min 10s\n"
     ]
    },
    {
     "data": {
      "text/html": [
       "<div><svg style=\"position: absolute; width: 0; height: 0; overflow: hidden\">\n",
       "<defs>\n",
       "<symbol id=\"icon-database\" viewBox=\"0 0 32 32\">\n",
       "<path d=\"M16 0c-8.837 0-16 2.239-16 5v4c0 2.761 7.163 5 16 5s16-2.239 16-5v-4c0-2.761-7.163-5-16-5z\"></path>\n",
       "<path d=\"M16 17c-8.837 0-16-2.239-16-5v6c0 2.761 7.163 5 16 5s16-2.239 16-5v-6c0 2.761-7.163 5-16 5z\"></path>\n",
       "<path d=\"M16 26c-8.837 0-16-2.239-16-5v6c0 2.761 7.163 5 16 5s16-2.239 16-5v-6c0 2.761-7.163 5-16 5z\"></path>\n",
       "</symbol>\n",
       "<symbol id=\"icon-file-text2\" viewBox=\"0 0 32 32\">\n",
       "<path d=\"M28.681 7.159c-0.694-0.947-1.662-2.053-2.724-3.116s-2.169-2.030-3.116-2.724c-1.612-1.182-2.393-1.319-2.841-1.319h-15.5c-1.378 0-2.5 1.121-2.5 2.5v27c0 1.378 1.122 2.5 2.5 2.5h23c1.378 0 2.5-1.122 2.5-2.5v-19.5c0-0.448-0.137-1.23-1.319-2.841zM24.543 5.457c0.959 0.959 1.712 1.825 2.268 2.543h-4.811v-4.811c0.718 0.556 1.584 1.309 2.543 2.268zM28 29.5c0 0.271-0.229 0.5-0.5 0.5h-23c-0.271 0-0.5-0.229-0.5-0.5v-27c0-0.271 0.229-0.5 0.5-0.5 0 0 15.499-0 15.5 0v7c0 0.552 0.448 1 1 1h7v19.5z\"></path>\n",
       "<path d=\"M23 26h-14c-0.552 0-1-0.448-1-1s0.448-1 1-1h14c0.552 0 1 0.448 1 1s-0.448 1-1 1z\"></path>\n",
       "<path d=\"M23 22h-14c-0.552 0-1-0.448-1-1s0.448-1 1-1h14c0.552 0 1 0.448 1 1s-0.448 1-1 1z\"></path>\n",
       "<path d=\"M23 18h-14c-0.552 0-1-0.448-1-1s0.448-1 1-1h14c0.552 0 1 0.448 1 1s-0.448 1-1 1z\"></path>\n",
       "</symbol>\n",
       "</defs>\n",
       "</svg>\n",
       "<style>/* CSS stylesheet for displaying xarray objects in jupyterlab.\n",
       " *\n",
       " */\n",
       "\n",
       ":root {\n",
       "  --xr-font-color0: var(--jp-content-font-color0, rgba(0, 0, 0, 1));\n",
       "  --xr-font-color2: var(--jp-content-font-color2, rgba(0, 0, 0, 0.54));\n",
       "  --xr-font-color3: var(--jp-content-font-color3, rgba(0, 0, 0, 0.38));\n",
       "  --xr-border-color: var(--jp-border-color2, #e0e0e0);\n",
       "  --xr-disabled-color: var(--jp-layout-color3, #bdbdbd);\n",
       "  --xr-background-color: var(--jp-layout-color0, white);\n",
       "  --xr-background-color-row-even: var(--jp-layout-color1, white);\n",
       "  --xr-background-color-row-odd: var(--jp-layout-color2, #eeeeee);\n",
       "}\n",
       "\n",
       "html[theme=\"dark\"],\n",
       "html[data-theme=\"dark\"],\n",
       "body[data-theme=\"dark\"],\n",
       "body.vscode-dark {\n",
       "  --xr-font-color0: rgba(255, 255, 255, 1);\n",
       "  --xr-font-color2: rgba(255, 255, 255, 0.54);\n",
       "  --xr-font-color3: rgba(255, 255, 255, 0.38);\n",
       "  --xr-border-color: #1f1f1f;\n",
       "  --xr-disabled-color: #515151;\n",
       "  --xr-background-color: #111111;\n",
       "  --xr-background-color-row-even: #111111;\n",
       "  --xr-background-color-row-odd: #313131;\n",
       "}\n",
       "\n",
       ".xr-wrap {\n",
       "  display: block !important;\n",
       "  min-width: 300px;\n",
       "  max-width: 700px;\n",
       "}\n",
       "\n",
       ".xr-text-repr-fallback {\n",
       "  /* fallback to plain text repr when CSS is not injected (untrusted notebook) */\n",
       "  display: none;\n",
       "}\n",
       "\n",
       ".xr-header {\n",
       "  padding-top: 6px;\n",
       "  padding-bottom: 6px;\n",
       "  margin-bottom: 4px;\n",
       "  border-bottom: solid 1px var(--xr-border-color);\n",
       "}\n",
       "\n",
       ".xr-header > div,\n",
       ".xr-header > ul {\n",
       "  display: inline;\n",
       "  margin-top: 0;\n",
       "  margin-bottom: 0;\n",
       "}\n",
       "\n",
       ".xr-obj-type,\n",
       ".xr-array-name {\n",
       "  margin-left: 2px;\n",
       "  margin-right: 10px;\n",
       "}\n",
       "\n",
       ".xr-obj-type {\n",
       "  color: var(--xr-font-color2);\n",
       "}\n",
       "\n",
       ".xr-sections {\n",
       "  padding-left: 0 !important;\n",
       "  display: grid;\n",
       "  grid-template-columns: 150px auto auto 1fr 0 20px 0 20px;\n",
       "}\n",
       "\n",
       ".xr-section-item {\n",
       "  display: contents;\n",
       "}\n",
       "\n",
       ".xr-section-item input {\n",
       "  display: inline-block;\n",
       "  opacity: 0;\n",
       "  height: 0;\n",
       "}\n",
       "\n",
       ".xr-section-item input + label {\n",
       "  color: var(--xr-disabled-color);\n",
       "}\n",
       "\n",
       ".xr-section-item input:enabled + label {\n",
       "  cursor: pointer;\n",
       "  color: var(--xr-font-color2);\n",
       "}\n",
       "\n",
       ".xr-section-item input:focus + label {\n",
       "  border: 2px solid var(--xr-font-color0);\n",
       "}\n",
       "\n",
       ".xr-section-item input:enabled + label:hover {\n",
       "  color: var(--xr-font-color0);\n",
       "}\n",
       "\n",
       ".xr-section-summary {\n",
       "  grid-column: 1;\n",
       "  color: var(--xr-font-color2);\n",
       "  font-weight: 500;\n",
       "}\n",
       "\n",
       ".xr-section-summary > span {\n",
       "  display: inline-block;\n",
       "  padding-left: 0.5em;\n",
       "}\n",
       "\n",
       ".xr-section-summary-in:disabled + label {\n",
       "  color: var(--xr-font-color2);\n",
       "}\n",
       "\n",
       ".xr-section-summary-in + label:before {\n",
       "  display: inline-block;\n",
       "  content: \"►\";\n",
       "  font-size: 11px;\n",
       "  width: 15px;\n",
       "  text-align: center;\n",
       "}\n",
       "\n",
       ".xr-section-summary-in:disabled + label:before {\n",
       "  color: var(--xr-disabled-color);\n",
       "}\n",
       "\n",
       ".xr-section-summary-in:checked + label:before {\n",
       "  content: \"▼\";\n",
       "}\n",
       "\n",
       ".xr-section-summary-in:checked + label > span {\n",
       "  display: none;\n",
       "}\n",
       "\n",
       ".xr-section-summary,\n",
       ".xr-section-inline-details {\n",
       "  padding-top: 4px;\n",
       "  padding-bottom: 4px;\n",
       "}\n",
       "\n",
       ".xr-section-inline-details {\n",
       "  grid-column: 2 / -1;\n",
       "}\n",
       "\n",
       ".xr-section-details {\n",
       "  display: none;\n",
       "  grid-column: 1 / -1;\n",
       "  margin-bottom: 5px;\n",
       "}\n",
       "\n",
       ".xr-section-summary-in:checked ~ .xr-section-details {\n",
       "  display: contents;\n",
       "}\n",
       "\n",
       ".xr-array-wrap {\n",
       "  grid-column: 1 / -1;\n",
       "  display: grid;\n",
       "  grid-template-columns: 20px auto;\n",
       "}\n",
       "\n",
       ".xr-array-wrap > label {\n",
       "  grid-column: 1;\n",
       "  vertical-align: top;\n",
       "}\n",
       "\n",
       ".xr-preview {\n",
       "  color: var(--xr-font-color3);\n",
       "}\n",
       "\n",
       ".xr-array-preview,\n",
       ".xr-array-data {\n",
       "  padding: 0 5px !important;\n",
       "  grid-column: 2;\n",
       "}\n",
       "\n",
       ".xr-array-data,\n",
       ".xr-array-in:checked ~ .xr-array-preview {\n",
       "  display: none;\n",
       "}\n",
       "\n",
       ".xr-array-in:checked ~ .xr-array-data,\n",
       ".xr-array-preview {\n",
       "  display: inline-block;\n",
       "}\n",
       "\n",
       ".xr-dim-list {\n",
       "  display: inline-block !important;\n",
       "  list-style: none;\n",
       "  padding: 0 !important;\n",
       "  margin: 0;\n",
       "}\n",
       "\n",
       ".xr-dim-list li {\n",
       "  display: inline-block;\n",
       "  padding: 0;\n",
       "  margin: 0;\n",
       "}\n",
       "\n",
       ".xr-dim-list:before {\n",
       "  content: \"(\";\n",
       "}\n",
       "\n",
       ".xr-dim-list:after {\n",
       "  content: \")\";\n",
       "}\n",
       "\n",
       ".xr-dim-list li:not(:last-child):after {\n",
       "  content: \",\";\n",
       "  padding-right: 5px;\n",
       "}\n",
       "\n",
       ".xr-has-index {\n",
       "  font-weight: bold;\n",
       "}\n",
       "\n",
       ".xr-var-list,\n",
       ".xr-var-item {\n",
       "  display: contents;\n",
       "}\n",
       "\n",
       ".xr-var-item > div,\n",
       ".xr-var-item label,\n",
       ".xr-var-item > .xr-var-name span {\n",
       "  background-color: var(--xr-background-color-row-even);\n",
       "  margin-bottom: 0;\n",
       "}\n",
       "\n",
       ".xr-var-item > .xr-var-name:hover span {\n",
       "  padding-right: 5px;\n",
       "}\n",
       "\n",
       ".xr-var-list > li:nth-child(odd) > div,\n",
       ".xr-var-list > li:nth-child(odd) > label,\n",
       ".xr-var-list > li:nth-child(odd) > .xr-var-name span {\n",
       "  background-color: var(--xr-background-color-row-odd);\n",
       "}\n",
       "\n",
       ".xr-var-name {\n",
       "  grid-column: 1;\n",
       "}\n",
       "\n",
       ".xr-var-dims {\n",
       "  grid-column: 2;\n",
       "}\n",
       "\n",
       ".xr-var-dtype {\n",
       "  grid-column: 3;\n",
       "  text-align: right;\n",
       "  color: var(--xr-font-color2);\n",
       "}\n",
       "\n",
       ".xr-var-preview {\n",
       "  grid-column: 4;\n",
       "}\n",
       "\n",
       ".xr-index-preview {\n",
       "  grid-column: 2 / 5;\n",
       "  color: var(--xr-font-color2);\n",
       "}\n",
       "\n",
       ".xr-var-name,\n",
       ".xr-var-dims,\n",
       ".xr-var-dtype,\n",
       ".xr-preview,\n",
       ".xr-attrs dt {\n",
       "  white-space: nowrap;\n",
       "  overflow: hidden;\n",
       "  text-overflow: ellipsis;\n",
       "  padding-right: 10px;\n",
       "}\n",
       "\n",
       ".xr-var-name:hover,\n",
       ".xr-var-dims:hover,\n",
       ".xr-var-dtype:hover,\n",
       ".xr-attrs dt:hover {\n",
       "  overflow: visible;\n",
       "  width: auto;\n",
       "  z-index: 1;\n",
       "}\n",
       "\n",
       ".xr-var-attrs,\n",
       ".xr-var-data,\n",
       ".xr-index-data {\n",
       "  display: none;\n",
       "  background-color: var(--xr-background-color) !important;\n",
       "  padding-bottom: 5px !important;\n",
       "}\n",
       "\n",
       ".xr-var-attrs-in:checked ~ .xr-var-attrs,\n",
       ".xr-var-data-in:checked ~ .xr-var-data,\n",
       ".xr-index-data-in:checked ~ .xr-index-data {\n",
       "  display: block;\n",
       "}\n",
       "\n",
       ".xr-var-data > table {\n",
       "  float: right;\n",
       "}\n",
       "\n",
       ".xr-var-name span,\n",
       ".xr-var-data,\n",
       ".xr-index-name div,\n",
       ".xr-index-data,\n",
       ".xr-attrs {\n",
       "  padding-left: 25px !important;\n",
       "}\n",
       "\n",
       ".xr-attrs,\n",
       ".xr-var-attrs,\n",
       ".xr-var-data,\n",
       ".xr-index-data {\n",
       "  grid-column: 1 / -1;\n",
       "}\n",
       "\n",
       "dl.xr-attrs {\n",
       "  padding: 0;\n",
       "  margin: 0;\n",
       "  display: grid;\n",
       "  grid-template-columns: 125px auto;\n",
       "}\n",
       "\n",
       ".xr-attrs dt,\n",
       ".xr-attrs dd {\n",
       "  padding: 0;\n",
       "  margin: 0;\n",
       "  float: left;\n",
       "  padding-right: 10px;\n",
       "  width: auto;\n",
       "}\n",
       "\n",
       ".xr-attrs dt {\n",
       "  font-weight: normal;\n",
       "  grid-column: 1;\n",
       "}\n",
       "\n",
       ".xr-attrs dt:hover span {\n",
       "  display: inline-block;\n",
       "  background: var(--xr-background-color);\n",
       "  padding-right: 10px;\n",
       "}\n",
       "\n",
       ".xr-attrs dd {\n",
       "  grid-column: 2;\n",
       "  white-space: pre-wrap;\n",
       "  word-break: break-all;\n",
       "}\n",
       "\n",
       ".xr-icon-database,\n",
       ".xr-icon-file-text2,\n",
       ".xr-no-icon {\n",
       "  display: inline-block;\n",
       "  vertical-align: middle;\n",
       "  width: 1em;\n",
       "  height: 1.5em !important;\n",
       "  stroke-width: 0;\n",
       "  stroke: currentColor;\n",
       "  fill: currentColor;\n",
       "}\n",
       "</style><pre class='xr-text-repr-fallback'>&lt;xarray.Dataset&gt; Size: 17GB\n",
       "Dimensions:        (time: 11, y: 10147, x: 10727, angle_x: 23, angle_y: 22,\n",
       "                    angle: 2, band: 3)\n",
       "Coordinates:\n",
       "  * time           (time) datetime64[ns] 88B 2020-07-15T10:15:59.024000 ... 2...\n",
       "    spatial_ref    int64 8B 0\n",
       "  * x              (x) float64 86kB 5.066e+05 5.066e+05 ... 6.138e+05 6.138e+05\n",
       "  * y              (y) float64 81kB 5.985e+06 5.985e+06 ... 5.883e+06 5.883e+06\n",
       "  * angle_x        (angle_x) float64 184B 5.066e+05 5.116e+05 ... 6.166e+05\n",
       "  * angle_y        (angle_y) float64 176B 5.988e+06 5.983e+06 ... 5.883e+06\n",
       "  * angle          (angle) object 16B &#x27;zenith&#x27; &#x27;azimuth&#x27;\n",
       "  * band           (band) &lt;U3 36B &#x27;B02&#x27; &#x27;B03&#x27; &#x27;B04&#x27;\n",
       "Data variables:\n",
       "    B02            (time, y, x) float32 5GB dask.array&lt;chunksize=(1, 2048, 2048), meta=np.ndarray&gt;\n",
       "    B03            (time, y, x) float32 5GB dask.array&lt;chunksize=(1, 2048, 2048), meta=np.ndarray&gt;\n",
       "    B04            (time, y, x) float32 5GB dask.array&lt;chunksize=(1, 2048, 2048), meta=np.ndarray&gt;\n",
       "    SCL            (time, y, x) uint16 2GB dask.array&lt;chunksize=(1, 2048, 2048), meta=np.ndarray&gt;\n",
       "    solar_angle    (angle, time, angle_y, angle_x) float32 45kB dask.array&lt;chunksize=(2, 1, 22, 23), meta=np.ndarray&gt;\n",
       "    viewing_angle  (angle, band, time, angle_y, angle_x) float32 134kB dask.array&lt;chunksize=(2, 3, 1, 22, 23), meta=np.ndarray&gt;\n",
       "Attributes:\n",
       "    stac_item_ids:     {&#x27;2020-07-15T10:15:59.024000&#x27;: [&#x27;S2B_MSIL2A_20200715T1...\n",
       "    stac_catalog_url:  https://stac.dataspace.copernicus.eu/v1</pre><div class='xr-wrap' style='display:none'><div class='xr-header'><div class='xr-obj-type'>xarray.Dataset</div></div><ul class='xr-sections'><li class='xr-section-item'><input id='section-2a9f14b5-bffd-418a-8bb0-a4cf3328a2d5' class='xr-section-summary-in' type='checkbox' disabled ><label for='section-2a9f14b5-bffd-418a-8bb0-a4cf3328a2d5' class='xr-section-summary'  title='Expand/collapse section'>Dimensions:</label><div class='xr-section-inline-details'><ul class='xr-dim-list'><li><span class='xr-has-index'>time</span>: 11</li><li><span class='xr-has-index'>y</span>: 10147</li><li><span class='xr-has-index'>x</span>: 10727</li><li><span class='xr-has-index'>angle_x</span>: 23</li><li><span class='xr-has-index'>angle_y</span>: 22</li><li><span class='xr-has-index'>angle</span>: 2</li><li><span class='xr-has-index'>band</span>: 3</li></ul></div><div class='xr-section-details'></div></li><li class='xr-section-item'><input id='section-257be51d-fb43-45cc-aaba-3616342c73b7' class='xr-section-summary-in' type='checkbox'  checked><label for='section-257be51d-fb43-45cc-aaba-3616342c73b7' class='xr-section-summary' >Coordinates: <span>(8)</span></label><div class='xr-section-inline-details'></div><div class='xr-section-details'><ul class='xr-var-list'><li class='xr-var-item'><div class='xr-var-name'><span class='xr-has-index'>time</span></div><div class='xr-var-dims'>(time)</div><div class='xr-var-dtype'>datetime64[ns]</div><div class='xr-var-preview xr-preview'>2020-07-15T10:15:59.024000 ... 2...</div><input id='attrs-18bdb13a-6ab2-4158-84c6-7b9c3cb80e76' class='xr-var-attrs-in' type='checkbox' disabled><label for='attrs-18bdb13a-6ab2-4158-84c6-7b9c3cb80e76' title='Show/Hide attributes'><svg class='icon xr-icon-file-text2'><use xlink:href='#icon-file-text2'></use></svg></label><input id='data-291ae9e1-6170-43ac-bf81-430026137afd' class='xr-var-data-in' type='checkbox'><label for='data-291ae9e1-6170-43ac-bf81-430026137afd' title='Show/Hide data repr'><svg class='icon xr-icon-database'><use xlink:href='#icon-database'></use></svg></label><div class='xr-var-attrs'><dl class='xr-attrs'></dl></div><div class='xr-var-data'><pre>array([&#x27;2020-07-15T10:15:59.024000000&#x27;, &#x27;2020-07-16T10:40:31.024000000&#x27;,\n",
       "       &#x27;2020-07-18T10:25:59.024000000&#x27;, &#x27;2020-07-20T10:20:31.024000000&#x27;,\n",
       "       &#x27;2020-07-21T10:36:29.024000000&#x27;, &#x27;2020-07-23T10:30:31.024000000&#x27;,\n",
       "       &#x27;2020-07-25T10:15:59.024000000&#x27;, &#x27;2020-07-26T10:40:31.024000000&#x27;,\n",
       "       &#x27;2020-07-28T10:25:59.024000000&#x27;, &#x27;2020-07-30T10:20:31.024000000&#x27;,\n",
       "       &#x27;2020-07-31T10:36:29.024000000&#x27;], dtype=&#x27;datetime64[ns]&#x27;)</pre></div></li><li class='xr-var-item'><div class='xr-var-name'><span>spatial_ref</span></div><div class='xr-var-dims'>()</div><div class='xr-var-dtype'>int64</div><div class='xr-var-preview xr-preview'>0</div><input id='attrs-427ece25-55f6-4bf6-839a-57873723f101' class='xr-var-attrs-in' type='checkbox' ><label for='attrs-427ece25-55f6-4bf6-839a-57873723f101' title='Show/Hide attributes'><svg class='icon xr-icon-file-text2'><use xlink:href='#icon-file-text2'></use></svg></label><input id='data-119fcb4f-ea76-4a2a-b62e-460654505feb' class='xr-var-data-in' type='checkbox'><label for='data-119fcb4f-ea76-4a2a-b62e-460654505feb' title='Show/Hide data repr'><svg class='icon xr-icon-database'><use xlink:href='#icon-database'></use></svg></label><div class='xr-var-attrs'><dl class='xr-attrs'><dt><span>crs_wkt :</span></dt><dd>PROJCRS[&quot;WGS 84 / UTM zone 32N&quot;,BASEGEOGCRS[&quot;WGS 84&quot;,ENSEMBLE[&quot;World Geodetic System 1984 ensemble&quot;,MEMBER[&quot;World Geodetic System 1984 (Transit)&quot;],MEMBER[&quot;World Geodetic System 1984 (G730)&quot;],MEMBER[&quot;World Geodetic System 1984 (G873)&quot;],MEMBER[&quot;World Geodetic System 1984 (G1150)&quot;],MEMBER[&quot;World Geodetic System 1984 (G1674)&quot;],MEMBER[&quot;World Geodetic System 1984 (G1762)&quot;],MEMBER[&quot;World Geodetic System 1984 (G2139)&quot;],MEMBER[&quot;World Geodetic System 1984 (G2296)&quot;],ELLIPSOID[&quot;WGS 84&quot;,6378137,298.257223563,LENGTHUNIT[&quot;metre&quot;,1]],ENSEMBLEACCURACY[2.0]],PRIMEM[&quot;Greenwich&quot;,0,ANGLEUNIT[&quot;degree&quot;,0.0174532925199433]],ID[&quot;EPSG&quot;,4326]],CONVERSION[&quot;UTM zone 32N&quot;,METHOD[&quot;Transverse Mercator&quot;,ID[&quot;EPSG&quot;,9807]],PARAMETER[&quot;Latitude of natural origin&quot;,0,ANGLEUNIT[&quot;degree&quot;,0.0174532925199433],ID[&quot;EPSG&quot;,8801]],PARAMETER[&quot;Longitude of natural origin&quot;,9,ANGLEUNIT[&quot;degree&quot;,0.0174532925199433],ID[&quot;EPSG&quot;,8802]],PARAMETER[&quot;Scale factor at natural origin&quot;,0.9996,SCALEUNIT[&quot;unity&quot;,1],ID[&quot;EPSG&quot;,8805]],PARAMETER[&quot;False easting&quot;,500000,LENGTHUNIT[&quot;metre&quot;,1],ID[&quot;EPSG&quot;,8806]],PARAMETER[&quot;False northing&quot;,0,LENGTHUNIT[&quot;metre&quot;,1],ID[&quot;EPSG&quot;,8807]]],CS[Cartesian,2],AXIS[&quot;(E)&quot;,east,ORDER[1],LENGTHUNIT[&quot;metre&quot;,1]],AXIS[&quot;(N)&quot;,north,ORDER[2],LENGTHUNIT[&quot;metre&quot;,1]],USAGE[SCOPE[&quot;Navigation and medium accuracy spatial referencing.&quot;],AREA[&quot;Between 6°E and 12°E, northern hemisphere between equator and 84°N, onshore and offshore. Algeria. Austria. Cameroon. Denmark. Equatorial Guinea. France. Gabon. Germany. Italy. Libya. Liechtenstein. Monaco. Netherlands. Niger. Nigeria. Norway. Sao Tome and Principe. Svalbard. Sweden. Switzerland. Tunisia. Vatican City State.&quot;],BBOX[0,6,84,12]],ID[&quot;EPSG&quot;,32632]]</dd><dt><span>semi_major_axis :</span></dt><dd>6378137.0</dd><dt><span>semi_minor_axis :</span></dt><dd>6356752.314245179</dd><dt><span>inverse_flattening :</span></dt><dd>298.257223563</dd><dt><span>reference_ellipsoid_name :</span></dt><dd>WGS 84</dd><dt><span>longitude_of_prime_meridian :</span></dt><dd>0.0</dd><dt><span>prime_meridian_name :</span></dt><dd>Greenwich</dd><dt><span>geographic_crs_name :</span></dt><dd>WGS 84</dd><dt><span>horizontal_datum_name :</span></dt><dd>World Geodetic System 1984 ensemble</dd><dt><span>projected_crs_name :</span></dt><dd>WGS 84 / UTM zone 32N</dd><dt><span>grid_mapping_name :</span></dt><dd>transverse_mercator</dd><dt><span>latitude_of_projection_origin :</span></dt><dd>0.0</dd><dt><span>longitude_of_central_meridian :</span></dt><dd>9.0</dd><dt><span>false_easting :</span></dt><dd>500000.0</dd><dt><span>false_northing :</span></dt><dd>0.0</dd><dt><span>scale_factor_at_central_meridian :</span></dt><dd>0.9996</dd></dl></div><div class='xr-var-data'><pre>array(0)</pre></div></li><li class='xr-var-item'><div class='xr-var-name'><span class='xr-has-index'>x</span></div><div class='xr-var-dims'>(x)</div><div class='xr-var-dtype'>float64</div><div class='xr-var-preview xr-preview'>5.066e+05 5.066e+05 ... 6.138e+05</div><input id='attrs-3c792559-edc1-4d9c-b8d7-ecb6e7e9a0c7' class='xr-var-attrs-in' type='checkbox' ><label for='attrs-3c792559-edc1-4d9c-b8d7-ecb6e7e9a0c7' title='Show/Hide attributes'><svg class='icon xr-icon-file-text2'><use xlink:href='#icon-file-text2'></use></svg></label><input id='data-2575e85a-2009-4037-8a80-38aa69dab9dd' class='xr-var-data-in' type='checkbox'><label for='data-2575e85a-2009-4037-8a80-38aa69dab9dd' title='Show/Hide data repr'><svg class='icon xr-icon-database'><use xlink:href='#icon-database'></use></svg></label><div class='xr-var-attrs'><dl class='xr-attrs'><dt><span>long_name :</span></dt><dd>x coordinate of projection</dd><dt><span>standard_name :</span></dt><dd>projection_x_coordinate</dd></dl></div><div class='xr-var-data'><pre>array([506555., 506565., 506575., ..., 613795., 613805., 613815.],\n",
       "      shape=(10727,))</pre></div></li><li class='xr-var-item'><div class='xr-var-name'><span class='xr-has-index'>y</span></div><div class='xr-var-dims'>(y)</div><div class='xr-var-dtype'>float64</div><div class='xr-var-preview xr-preview'>5.985e+06 5.985e+06 ... 5.883e+06</div><input id='attrs-58262d7d-1493-4e7d-9422-2e9c4230b2dd' class='xr-var-attrs-in' type='checkbox' ><label for='attrs-58262d7d-1493-4e7d-9422-2e9c4230b2dd' title='Show/Hide attributes'><svg class='icon xr-icon-file-text2'><use xlink:href='#icon-file-text2'></use></svg></label><input id='data-ab08366f-759f-4fe2-8d5b-0c22a04707c3' class='xr-var-data-in' type='checkbox'><label for='data-ab08366f-759f-4fe2-8d5b-0c22a04707c3' title='Show/Hide data repr'><svg class='icon xr-icon-database'><use xlink:href='#icon-database'></use></svg></label><div class='xr-var-attrs'><dl class='xr-attrs'><dt><span>long_name :</span></dt><dd>y coordinate of projection</dd><dt><span>standard_name :</span></dt><dd>projection_y_coordinate</dd></dl></div><div class='xr-var-data'><pre>array([5984855., 5984845., 5984835., ..., 5883415., 5883405., 5883395.],\n",
       "      shape=(10147,))</pre></div></li><li class='xr-var-item'><div class='xr-var-name'><span class='xr-has-index'>angle_x</span></div><div class='xr-var-dims'>(angle_x)</div><div class='xr-var-dtype'>float64</div><div class='xr-var-preview xr-preview'>5.066e+05 5.116e+05 ... 6.166e+05</div><input id='attrs-8d4ed8eb-343d-42b0-b37d-76fd5aac3ac8' class='xr-var-attrs-in' type='checkbox' ><label for='attrs-8d4ed8eb-343d-42b0-b37d-76fd5aac3ac8' title='Show/Hide attributes'><svg class='icon xr-icon-file-text2'><use xlink:href='#icon-file-text2'></use></svg></label><input id='data-093642a6-084c-4355-b162-5914398ee834' class='xr-var-data-in' type='checkbox'><label for='data-093642a6-084c-4355-b162-5914398ee834' title='Show/Hide data repr'><svg class='icon xr-icon-database'><use xlink:href='#icon-database'></use></svg></label><div class='xr-var-attrs'><dl class='xr-attrs'><dt><span>long_name :</span></dt><dd>x coordinate of projection</dd><dt><span>standard_name :</span></dt><dd>projection_x_coordinate</dd></dl></div><div class='xr-var-data'><pre>array([506555., 511555., 516555., 521555., 526555., 531555., 536555., 541555.,\n",
       "       546555., 551555., 556555., 561555., 566555., 571555., 576555., 581555.,\n",
       "       586555., 591555., 596555., 601555., 606555., 611555., 616555.])</pre></div></li><li class='xr-var-item'><div class='xr-var-name'><span class='xr-has-index'>angle_y</span></div><div class='xr-var-dims'>(angle_y)</div><div class='xr-var-dtype'>float64</div><div class='xr-var-preview xr-preview'>5.988e+06 5.983e+06 ... 5.883e+06</div><input id='attrs-42ff5861-55c3-4354-8e97-cedc5655043c' class='xr-var-attrs-in' type='checkbox' ><label for='attrs-42ff5861-55c3-4354-8e97-cedc5655043c' title='Show/Hide attributes'><svg class='icon xr-icon-file-text2'><use xlink:href='#icon-file-text2'></use></svg></label><input id='data-3402a20d-92e9-43dc-97f5-e2d7221694ea' class='xr-var-data-in' type='checkbox'><label for='data-3402a20d-92e9-43dc-97f5-e2d7221694ea' title='Show/Hide data repr'><svg class='icon xr-icon-database'><use xlink:href='#icon-database'></use></svg></label><div class='xr-var-attrs'><dl class='xr-attrs'><dt><span>long_name :</span></dt><dd>y coordinate of projection</dd><dt><span>standard_name :</span></dt><dd>projection_y_coordinate</dd></dl></div><div class='xr-var-data'><pre>array([5988395., 5983395., 5978395., 5973395., 5968395., 5963395., 5958395.,\n",
       "       5953395., 5948395., 5943395., 5938395., 5933395., 5928395., 5923395.,\n",
       "       5918395., 5913395., 5908395., 5903395., 5898395., 5893395., 5888395.,\n",
       "       5883395.])</pre></div></li><li class='xr-var-item'><div class='xr-var-name'><span class='xr-has-index'>angle</span></div><div class='xr-var-dims'>(angle)</div><div class='xr-var-dtype'>object</div><div class='xr-var-preview xr-preview'>&#x27;zenith&#x27; &#x27;azimuth&#x27;</div><input id='attrs-36ead315-aa67-45e3-8e6b-2bb2189082e8' class='xr-var-attrs-in' type='checkbox' disabled><label for='attrs-36ead315-aa67-45e3-8e6b-2bb2189082e8' title='Show/Hide attributes'><svg class='icon xr-icon-file-text2'><use xlink:href='#icon-file-text2'></use></svg></label><input id='data-a2efe018-346a-4236-ae2c-8bb6e3d60579' class='xr-var-data-in' type='checkbox'><label for='data-a2efe018-346a-4236-ae2c-8bb6e3d60579' title='Show/Hide data repr'><svg class='icon xr-icon-database'><use xlink:href='#icon-database'></use></svg></label><div class='xr-var-attrs'><dl class='xr-attrs'></dl></div><div class='xr-var-data'><pre>array([&#x27;zenith&#x27;, &#x27;azimuth&#x27;], dtype=object)</pre></div></li><li class='xr-var-item'><div class='xr-var-name'><span class='xr-has-index'>band</span></div><div class='xr-var-dims'>(band)</div><div class='xr-var-dtype'>&lt;U3</div><div class='xr-var-preview xr-preview'>&#x27;B02&#x27; &#x27;B03&#x27; &#x27;B04&#x27;</div><input id='attrs-9ec35ccd-3fef-4c41-8b05-3c1300703058' class='xr-var-attrs-in' type='checkbox' disabled><label for='attrs-9ec35ccd-3fef-4c41-8b05-3c1300703058' title='Show/Hide attributes'><svg class='icon xr-icon-file-text2'><use xlink:href='#icon-file-text2'></use></svg></label><input id='data-245232a1-4c32-4a9b-97ca-b9152ffd11db' class='xr-var-data-in' type='checkbox'><label for='data-245232a1-4c32-4a9b-97ca-b9152ffd11db' title='Show/Hide data repr'><svg class='icon xr-icon-database'><use xlink:href='#icon-database'></use></svg></label><div class='xr-var-attrs'><dl class='xr-attrs'></dl></div><div class='xr-var-data'><pre>array([&#x27;B02&#x27;, &#x27;B03&#x27;, &#x27;B04&#x27;], dtype=&#x27;&lt;U3&#x27;)</pre></div></li></ul></div></li><li class='xr-section-item'><input id='section-e05874d1-5ee5-4a5d-853a-a59bad297c2c' class='xr-section-summary-in' type='checkbox'  checked><label for='section-e05874d1-5ee5-4a5d-853a-a59bad297c2c' class='xr-section-summary' >Data variables: <span>(6)</span></label><div class='xr-section-inline-details'></div><div class='xr-section-details'><ul class='xr-var-list'><li class='xr-var-item'><div class='xr-var-name'><span>B02</span></div><div class='xr-var-dims'>(time, y, x)</div><div class='xr-var-dtype'>float32</div><div class='xr-var-preview xr-preview'>dask.array&lt;chunksize=(1, 2048, 2048), meta=np.ndarray&gt;</div><input id='attrs-fbf9edf0-e021-417e-9cb1-697042861032' class='xr-var-attrs-in' type='checkbox' disabled><label for='attrs-fbf9edf0-e021-417e-9cb1-697042861032' title='Show/Hide attributes'><svg class='icon xr-icon-file-text2'><use xlink:href='#icon-file-text2'></use></svg></label><input id='data-878a5946-57aa-4045-a60a-34db9dcde9e5' class='xr-var-data-in' type='checkbox'><label for='data-878a5946-57aa-4045-a60a-34db9dcde9e5' title='Show/Hide data repr'><svg class='icon xr-icon-database'><use xlink:href='#icon-database'></use></svg></label><div class='xr-var-attrs'><dl class='xr-attrs'></dl></div><div class='xr-var-data'><table>\n",
       "    <tr>\n",
       "        <td>\n",
       "            <table style=\"border-collapse: collapse;\">\n",
       "                <thead>\n",
       "                    <tr>\n",
       "                        <td> </td>\n",
       "                        <th> Array </th>\n",
       "                        <th> Chunk </th>\n",
       "                    </tr>\n",
       "                </thead>\n",
       "                <tbody>\n",
       "                    \n",
       "                    <tr>\n",
       "                        <th> Bytes </th>\n",
       "                        <td> 4.46 GiB </td>\n",
       "                        <td> 16.00 MiB </td>\n",
       "                    </tr>\n",
       "                    \n",
       "                    <tr>\n",
       "                        <th> Shape </th>\n",
       "                        <td> (11, 10147, 10727) </td>\n",
       "                        <td> (1, 2048, 2048) </td>\n",
       "                    </tr>\n",
       "                    <tr>\n",
       "                        <th> Dask graph </th>\n",
       "                        <td colspan=\"2\"> 330 chunks in 60 graph layers </td>\n",
       "                    </tr>\n",
       "                    <tr>\n",
       "                        <th> Data type </th>\n",
       "                        <td colspan=\"2\"> float32 numpy.ndarray </td>\n",
       "                    </tr>\n",
       "                </tbody>\n",
       "            </table>\n",
       "        </td>\n",
       "        <td>\n",
       "        <svg width=\"194\" height=\"178\" style=\"stroke:rgb(0,0,0);stroke-width:1\" >\n",
       "\n",
       "  <!-- Horizontal lines -->\n",
       "  <line x1=\"10\" y1=\"0\" x2=\"24\" y2=\"14\" style=\"stroke-width:2\" />\n",
       "  <line x1=\"10\" y1=\"22\" x2=\"24\" y2=\"37\" />\n",
       "  <line x1=\"10\" y1=\"45\" x2=\"24\" y2=\"60\" />\n",
       "  <line x1=\"10\" y1=\"68\" x2=\"24\" y2=\"83\" />\n",
       "  <line x1=\"10\" y1=\"91\" x2=\"24\" y2=\"106\" />\n",
       "  <line x1=\"10\" y1=\"113\" x2=\"24\" y2=\"128\" style=\"stroke-width:2\" />\n",
       "\n",
       "  <!-- Vertical lines -->\n",
       "  <line x1=\"10\" y1=\"0\" x2=\"10\" y2=\"113\" style=\"stroke-width:2\" />\n",
       "  <line x1=\"11\" y1=\"1\" x2=\"11\" y2=\"114\" />\n",
       "  <line x1=\"12\" y1=\"2\" x2=\"12\" y2=\"116\" />\n",
       "  <line x1=\"14\" y1=\"4\" x2=\"14\" y2=\"117\" />\n",
       "  <line x1=\"15\" y1=\"5\" x2=\"15\" y2=\"118\" />\n",
       "  <line x1=\"16\" y1=\"6\" x2=\"16\" y2=\"120\" />\n",
       "  <line x1=\"18\" y1=\"8\" x2=\"18\" y2=\"121\" />\n",
       "  <line x1=\"19\" y1=\"9\" x2=\"19\" y2=\"123\" />\n",
       "  <line x1=\"20\" y1=\"10\" x2=\"20\" y2=\"124\" />\n",
       "  <line x1=\"22\" y1=\"12\" x2=\"22\" y2=\"125\" />\n",
       "  <line x1=\"23\" y1=\"13\" x2=\"23\" y2=\"127\" />\n",
       "  <line x1=\"24\" y1=\"14\" x2=\"24\" y2=\"128\" style=\"stroke-width:2\" />\n",
       "\n",
       "  <!-- Colored Rectangle -->\n",
       "  <polygon points=\"10.0,0.0 24.9485979497544,14.948597949754403 24.9485979497544,128.46029739974043 10.0,113.51169944998603\" style=\"fill:#ECB172A0;stroke-width:0\"/>\n",
       "\n",
       "  <!-- Horizontal lines -->\n",
       "  <line x1=\"10\" y1=\"0\" x2=\"130\" y2=\"0\" style=\"stroke-width:2\" />\n",
       "  <line x1=\"11\" y1=\"1\" x2=\"131\" y2=\"1\" />\n",
       "  <line x1=\"12\" y1=\"2\" x2=\"132\" y2=\"2\" />\n",
       "  <line x1=\"14\" y1=\"4\" x2=\"134\" y2=\"4\" />\n",
       "  <line x1=\"15\" y1=\"5\" x2=\"135\" y2=\"5\" />\n",
       "  <line x1=\"16\" y1=\"6\" x2=\"136\" y2=\"6\" />\n",
       "  <line x1=\"18\" y1=\"8\" x2=\"138\" y2=\"8\" />\n",
       "  <line x1=\"19\" y1=\"9\" x2=\"139\" y2=\"9\" />\n",
       "  <line x1=\"20\" y1=\"10\" x2=\"140\" y2=\"10\" />\n",
       "  <line x1=\"22\" y1=\"12\" x2=\"142\" y2=\"12\" />\n",
       "  <line x1=\"23\" y1=\"13\" x2=\"143\" y2=\"13\" />\n",
       "  <line x1=\"24\" y1=\"14\" x2=\"144\" y2=\"14\" style=\"stroke-width:2\" />\n",
       "\n",
       "  <!-- Vertical lines -->\n",
       "  <line x1=\"10\" y1=\"0\" x2=\"24\" y2=\"14\" style=\"stroke-width:2\" />\n",
       "  <line x1=\"32\" y1=\"0\" x2=\"47\" y2=\"14\" />\n",
       "  <line x1=\"55\" y1=\"0\" x2=\"70\" y2=\"14\" />\n",
       "  <line x1=\"78\" y1=\"0\" x2=\"93\" y2=\"14\" />\n",
       "  <line x1=\"101\" y1=\"0\" x2=\"116\" y2=\"14\" />\n",
       "  <line x1=\"124\" y1=\"0\" x2=\"139\" y2=\"14\" />\n",
       "  <line x1=\"130\" y1=\"0\" x2=\"144\" y2=\"14\" style=\"stroke-width:2\" />\n",
       "\n",
       "  <!-- Colored Rectangle -->\n",
       "  <polygon points=\"10.0,0.0 130.0,0.0 144.9485979497544,14.948597949754403 24.9485979497544,14.948597949754403\" style=\"fill:#ECB172A0;stroke-width:0\"/>\n",
       "\n",
       "  <!-- Horizontal lines -->\n",
       "  <line x1=\"24\" y1=\"14\" x2=\"144\" y2=\"14\" style=\"stroke-width:2\" />\n",
       "  <line x1=\"24\" y1=\"37\" x2=\"144\" y2=\"37\" />\n",
       "  <line x1=\"24\" y1=\"60\" x2=\"144\" y2=\"60\" />\n",
       "  <line x1=\"24\" y1=\"83\" x2=\"144\" y2=\"83\" />\n",
       "  <line x1=\"24\" y1=\"106\" x2=\"144\" y2=\"106\" />\n",
       "  <line x1=\"24\" y1=\"128\" x2=\"144\" y2=\"128\" style=\"stroke-width:2\" />\n",
       "\n",
       "  <!-- Vertical lines -->\n",
       "  <line x1=\"24\" y1=\"14\" x2=\"24\" y2=\"128\" style=\"stroke-width:2\" />\n",
       "  <line x1=\"47\" y1=\"14\" x2=\"47\" y2=\"128\" />\n",
       "  <line x1=\"70\" y1=\"14\" x2=\"70\" y2=\"128\" />\n",
       "  <line x1=\"93\" y1=\"14\" x2=\"93\" y2=\"128\" />\n",
       "  <line x1=\"116\" y1=\"14\" x2=\"116\" y2=\"128\" />\n",
       "  <line x1=\"139\" y1=\"14\" x2=\"139\" y2=\"128\" />\n",
       "  <line x1=\"144\" y1=\"14\" x2=\"144\" y2=\"128\" style=\"stroke-width:2\" />\n",
       "\n",
       "  <!-- Colored Rectangle -->\n",
       "  <polygon points=\"24.9485979497544,14.948597949754403 144.9485979497544,14.948597949754403 144.9485979497544,128.46029739974043 24.9485979497544,128.46029739974043\" style=\"fill:#ECB172A0;stroke-width:0\"/>\n",
       "\n",
       "  <!-- Text -->\n",
       "  <text x=\"84.948598\" y=\"148.460297\" font-size=\"1.0rem\" font-weight=\"100\" text-anchor=\"middle\" >10727</text>\n",
       "  <text x=\"164.948598\" y=\"71.704448\" font-size=\"1.0rem\" font-weight=\"100\" text-anchor=\"middle\" transform=\"rotate(-90,164.948598,71.704448)\">10147</text>\n",
       "  <text x=\"7.474299\" y=\"140.985998\" font-size=\"1.0rem\" font-weight=\"100\" text-anchor=\"middle\" transform=\"rotate(45,7.474299,140.985998)\">11</text>\n",
       "</svg>\n",
       "        </td>\n",
       "    </tr>\n",
       "</table></div></li><li class='xr-var-item'><div class='xr-var-name'><span>B03</span></div><div class='xr-var-dims'>(time, y, x)</div><div class='xr-var-dtype'>float32</div><div class='xr-var-preview xr-preview'>dask.array&lt;chunksize=(1, 2048, 2048), meta=np.ndarray&gt;</div><input id='attrs-71e7ca1d-9a3f-47ad-953e-4f4b073d845c' class='xr-var-attrs-in' type='checkbox' disabled><label for='attrs-71e7ca1d-9a3f-47ad-953e-4f4b073d845c' title='Show/Hide attributes'><svg class='icon xr-icon-file-text2'><use xlink:href='#icon-file-text2'></use></svg></label><input id='data-06d9a19f-b4e7-4cfd-8f69-2ac774a5eb4a' class='xr-var-data-in' type='checkbox'><label for='data-06d9a19f-b4e7-4cfd-8f69-2ac774a5eb4a' title='Show/Hide data repr'><svg class='icon xr-icon-database'><use xlink:href='#icon-database'></use></svg></label><div class='xr-var-attrs'><dl class='xr-attrs'></dl></div><div class='xr-var-data'><table>\n",
       "    <tr>\n",
       "        <td>\n",
       "            <table style=\"border-collapse: collapse;\">\n",
       "                <thead>\n",
       "                    <tr>\n",
       "                        <td> </td>\n",
       "                        <th> Array </th>\n",
       "                        <th> Chunk </th>\n",
       "                    </tr>\n",
       "                </thead>\n",
       "                <tbody>\n",
       "                    \n",
       "                    <tr>\n",
       "                        <th> Bytes </th>\n",
       "                        <td> 4.46 GiB </td>\n",
       "                        <td> 16.00 MiB </td>\n",
       "                    </tr>\n",
       "                    \n",
       "                    <tr>\n",
       "                        <th> Shape </th>\n",
       "                        <td> (11, 10147, 10727) </td>\n",
       "                        <td> (1, 2048, 2048) </td>\n",
       "                    </tr>\n",
       "                    <tr>\n",
       "                        <th> Dask graph </th>\n",
       "                        <td colspan=\"2\"> 330 chunks in 60 graph layers </td>\n",
       "                    </tr>\n",
       "                    <tr>\n",
       "                        <th> Data type </th>\n",
       "                        <td colspan=\"2\"> float32 numpy.ndarray </td>\n",
       "                    </tr>\n",
       "                </tbody>\n",
       "            </table>\n",
       "        </td>\n",
       "        <td>\n",
       "        <svg width=\"194\" height=\"178\" style=\"stroke:rgb(0,0,0);stroke-width:1\" >\n",
       "\n",
       "  <!-- Horizontal lines -->\n",
       "  <line x1=\"10\" y1=\"0\" x2=\"24\" y2=\"14\" style=\"stroke-width:2\" />\n",
       "  <line x1=\"10\" y1=\"22\" x2=\"24\" y2=\"37\" />\n",
       "  <line x1=\"10\" y1=\"45\" x2=\"24\" y2=\"60\" />\n",
       "  <line x1=\"10\" y1=\"68\" x2=\"24\" y2=\"83\" />\n",
       "  <line x1=\"10\" y1=\"91\" x2=\"24\" y2=\"106\" />\n",
       "  <line x1=\"10\" y1=\"113\" x2=\"24\" y2=\"128\" style=\"stroke-width:2\" />\n",
       "\n",
       "  <!-- Vertical lines -->\n",
       "  <line x1=\"10\" y1=\"0\" x2=\"10\" y2=\"113\" style=\"stroke-width:2\" />\n",
       "  <line x1=\"11\" y1=\"1\" x2=\"11\" y2=\"114\" />\n",
       "  <line x1=\"12\" y1=\"2\" x2=\"12\" y2=\"116\" />\n",
       "  <line x1=\"14\" y1=\"4\" x2=\"14\" y2=\"117\" />\n",
       "  <line x1=\"15\" y1=\"5\" x2=\"15\" y2=\"118\" />\n",
       "  <line x1=\"16\" y1=\"6\" x2=\"16\" y2=\"120\" />\n",
       "  <line x1=\"18\" y1=\"8\" x2=\"18\" y2=\"121\" />\n",
       "  <line x1=\"19\" y1=\"9\" x2=\"19\" y2=\"123\" />\n",
       "  <line x1=\"20\" y1=\"10\" x2=\"20\" y2=\"124\" />\n",
       "  <line x1=\"22\" y1=\"12\" x2=\"22\" y2=\"125\" />\n",
       "  <line x1=\"23\" y1=\"13\" x2=\"23\" y2=\"127\" />\n",
       "  <line x1=\"24\" y1=\"14\" x2=\"24\" y2=\"128\" style=\"stroke-width:2\" />\n",
       "\n",
       "  <!-- Colored Rectangle -->\n",
       "  <polygon points=\"10.0,0.0 24.9485979497544,14.948597949754403 24.9485979497544,128.46029739974043 10.0,113.51169944998603\" style=\"fill:#ECB172A0;stroke-width:0\"/>\n",
       "\n",
       "  <!-- Horizontal lines -->\n",
       "  <line x1=\"10\" y1=\"0\" x2=\"130\" y2=\"0\" style=\"stroke-width:2\" />\n",
       "  <line x1=\"11\" y1=\"1\" x2=\"131\" y2=\"1\" />\n",
       "  <line x1=\"12\" y1=\"2\" x2=\"132\" y2=\"2\" />\n",
       "  <line x1=\"14\" y1=\"4\" x2=\"134\" y2=\"4\" />\n",
       "  <line x1=\"15\" y1=\"5\" x2=\"135\" y2=\"5\" />\n",
       "  <line x1=\"16\" y1=\"6\" x2=\"136\" y2=\"6\" />\n",
       "  <line x1=\"18\" y1=\"8\" x2=\"138\" y2=\"8\" />\n",
       "  <line x1=\"19\" y1=\"9\" x2=\"139\" y2=\"9\" />\n",
       "  <line x1=\"20\" y1=\"10\" x2=\"140\" y2=\"10\" />\n",
       "  <line x1=\"22\" y1=\"12\" x2=\"142\" y2=\"12\" />\n",
       "  <line x1=\"23\" y1=\"13\" x2=\"143\" y2=\"13\" />\n",
       "  <line x1=\"24\" y1=\"14\" x2=\"144\" y2=\"14\" style=\"stroke-width:2\" />\n",
       "\n",
       "  <!-- Vertical lines -->\n",
       "  <line x1=\"10\" y1=\"0\" x2=\"24\" y2=\"14\" style=\"stroke-width:2\" />\n",
       "  <line x1=\"32\" y1=\"0\" x2=\"47\" y2=\"14\" />\n",
       "  <line x1=\"55\" y1=\"0\" x2=\"70\" y2=\"14\" />\n",
       "  <line x1=\"78\" y1=\"0\" x2=\"93\" y2=\"14\" />\n",
       "  <line x1=\"101\" y1=\"0\" x2=\"116\" y2=\"14\" />\n",
       "  <line x1=\"124\" y1=\"0\" x2=\"139\" y2=\"14\" />\n",
       "  <line x1=\"130\" y1=\"0\" x2=\"144\" y2=\"14\" style=\"stroke-width:2\" />\n",
       "\n",
       "  <!-- Colored Rectangle -->\n",
       "  <polygon points=\"10.0,0.0 130.0,0.0 144.9485979497544,14.948597949754403 24.9485979497544,14.948597949754403\" style=\"fill:#ECB172A0;stroke-width:0\"/>\n",
       "\n",
       "  <!-- Horizontal lines -->\n",
       "  <line x1=\"24\" y1=\"14\" x2=\"144\" y2=\"14\" style=\"stroke-width:2\" />\n",
       "  <line x1=\"24\" y1=\"37\" x2=\"144\" y2=\"37\" />\n",
       "  <line x1=\"24\" y1=\"60\" x2=\"144\" y2=\"60\" />\n",
       "  <line x1=\"24\" y1=\"83\" x2=\"144\" y2=\"83\" />\n",
       "  <line x1=\"24\" y1=\"106\" x2=\"144\" y2=\"106\" />\n",
       "  <line x1=\"24\" y1=\"128\" x2=\"144\" y2=\"128\" style=\"stroke-width:2\" />\n",
       "\n",
       "  <!-- Vertical lines -->\n",
       "  <line x1=\"24\" y1=\"14\" x2=\"24\" y2=\"128\" style=\"stroke-width:2\" />\n",
       "  <line x1=\"47\" y1=\"14\" x2=\"47\" y2=\"128\" />\n",
       "  <line x1=\"70\" y1=\"14\" x2=\"70\" y2=\"128\" />\n",
       "  <line x1=\"93\" y1=\"14\" x2=\"93\" y2=\"128\" />\n",
       "  <line x1=\"116\" y1=\"14\" x2=\"116\" y2=\"128\" />\n",
       "  <line x1=\"139\" y1=\"14\" x2=\"139\" y2=\"128\" />\n",
       "  <line x1=\"144\" y1=\"14\" x2=\"144\" y2=\"128\" style=\"stroke-width:2\" />\n",
       "\n",
       "  <!-- Colored Rectangle -->\n",
       "  <polygon points=\"24.9485979497544,14.948597949754403 144.9485979497544,14.948597949754403 144.9485979497544,128.46029739974043 24.9485979497544,128.46029739974043\" style=\"fill:#ECB172A0;stroke-width:0\"/>\n",
       "\n",
       "  <!-- Text -->\n",
       "  <text x=\"84.948598\" y=\"148.460297\" font-size=\"1.0rem\" font-weight=\"100\" text-anchor=\"middle\" >10727</text>\n",
       "  <text x=\"164.948598\" y=\"71.704448\" font-size=\"1.0rem\" font-weight=\"100\" text-anchor=\"middle\" transform=\"rotate(-90,164.948598,71.704448)\">10147</text>\n",
       "  <text x=\"7.474299\" y=\"140.985998\" font-size=\"1.0rem\" font-weight=\"100\" text-anchor=\"middle\" transform=\"rotate(45,7.474299,140.985998)\">11</text>\n",
       "</svg>\n",
       "        </td>\n",
       "    </tr>\n",
       "</table></div></li><li class='xr-var-item'><div class='xr-var-name'><span>B04</span></div><div class='xr-var-dims'>(time, y, x)</div><div class='xr-var-dtype'>float32</div><div class='xr-var-preview xr-preview'>dask.array&lt;chunksize=(1, 2048, 2048), meta=np.ndarray&gt;</div><input id='attrs-335a261d-ff14-4aec-a662-0281cb636754' class='xr-var-attrs-in' type='checkbox' disabled><label for='attrs-335a261d-ff14-4aec-a662-0281cb636754' title='Show/Hide attributes'><svg class='icon xr-icon-file-text2'><use xlink:href='#icon-file-text2'></use></svg></label><input id='data-9af7e2a6-b257-49f2-9a12-47aa57447f39' class='xr-var-data-in' type='checkbox'><label for='data-9af7e2a6-b257-49f2-9a12-47aa57447f39' title='Show/Hide data repr'><svg class='icon xr-icon-database'><use xlink:href='#icon-database'></use></svg></label><div class='xr-var-attrs'><dl class='xr-attrs'></dl></div><div class='xr-var-data'><table>\n",
       "    <tr>\n",
       "        <td>\n",
       "            <table style=\"border-collapse: collapse;\">\n",
       "                <thead>\n",
       "                    <tr>\n",
       "                        <td> </td>\n",
       "                        <th> Array </th>\n",
       "                        <th> Chunk </th>\n",
       "                    </tr>\n",
       "                </thead>\n",
       "                <tbody>\n",
       "                    \n",
       "                    <tr>\n",
       "                        <th> Bytes </th>\n",
       "                        <td> 4.46 GiB </td>\n",
       "                        <td> 16.00 MiB </td>\n",
       "                    </tr>\n",
       "                    \n",
       "                    <tr>\n",
       "                        <th> Shape </th>\n",
       "                        <td> (11, 10147, 10727) </td>\n",
       "                        <td> (1, 2048, 2048) </td>\n",
       "                    </tr>\n",
       "                    <tr>\n",
       "                        <th> Dask graph </th>\n",
       "                        <td colspan=\"2\"> 330 chunks in 60 graph layers </td>\n",
       "                    </tr>\n",
       "                    <tr>\n",
       "                        <th> Data type </th>\n",
       "                        <td colspan=\"2\"> float32 numpy.ndarray </td>\n",
       "                    </tr>\n",
       "                </tbody>\n",
       "            </table>\n",
       "        </td>\n",
       "        <td>\n",
       "        <svg width=\"194\" height=\"178\" style=\"stroke:rgb(0,0,0);stroke-width:1\" >\n",
       "\n",
       "  <!-- Horizontal lines -->\n",
       "  <line x1=\"10\" y1=\"0\" x2=\"24\" y2=\"14\" style=\"stroke-width:2\" />\n",
       "  <line x1=\"10\" y1=\"22\" x2=\"24\" y2=\"37\" />\n",
       "  <line x1=\"10\" y1=\"45\" x2=\"24\" y2=\"60\" />\n",
       "  <line x1=\"10\" y1=\"68\" x2=\"24\" y2=\"83\" />\n",
       "  <line x1=\"10\" y1=\"91\" x2=\"24\" y2=\"106\" />\n",
       "  <line x1=\"10\" y1=\"113\" x2=\"24\" y2=\"128\" style=\"stroke-width:2\" />\n",
       "\n",
       "  <!-- Vertical lines -->\n",
       "  <line x1=\"10\" y1=\"0\" x2=\"10\" y2=\"113\" style=\"stroke-width:2\" />\n",
       "  <line x1=\"11\" y1=\"1\" x2=\"11\" y2=\"114\" />\n",
       "  <line x1=\"12\" y1=\"2\" x2=\"12\" y2=\"116\" />\n",
       "  <line x1=\"14\" y1=\"4\" x2=\"14\" y2=\"117\" />\n",
       "  <line x1=\"15\" y1=\"5\" x2=\"15\" y2=\"118\" />\n",
       "  <line x1=\"16\" y1=\"6\" x2=\"16\" y2=\"120\" />\n",
       "  <line x1=\"18\" y1=\"8\" x2=\"18\" y2=\"121\" />\n",
       "  <line x1=\"19\" y1=\"9\" x2=\"19\" y2=\"123\" />\n",
       "  <line x1=\"20\" y1=\"10\" x2=\"20\" y2=\"124\" />\n",
       "  <line x1=\"22\" y1=\"12\" x2=\"22\" y2=\"125\" />\n",
       "  <line x1=\"23\" y1=\"13\" x2=\"23\" y2=\"127\" />\n",
       "  <line x1=\"24\" y1=\"14\" x2=\"24\" y2=\"128\" style=\"stroke-width:2\" />\n",
       "\n",
       "  <!-- Colored Rectangle -->\n",
       "  <polygon points=\"10.0,0.0 24.9485979497544,14.948597949754403 24.9485979497544,128.46029739974043 10.0,113.51169944998603\" style=\"fill:#ECB172A0;stroke-width:0\"/>\n",
       "\n",
       "  <!-- Horizontal lines -->\n",
       "  <line x1=\"10\" y1=\"0\" x2=\"130\" y2=\"0\" style=\"stroke-width:2\" />\n",
       "  <line x1=\"11\" y1=\"1\" x2=\"131\" y2=\"1\" />\n",
       "  <line x1=\"12\" y1=\"2\" x2=\"132\" y2=\"2\" />\n",
       "  <line x1=\"14\" y1=\"4\" x2=\"134\" y2=\"4\" />\n",
       "  <line x1=\"15\" y1=\"5\" x2=\"135\" y2=\"5\" />\n",
       "  <line x1=\"16\" y1=\"6\" x2=\"136\" y2=\"6\" />\n",
       "  <line x1=\"18\" y1=\"8\" x2=\"138\" y2=\"8\" />\n",
       "  <line x1=\"19\" y1=\"9\" x2=\"139\" y2=\"9\" />\n",
       "  <line x1=\"20\" y1=\"10\" x2=\"140\" y2=\"10\" />\n",
       "  <line x1=\"22\" y1=\"12\" x2=\"142\" y2=\"12\" />\n",
       "  <line x1=\"23\" y1=\"13\" x2=\"143\" y2=\"13\" />\n",
       "  <line x1=\"24\" y1=\"14\" x2=\"144\" y2=\"14\" style=\"stroke-width:2\" />\n",
       "\n",
       "  <!-- Vertical lines -->\n",
       "  <line x1=\"10\" y1=\"0\" x2=\"24\" y2=\"14\" style=\"stroke-width:2\" />\n",
       "  <line x1=\"32\" y1=\"0\" x2=\"47\" y2=\"14\" />\n",
       "  <line x1=\"55\" y1=\"0\" x2=\"70\" y2=\"14\" />\n",
       "  <line x1=\"78\" y1=\"0\" x2=\"93\" y2=\"14\" />\n",
       "  <line x1=\"101\" y1=\"0\" x2=\"116\" y2=\"14\" />\n",
       "  <line x1=\"124\" y1=\"0\" x2=\"139\" y2=\"14\" />\n",
       "  <line x1=\"130\" y1=\"0\" x2=\"144\" y2=\"14\" style=\"stroke-width:2\" />\n",
       "\n",
       "  <!-- Colored Rectangle -->\n",
       "  <polygon points=\"10.0,0.0 130.0,0.0 144.9485979497544,14.948597949754403 24.9485979497544,14.948597949754403\" style=\"fill:#ECB172A0;stroke-width:0\"/>\n",
       "\n",
       "  <!-- Horizontal lines -->\n",
       "  <line x1=\"24\" y1=\"14\" x2=\"144\" y2=\"14\" style=\"stroke-width:2\" />\n",
       "  <line x1=\"24\" y1=\"37\" x2=\"144\" y2=\"37\" />\n",
       "  <line x1=\"24\" y1=\"60\" x2=\"144\" y2=\"60\" />\n",
       "  <line x1=\"24\" y1=\"83\" x2=\"144\" y2=\"83\" />\n",
       "  <line x1=\"24\" y1=\"106\" x2=\"144\" y2=\"106\" />\n",
       "  <line x1=\"24\" y1=\"128\" x2=\"144\" y2=\"128\" style=\"stroke-width:2\" />\n",
       "\n",
       "  <!-- Vertical lines -->\n",
       "  <line x1=\"24\" y1=\"14\" x2=\"24\" y2=\"128\" style=\"stroke-width:2\" />\n",
       "  <line x1=\"47\" y1=\"14\" x2=\"47\" y2=\"128\" />\n",
       "  <line x1=\"70\" y1=\"14\" x2=\"70\" y2=\"128\" />\n",
       "  <line x1=\"93\" y1=\"14\" x2=\"93\" y2=\"128\" />\n",
       "  <line x1=\"116\" y1=\"14\" x2=\"116\" y2=\"128\" />\n",
       "  <line x1=\"139\" y1=\"14\" x2=\"139\" y2=\"128\" />\n",
       "  <line x1=\"144\" y1=\"14\" x2=\"144\" y2=\"128\" style=\"stroke-width:2\" />\n",
       "\n",
       "  <!-- Colored Rectangle -->\n",
       "  <polygon points=\"24.9485979497544,14.948597949754403 144.9485979497544,14.948597949754403 144.9485979497544,128.46029739974043 24.9485979497544,128.46029739974043\" style=\"fill:#ECB172A0;stroke-width:0\"/>\n",
       "\n",
       "  <!-- Text -->\n",
       "  <text x=\"84.948598\" y=\"148.460297\" font-size=\"1.0rem\" font-weight=\"100\" text-anchor=\"middle\" >10727</text>\n",
       "  <text x=\"164.948598\" y=\"71.704448\" font-size=\"1.0rem\" font-weight=\"100\" text-anchor=\"middle\" transform=\"rotate(-90,164.948598,71.704448)\">10147</text>\n",
       "  <text x=\"7.474299\" y=\"140.985998\" font-size=\"1.0rem\" font-weight=\"100\" text-anchor=\"middle\" transform=\"rotate(45,7.474299,140.985998)\">11</text>\n",
       "</svg>\n",
       "        </td>\n",
       "    </tr>\n",
       "</table></div></li><li class='xr-var-item'><div class='xr-var-name'><span>SCL</span></div><div class='xr-var-dims'>(time, y, x)</div><div class='xr-var-dtype'>uint16</div><div class='xr-var-preview xr-preview'>dask.array&lt;chunksize=(1, 2048, 2048), meta=np.ndarray&gt;</div><input id='attrs-6dbfbb5b-ac9b-4f09-87f4-4e27781e53d6' class='xr-var-attrs-in' type='checkbox' disabled><label for='attrs-6dbfbb5b-ac9b-4f09-87f4-4e27781e53d6' title='Show/Hide attributes'><svg class='icon xr-icon-file-text2'><use xlink:href='#icon-file-text2'></use></svg></label><input id='data-8b4e56f0-f70c-4638-9fa0-34e71a5b3c7e' class='xr-var-data-in' type='checkbox'><label for='data-8b4e56f0-f70c-4638-9fa0-34e71a5b3c7e' title='Show/Hide data repr'><svg class='icon xr-icon-database'><use xlink:href='#icon-database'></use></svg></label><div class='xr-var-attrs'><dl class='xr-attrs'></dl></div><div class='xr-var-data'><table>\n",
       "    <tr>\n",
       "        <td>\n",
       "            <table style=\"border-collapse: collapse;\">\n",
       "                <thead>\n",
       "                    <tr>\n",
       "                        <td> </td>\n",
       "                        <th> Array </th>\n",
       "                        <th> Chunk </th>\n",
       "                    </tr>\n",
       "                </thead>\n",
       "                <tbody>\n",
       "                    \n",
       "                    <tr>\n",
       "                        <th> Bytes </th>\n",
       "                        <td> 2.23 GiB </td>\n",
       "                        <td> 8.00 MiB </td>\n",
       "                    </tr>\n",
       "                    \n",
       "                    <tr>\n",
       "                        <th> Shape </th>\n",
       "                        <td> (11, 10147, 10727) </td>\n",
       "                        <td> (1, 2048, 2048) </td>\n",
       "                    </tr>\n",
       "                    <tr>\n",
       "                        <th> Dask graph </th>\n",
       "                        <td colspan=\"2\"> 330 chunks in 382 graph layers </td>\n",
       "                    </tr>\n",
       "                    <tr>\n",
       "                        <th> Data type </th>\n",
       "                        <td colspan=\"2\"> uint16 numpy.ndarray </td>\n",
       "                    </tr>\n",
       "                </tbody>\n",
       "            </table>\n",
       "        </td>\n",
       "        <td>\n",
       "        <svg width=\"194\" height=\"178\" style=\"stroke:rgb(0,0,0);stroke-width:1\" >\n",
       "\n",
       "  <!-- Horizontal lines -->\n",
       "  <line x1=\"10\" y1=\"0\" x2=\"24\" y2=\"14\" style=\"stroke-width:2\" />\n",
       "  <line x1=\"10\" y1=\"22\" x2=\"24\" y2=\"37\" />\n",
       "  <line x1=\"10\" y1=\"45\" x2=\"24\" y2=\"60\" />\n",
       "  <line x1=\"10\" y1=\"68\" x2=\"24\" y2=\"83\" />\n",
       "  <line x1=\"10\" y1=\"91\" x2=\"24\" y2=\"106\" />\n",
       "  <line x1=\"10\" y1=\"113\" x2=\"24\" y2=\"128\" style=\"stroke-width:2\" />\n",
       "\n",
       "  <!-- Vertical lines -->\n",
       "  <line x1=\"10\" y1=\"0\" x2=\"10\" y2=\"113\" style=\"stroke-width:2\" />\n",
       "  <line x1=\"11\" y1=\"1\" x2=\"11\" y2=\"114\" />\n",
       "  <line x1=\"12\" y1=\"2\" x2=\"12\" y2=\"116\" />\n",
       "  <line x1=\"14\" y1=\"4\" x2=\"14\" y2=\"117\" />\n",
       "  <line x1=\"15\" y1=\"5\" x2=\"15\" y2=\"118\" />\n",
       "  <line x1=\"16\" y1=\"6\" x2=\"16\" y2=\"120\" />\n",
       "  <line x1=\"18\" y1=\"8\" x2=\"18\" y2=\"121\" />\n",
       "  <line x1=\"19\" y1=\"9\" x2=\"19\" y2=\"123\" />\n",
       "  <line x1=\"20\" y1=\"10\" x2=\"20\" y2=\"124\" />\n",
       "  <line x1=\"22\" y1=\"12\" x2=\"22\" y2=\"125\" />\n",
       "  <line x1=\"23\" y1=\"13\" x2=\"23\" y2=\"127\" />\n",
       "  <line x1=\"24\" y1=\"14\" x2=\"24\" y2=\"128\" style=\"stroke-width:2\" />\n",
       "\n",
       "  <!-- Colored Rectangle -->\n",
       "  <polygon points=\"10.0,0.0 24.9485979497544,14.948597949754403 24.9485979497544,128.46029739974043 10.0,113.51169944998603\" style=\"fill:#ECB172A0;stroke-width:0\"/>\n",
       "\n",
       "  <!-- Horizontal lines -->\n",
       "  <line x1=\"10\" y1=\"0\" x2=\"130\" y2=\"0\" style=\"stroke-width:2\" />\n",
       "  <line x1=\"11\" y1=\"1\" x2=\"131\" y2=\"1\" />\n",
       "  <line x1=\"12\" y1=\"2\" x2=\"132\" y2=\"2\" />\n",
       "  <line x1=\"14\" y1=\"4\" x2=\"134\" y2=\"4\" />\n",
       "  <line x1=\"15\" y1=\"5\" x2=\"135\" y2=\"5\" />\n",
       "  <line x1=\"16\" y1=\"6\" x2=\"136\" y2=\"6\" />\n",
       "  <line x1=\"18\" y1=\"8\" x2=\"138\" y2=\"8\" />\n",
       "  <line x1=\"19\" y1=\"9\" x2=\"139\" y2=\"9\" />\n",
       "  <line x1=\"20\" y1=\"10\" x2=\"140\" y2=\"10\" />\n",
       "  <line x1=\"22\" y1=\"12\" x2=\"142\" y2=\"12\" />\n",
       "  <line x1=\"23\" y1=\"13\" x2=\"143\" y2=\"13\" />\n",
       "  <line x1=\"24\" y1=\"14\" x2=\"144\" y2=\"14\" style=\"stroke-width:2\" />\n",
       "\n",
       "  <!-- Vertical lines -->\n",
       "  <line x1=\"10\" y1=\"0\" x2=\"24\" y2=\"14\" style=\"stroke-width:2\" />\n",
       "  <line x1=\"32\" y1=\"0\" x2=\"47\" y2=\"14\" />\n",
       "  <line x1=\"55\" y1=\"0\" x2=\"70\" y2=\"14\" />\n",
       "  <line x1=\"78\" y1=\"0\" x2=\"93\" y2=\"14\" />\n",
       "  <line x1=\"101\" y1=\"0\" x2=\"116\" y2=\"14\" />\n",
       "  <line x1=\"124\" y1=\"0\" x2=\"139\" y2=\"14\" />\n",
       "  <line x1=\"130\" y1=\"0\" x2=\"144\" y2=\"14\" style=\"stroke-width:2\" />\n",
       "\n",
       "  <!-- Colored Rectangle -->\n",
       "  <polygon points=\"10.0,0.0 130.0,0.0 144.9485979497544,14.948597949754403 24.9485979497544,14.948597949754403\" style=\"fill:#ECB172A0;stroke-width:0\"/>\n",
       "\n",
       "  <!-- Horizontal lines -->\n",
       "  <line x1=\"24\" y1=\"14\" x2=\"144\" y2=\"14\" style=\"stroke-width:2\" />\n",
       "  <line x1=\"24\" y1=\"37\" x2=\"144\" y2=\"37\" />\n",
       "  <line x1=\"24\" y1=\"60\" x2=\"144\" y2=\"60\" />\n",
       "  <line x1=\"24\" y1=\"83\" x2=\"144\" y2=\"83\" />\n",
       "  <line x1=\"24\" y1=\"106\" x2=\"144\" y2=\"106\" />\n",
       "  <line x1=\"24\" y1=\"128\" x2=\"144\" y2=\"128\" style=\"stroke-width:2\" />\n",
       "\n",
       "  <!-- Vertical lines -->\n",
       "  <line x1=\"24\" y1=\"14\" x2=\"24\" y2=\"128\" style=\"stroke-width:2\" />\n",
       "  <line x1=\"47\" y1=\"14\" x2=\"47\" y2=\"128\" />\n",
       "  <line x1=\"70\" y1=\"14\" x2=\"70\" y2=\"128\" />\n",
       "  <line x1=\"93\" y1=\"14\" x2=\"93\" y2=\"128\" />\n",
       "  <line x1=\"116\" y1=\"14\" x2=\"116\" y2=\"128\" />\n",
       "  <line x1=\"139\" y1=\"14\" x2=\"139\" y2=\"128\" />\n",
       "  <line x1=\"144\" y1=\"14\" x2=\"144\" y2=\"128\" style=\"stroke-width:2\" />\n",
       "\n",
       "  <!-- Colored Rectangle -->\n",
       "  <polygon points=\"24.9485979497544,14.948597949754403 144.9485979497544,14.948597949754403 144.9485979497544,128.46029739974043 24.9485979497544,128.46029739974043\" style=\"fill:#ECB172A0;stroke-width:0\"/>\n",
       "\n",
       "  <!-- Text -->\n",
       "  <text x=\"84.948598\" y=\"148.460297\" font-size=\"1.0rem\" font-weight=\"100\" text-anchor=\"middle\" >10727</text>\n",
       "  <text x=\"164.948598\" y=\"71.704448\" font-size=\"1.0rem\" font-weight=\"100\" text-anchor=\"middle\" transform=\"rotate(-90,164.948598,71.704448)\">10147</text>\n",
       "  <text x=\"7.474299\" y=\"140.985998\" font-size=\"1.0rem\" font-weight=\"100\" text-anchor=\"middle\" transform=\"rotate(45,7.474299,140.985998)\">11</text>\n",
       "</svg>\n",
       "        </td>\n",
       "    </tr>\n",
       "</table></div></li><li class='xr-var-item'><div class='xr-var-name'><span>solar_angle</span></div><div class='xr-var-dims'>(angle, time, angle_y, angle_x)</div><div class='xr-var-dtype'>float32</div><div class='xr-var-preview xr-preview'>dask.array&lt;chunksize=(2, 1, 22, 23), meta=np.ndarray&gt;</div><input id='attrs-66e313a3-e6b2-48b4-b832-27e280a6b678' class='xr-var-attrs-in' type='checkbox' disabled><label for='attrs-66e313a3-e6b2-48b4-b832-27e280a6b678' title='Show/Hide attributes'><svg class='icon xr-icon-file-text2'><use xlink:href='#icon-file-text2'></use></svg></label><input id='data-ef397872-36e5-44f2-91e8-3c55787f34c6' class='xr-var-data-in' type='checkbox'><label for='data-ef397872-36e5-44f2-91e8-3c55787f34c6' title='Show/Hide data repr'><svg class='icon xr-icon-database'><use xlink:href='#icon-database'></use></svg></label><div class='xr-var-attrs'><dl class='xr-attrs'></dl></div><div class='xr-var-data'><table>\n",
       "    <tr>\n",
       "        <td>\n",
       "            <table style=\"border-collapse: collapse;\">\n",
       "                <thead>\n",
       "                    <tr>\n",
       "                        <td> </td>\n",
       "                        <th> Array </th>\n",
       "                        <th> Chunk </th>\n",
       "                    </tr>\n",
       "                </thead>\n",
       "                <tbody>\n",
       "                    \n",
       "                    <tr>\n",
       "                        <th> Bytes </th>\n",
       "                        <td> 43.48 kiB </td>\n",
       "                        <td> 3.95 kiB </td>\n",
       "                    </tr>\n",
       "                    \n",
       "                    <tr>\n",
       "                        <th> Shape </th>\n",
       "                        <td> (2, 11, 22, 23) </td>\n",
       "                        <td> (2, 1, 22, 23) </td>\n",
       "                    </tr>\n",
       "                    <tr>\n",
       "                        <th> Dask graph </th>\n",
       "                        <td colspan=\"2\"> 11 chunks in 473 graph layers </td>\n",
       "                    </tr>\n",
       "                    <tr>\n",
       "                        <th> Data type </th>\n",
       "                        <td colspan=\"2\"> float32 numpy.ndarray </td>\n",
       "                    </tr>\n",
       "                </tbody>\n",
       "            </table>\n",
       "        </td>\n",
       "        <td>\n",
       "        <svg width=\"417\" height=\"198\" style=\"stroke:rgb(0,0,0);stroke-width:1\" >\n",
       "\n",
       "  <!-- Horizontal lines -->\n",
       "  <line x1=\"0\" y1=\"0\" x2=\"37\" y2=\"0\" style=\"stroke-width:2\" />\n",
       "  <line x1=\"0\" y1=\"33\" x2=\"37\" y2=\"33\" style=\"stroke-width:2\" />\n",
       "\n",
       "  <!-- Vertical lines -->\n",
       "  <line x1=\"0\" y1=\"0\" x2=\"0\" y2=\"33\" style=\"stroke-width:2\" />\n",
       "  <line x1=\"37\" y1=\"0\" x2=\"37\" y2=\"33\" style=\"stroke-width:2\" />\n",
       "\n",
       "  <!-- Colored Rectangle -->\n",
       "  <polygon points=\"0.0,0.0 37.80863115979967,0.0 37.80863115979967,33.64443387952181 0.0,33.64443387952181\" style=\"fill:#ECB172A0;stroke-width:0\"/>\n",
       "\n",
       "  <!-- Text -->\n",
       "  <text x=\"18.904316\" y=\"53.644434\" font-size=\"1.0rem\" font-weight=\"100\" text-anchor=\"middle\" >2</text>\n",
       "  <text x=\"57.808631\" y=\"16.822217\" font-size=\"1.0rem\" font-weight=\"100\" text-anchor=\"middle\" transform=\"rotate(0,57.808631,16.822217)\">1</text>\n",
       "\n",
       "\n",
       "  <!-- Horizontal lines -->\n",
       "  <line x1=\"107\" y1=\"0\" x2=\"140\" y2=\"33\" style=\"stroke-width:2\" />\n",
       "  <line x1=\"107\" y1=\"114\" x2=\"140\" y2=\"148\" style=\"stroke-width:2\" />\n",
       "\n",
       "  <!-- Vertical lines -->\n",
       "  <line x1=\"107\" y1=\"0\" x2=\"107\" y2=\"114\" style=\"stroke-width:2\" />\n",
       "  <line x1=\"110\" y1=\"3\" x2=\"110\" y2=\"117\" />\n",
       "  <line x1=\"113\" y1=\"6\" x2=\"113\" y2=\"120\" />\n",
       "  <line x1=\"116\" y1=\"9\" x2=\"116\" y2=\"123\" />\n",
       "  <line x1=\"119\" y1=\"12\" x2=\"119\" y2=\"127\" />\n",
       "  <line x1=\"122\" y1=\"15\" x2=\"122\" y2=\"130\" />\n",
       "  <line x1=\"125\" y1=\"18\" x2=\"125\" y2=\"133\" />\n",
       "  <line x1=\"128\" y1=\"21\" x2=\"128\" y2=\"136\" />\n",
       "  <line x1=\"131\" y1=\"24\" x2=\"131\" y2=\"139\" />\n",
       "  <line x1=\"134\" y1=\"27\" x2=\"134\" y2=\"142\" />\n",
       "  <line x1=\"137\" y1=\"30\" x2=\"137\" y2=\"145\" />\n",
       "  <line x1=\"140\" y1=\"33\" x2=\"140\" y2=\"148\" style=\"stroke-width:2\" />\n",
       "\n",
       "  <!-- Colored Rectangle -->\n",
       "  <polygon points=\"107.0,0.0 140.75959079283888,33.75959079283888 140.75959079283888,148.54219948849106 107.0,114.78260869565219\" style=\"fill:#ECB172A0;stroke-width:0\"/>\n",
       "\n",
       "  <!-- Horizontal lines -->\n",
       "  <line x1=\"107\" y1=\"0\" x2=\"227\" y2=\"0\" style=\"stroke-width:2\" />\n",
       "  <line x1=\"110\" y1=\"3\" x2=\"230\" y2=\"3\" />\n",
       "  <line x1=\"113\" y1=\"6\" x2=\"233\" y2=\"6\" />\n",
       "  <line x1=\"116\" y1=\"9\" x2=\"236\" y2=\"9\" />\n",
       "  <line x1=\"119\" y1=\"12\" x2=\"239\" y2=\"12\" />\n",
       "  <line x1=\"122\" y1=\"15\" x2=\"242\" y2=\"15\" />\n",
       "  <line x1=\"125\" y1=\"18\" x2=\"245\" y2=\"18\" />\n",
       "  <line x1=\"128\" y1=\"21\" x2=\"248\" y2=\"21\" />\n",
       "  <line x1=\"131\" y1=\"24\" x2=\"251\" y2=\"24\" />\n",
       "  <line x1=\"134\" y1=\"27\" x2=\"254\" y2=\"27\" />\n",
       "  <line x1=\"137\" y1=\"30\" x2=\"257\" y2=\"30\" />\n",
       "  <line x1=\"140\" y1=\"33\" x2=\"260\" y2=\"33\" style=\"stroke-width:2\" />\n",
       "\n",
       "  <!-- Vertical lines -->\n",
       "  <line x1=\"107\" y1=\"0\" x2=\"140\" y2=\"33\" style=\"stroke-width:2\" />\n",
       "  <line x1=\"227\" y1=\"0\" x2=\"260\" y2=\"33\" style=\"stroke-width:2\" />\n",
       "\n",
       "  <!-- Colored Rectangle -->\n",
       "  <polygon points=\"107.0,0.0 227.0,0.0 260.7595907928389,33.75959079283888 140.75959079283888,33.75959079283888\" style=\"fill:#ECB172A0;stroke-width:0\"/>\n",
       "\n",
       "  <!-- Horizontal lines -->\n",
       "  <line x1=\"140\" y1=\"33\" x2=\"260\" y2=\"33\" style=\"stroke-width:2\" />\n",
       "  <line x1=\"140\" y1=\"148\" x2=\"260\" y2=\"148\" style=\"stroke-width:2\" />\n",
       "\n",
       "  <!-- Vertical lines -->\n",
       "  <line x1=\"140\" y1=\"33\" x2=\"140\" y2=\"148\" style=\"stroke-width:2\" />\n",
       "  <line x1=\"260\" y1=\"33\" x2=\"260\" y2=\"148\" style=\"stroke-width:2\" />\n",
       "\n",
       "  <!-- Colored Rectangle -->\n",
       "  <polygon points=\"140.75959079283888,33.75959079283888 260.7595907928389,33.75959079283888 260.7595907928389,148.54219948849106 140.75959079283888,148.54219948849106\" style=\"fill:#ECB172A0;stroke-width:0\"/>\n",
       "\n",
       "  <!-- Text -->\n",
       "  <text x=\"200.759591\" y=\"168.542199\" font-size=\"1.0rem\" font-weight=\"100\" text-anchor=\"middle\" >23</text>\n",
       "  <text x=\"280.759591\" y=\"91.150895\" font-size=\"1.0rem\" font-weight=\"100\" text-anchor=\"middle\" transform=\"rotate(0,280.759591,91.150895)\">22</text>\n",
       "  <text x=\"113.879795\" y=\"151.662404\" font-size=\"1.0rem\" font-weight=\"100\" text-anchor=\"middle\" transform=\"rotate(45,113.879795,151.662404)\">11</text>\n",
       "</svg>\n",
       "        </td>\n",
       "    </tr>\n",
       "</table></div></li><li class='xr-var-item'><div class='xr-var-name'><span>viewing_angle</span></div><div class='xr-var-dims'>(angle, band, time, angle_y, angle_x)</div><div class='xr-var-dtype'>float32</div><div class='xr-var-preview xr-preview'>dask.array&lt;chunksize=(2, 3, 1, 22, 23), meta=np.ndarray&gt;</div><input id='attrs-9f0b87f7-8f1d-401a-b699-fcf5b6986dc6' class='xr-var-attrs-in' type='checkbox' disabled><label for='attrs-9f0b87f7-8f1d-401a-b699-fcf5b6986dc6' title='Show/Hide attributes'><svg class='icon xr-icon-file-text2'><use xlink:href='#icon-file-text2'></use></svg></label><input id='data-70f230db-3de9-4e4c-a2ea-7122b3c5d21e' class='xr-var-data-in' type='checkbox'><label for='data-70f230db-3de9-4e4c-a2ea-7122b3c5d21e' title='Show/Hide data repr'><svg class='icon xr-icon-database'><use xlink:href='#icon-database'></use></svg></label><div class='xr-var-attrs'><dl class='xr-attrs'></dl></div><div class='xr-var-data'><table>\n",
       "    <tr>\n",
       "        <td>\n",
       "            <table style=\"border-collapse: collapse;\">\n",
       "                <thead>\n",
       "                    <tr>\n",
       "                        <td> </td>\n",
       "                        <th> Array </th>\n",
       "                        <th> Chunk </th>\n",
       "                    </tr>\n",
       "                </thead>\n",
       "                <tbody>\n",
       "                    \n",
       "                    <tr>\n",
       "                        <th> Bytes </th>\n",
       "                        <td> 130.45 kiB </td>\n",
       "                        <td> 11.86 kiB </td>\n",
       "                    </tr>\n",
       "                    \n",
       "                    <tr>\n",
       "                        <th> Shape </th>\n",
       "                        <td> (2, 3, 11, 22, 23) </td>\n",
       "                        <td> (2, 3, 1, 22, 23) </td>\n",
       "                    </tr>\n",
       "                    <tr>\n",
       "                        <th> Dask graph </th>\n",
       "                        <td colspan=\"2\"> 11 chunks in 1758 graph layers </td>\n",
       "                    </tr>\n",
       "                    <tr>\n",
       "                        <th> Data type </th>\n",
       "                        <td colspan=\"2\"> float32 numpy.ndarray </td>\n",
       "                    </tr>\n",
       "                </tbody>\n",
       "            </table>\n",
       "        </td>\n",
       "        <td>\n",
       "        <svg width=\"423\" height=\"198\" style=\"stroke:rgb(0,0,0);stroke-width:1\" >\n",
       "\n",
       "  <!-- Horizontal lines -->\n",
       "  <line x1=\"0\" y1=\"0\" x2=\"40\" y2=\"0\" style=\"stroke-width:2\" />\n",
       "  <line x1=\"0\" y1=\"37\" x2=\"40\" y2=\"37\" style=\"stroke-width:2\" />\n",
       "\n",
       "  <!-- Vertical lines -->\n",
       "  <line x1=\"0\" y1=\"0\" x2=\"0\" y2=\"37\" style=\"stroke-width:2\" />\n",
       "  <line x1=\"40\" y1=\"0\" x2=\"40\" y2=\"37\" style=\"stroke-width:2\" />\n",
       "\n",
       "  <!-- Colored Rectangle -->\n",
       "  <polygon points=\"0.0,0.0 40.01253641252108,0.0 40.01253641252108,37.80863115979967 0.0,37.80863115979967\" style=\"fill:#ECB172A0;stroke-width:0\"/>\n",
       "\n",
       "  <!-- Text -->\n",
       "  <text x=\"20.006268\" y=\"57.808631\" font-size=\"1.0rem\" font-weight=\"100\" text-anchor=\"middle\" >3</text>\n",
       "  <text x=\"60.012536\" y=\"18.904316\" font-size=\"1.0rem\" font-weight=\"100\" text-anchor=\"middle\" transform=\"rotate(0,60.012536,18.904316)\">2</text>\n",
       "\n",
       "\n",
       "  <!-- Horizontal lines -->\n",
       "  <line x1=\"110\" y1=\"0\" x2=\"143\" y2=\"33\" style=\"stroke-width:2\" />\n",
       "  <line x1=\"110\" y1=\"114\" x2=\"143\" y2=\"148\" style=\"stroke-width:2\" />\n",
       "\n",
       "  <!-- Vertical lines -->\n",
       "  <line x1=\"110\" y1=\"0\" x2=\"110\" y2=\"114\" style=\"stroke-width:2\" />\n",
       "  <line x1=\"113\" y1=\"3\" x2=\"113\" y2=\"117\" />\n",
       "  <line x1=\"116\" y1=\"6\" x2=\"116\" y2=\"120\" />\n",
       "  <line x1=\"119\" y1=\"9\" x2=\"119\" y2=\"123\" />\n",
       "  <line x1=\"122\" y1=\"12\" x2=\"122\" y2=\"127\" />\n",
       "  <line x1=\"125\" y1=\"15\" x2=\"125\" y2=\"130\" />\n",
       "  <line x1=\"128\" y1=\"18\" x2=\"128\" y2=\"133\" />\n",
       "  <line x1=\"131\" y1=\"21\" x2=\"131\" y2=\"136\" />\n",
       "  <line x1=\"134\" y1=\"24\" x2=\"134\" y2=\"139\" />\n",
       "  <line x1=\"137\" y1=\"27\" x2=\"137\" y2=\"142\" />\n",
       "  <line x1=\"140\" y1=\"30\" x2=\"140\" y2=\"145\" />\n",
       "  <line x1=\"143\" y1=\"33\" x2=\"143\" y2=\"148\" style=\"stroke-width:2\" />\n",
       "\n",
       "  <!-- Colored Rectangle -->\n",
       "  <polygon points=\"110.0,0.0 143.75959079283888,33.75959079283888 143.75959079283888,148.54219948849106 110.0,114.78260869565219\" style=\"fill:#ECB172A0;stroke-width:0\"/>\n",
       "\n",
       "  <!-- Horizontal lines -->\n",
       "  <line x1=\"110\" y1=\"0\" x2=\"230\" y2=\"0\" style=\"stroke-width:2\" />\n",
       "  <line x1=\"113\" y1=\"3\" x2=\"233\" y2=\"3\" />\n",
       "  <line x1=\"116\" y1=\"6\" x2=\"236\" y2=\"6\" />\n",
       "  <line x1=\"119\" y1=\"9\" x2=\"239\" y2=\"9\" />\n",
       "  <line x1=\"122\" y1=\"12\" x2=\"242\" y2=\"12\" />\n",
       "  <line x1=\"125\" y1=\"15\" x2=\"245\" y2=\"15\" />\n",
       "  <line x1=\"128\" y1=\"18\" x2=\"248\" y2=\"18\" />\n",
       "  <line x1=\"131\" y1=\"21\" x2=\"251\" y2=\"21\" />\n",
       "  <line x1=\"134\" y1=\"24\" x2=\"254\" y2=\"24\" />\n",
       "  <line x1=\"137\" y1=\"27\" x2=\"257\" y2=\"27\" />\n",
       "  <line x1=\"140\" y1=\"30\" x2=\"260\" y2=\"30\" />\n",
       "  <line x1=\"143\" y1=\"33\" x2=\"263\" y2=\"33\" style=\"stroke-width:2\" />\n",
       "\n",
       "  <!-- Vertical lines -->\n",
       "  <line x1=\"110\" y1=\"0\" x2=\"143\" y2=\"33\" style=\"stroke-width:2\" />\n",
       "  <line x1=\"230\" y1=\"0\" x2=\"263\" y2=\"33\" style=\"stroke-width:2\" />\n",
       "\n",
       "  <!-- Colored Rectangle -->\n",
       "  <polygon points=\"110.0,0.0 230.0,0.0 263.7595907928389,33.75959079283888 143.75959079283888,33.75959079283888\" style=\"fill:#ECB172A0;stroke-width:0\"/>\n",
       "\n",
       "  <!-- Horizontal lines -->\n",
       "  <line x1=\"143\" y1=\"33\" x2=\"263\" y2=\"33\" style=\"stroke-width:2\" />\n",
       "  <line x1=\"143\" y1=\"148\" x2=\"263\" y2=\"148\" style=\"stroke-width:2\" />\n",
       "\n",
       "  <!-- Vertical lines -->\n",
       "  <line x1=\"143\" y1=\"33\" x2=\"143\" y2=\"148\" style=\"stroke-width:2\" />\n",
       "  <line x1=\"263\" y1=\"33\" x2=\"263\" y2=\"148\" style=\"stroke-width:2\" />\n",
       "\n",
       "  <!-- Colored Rectangle -->\n",
       "  <polygon points=\"143.75959079283888,33.75959079283888 263.7595907928389,33.75959079283888 263.7595907928389,148.54219948849106 143.75959079283888,148.54219948849106\" style=\"fill:#ECB172A0;stroke-width:0\"/>\n",
       "\n",
       "  <!-- Text -->\n",
       "  <text x=\"203.759591\" y=\"168.542199\" font-size=\"1.0rem\" font-weight=\"100\" text-anchor=\"middle\" >23</text>\n",
       "  <text x=\"283.759591\" y=\"91.150895\" font-size=\"1.0rem\" font-weight=\"100\" text-anchor=\"middle\" transform=\"rotate(0,283.759591,91.150895)\">22</text>\n",
       "  <text x=\"116.879795\" y=\"151.662404\" font-size=\"1.0rem\" font-weight=\"100\" text-anchor=\"middle\" transform=\"rotate(45,116.879795,151.662404)\">11</text>\n",
       "</svg>\n",
       "        </td>\n",
       "    </tr>\n",
       "</table></div></li></ul></div></li><li class='xr-section-item'><input id='section-e12de743-a8f4-4ed0-8497-753377d6acdc' class='xr-section-summary-in' type='checkbox'  ><label for='section-e12de743-a8f4-4ed0-8497-753377d6acdc' class='xr-section-summary' >Indexes: <span>(7)</span></label><div class='xr-section-inline-details'></div><div class='xr-section-details'><ul class='xr-var-list'><li class='xr-var-item'><div class='xr-index-name'><div>time</div></div><div class='xr-index-preview'>PandasIndex</div><input type='checkbox' disabled/><label></label><input id='index-2fd8e359-bff9-4fe4-bcdf-044e4c31d88a' class='xr-index-data-in' type='checkbox'/><label for='index-2fd8e359-bff9-4fe4-bcdf-044e4c31d88a' title='Show/Hide index repr'><svg class='icon xr-icon-database'><use xlink:href='#icon-database'></use></svg></label><div class='xr-index-data'><pre>PandasIndex(DatetimeIndex([&#x27;2020-07-15 10:15:59.024000&#x27;, &#x27;2020-07-16 10:40:31.024000&#x27;,\n",
       "               &#x27;2020-07-18 10:25:59.024000&#x27;, &#x27;2020-07-20 10:20:31.024000&#x27;,\n",
       "               &#x27;2020-07-21 10:36:29.024000&#x27;, &#x27;2020-07-23 10:30:31.024000&#x27;,\n",
       "               &#x27;2020-07-25 10:15:59.024000&#x27;, &#x27;2020-07-26 10:40:31.024000&#x27;,\n",
       "               &#x27;2020-07-28 10:25:59.024000&#x27;, &#x27;2020-07-30 10:20:31.024000&#x27;,\n",
       "               &#x27;2020-07-31 10:36:29.024000&#x27;],\n",
       "              dtype=&#x27;datetime64[ns]&#x27;, name=&#x27;time&#x27;, freq=None))</pre></div></li><li class='xr-var-item'><div class='xr-index-name'><div>x</div></div><div class='xr-index-preview'>PandasIndex</div><input type='checkbox' disabled/><label></label><input id='index-1ae659c9-a903-479e-87d5-7a6654e34d70' class='xr-index-data-in' type='checkbox'/><label for='index-1ae659c9-a903-479e-87d5-7a6654e34d70' title='Show/Hide index repr'><svg class='icon xr-icon-database'><use xlink:href='#icon-database'></use></svg></label><div class='xr-index-data'><pre>PandasIndex(Index([506555.0, 506565.0, 506575.0, 506585.0, 506595.0, 506605.0, 506615.0,\n",
       "       506625.0, 506635.0, 506645.0,\n",
       "       ...\n",
       "       613725.0, 613735.0, 613745.0, 613755.0, 613765.0, 613775.0, 613785.0,\n",
       "       613795.0, 613805.0, 613815.0],\n",
       "      dtype=&#x27;float64&#x27;, name=&#x27;x&#x27;, length=10727))</pre></div></li><li class='xr-var-item'><div class='xr-index-name'><div>y</div></div><div class='xr-index-preview'>PandasIndex</div><input type='checkbox' disabled/><label></label><input id='index-56287e5e-1065-4702-983a-12a5dea51c3e' class='xr-index-data-in' type='checkbox'/><label for='index-56287e5e-1065-4702-983a-12a5dea51c3e' title='Show/Hide index repr'><svg class='icon xr-icon-database'><use xlink:href='#icon-database'></use></svg></label><div class='xr-index-data'><pre>PandasIndex(Index([5984855.0, 5984845.0, 5984835.0, 5984825.0, 5984815.0, 5984805.0,\n",
       "       5984795.0, 5984785.0, 5984775.0, 5984765.0,\n",
       "       ...\n",
       "       5883485.0, 5883475.0, 5883465.0, 5883455.0, 5883445.0, 5883435.0,\n",
       "       5883425.0, 5883415.0, 5883405.0, 5883395.0],\n",
       "      dtype=&#x27;float64&#x27;, name=&#x27;y&#x27;, length=10147))</pre></div></li><li class='xr-var-item'><div class='xr-index-name'><div>angle_x</div></div><div class='xr-index-preview'>PandasIndex</div><input type='checkbox' disabled/><label></label><input id='index-b66e365c-fd73-421f-bd60-2232856ac5c4' class='xr-index-data-in' type='checkbox'/><label for='index-b66e365c-fd73-421f-bd60-2232856ac5c4' title='Show/Hide index repr'><svg class='icon xr-icon-database'><use xlink:href='#icon-database'></use></svg></label><div class='xr-index-data'><pre>PandasIndex(Index([506555.0, 511555.0, 516555.0, 521555.0, 526555.0, 531555.0, 536555.0,\n",
       "       541555.0, 546555.0, 551555.0, 556555.0, 561555.0, 566555.0, 571555.0,\n",
       "       576555.0, 581555.0, 586555.0, 591555.0, 596555.0, 601555.0, 606555.0,\n",
       "       611555.0, 616555.0],\n",
       "      dtype=&#x27;float64&#x27;, name=&#x27;angle_x&#x27;))</pre></div></li><li class='xr-var-item'><div class='xr-index-name'><div>angle_y</div></div><div class='xr-index-preview'>PandasIndex</div><input type='checkbox' disabled/><label></label><input id='index-4bea4101-e187-4ada-9f5a-72b3e33c9fe5' class='xr-index-data-in' type='checkbox'/><label for='index-4bea4101-e187-4ada-9f5a-72b3e33c9fe5' title='Show/Hide index repr'><svg class='icon xr-icon-database'><use xlink:href='#icon-database'></use></svg></label><div class='xr-index-data'><pre>PandasIndex(Index([5988395.0, 5983395.0, 5978395.0, 5973395.0, 5968395.0, 5963395.0,\n",
       "       5958395.0, 5953395.0, 5948395.0, 5943395.0, 5938395.0, 5933395.0,\n",
       "       5928395.0, 5923395.0, 5918395.0, 5913395.0, 5908395.0, 5903395.0,\n",
       "       5898395.0, 5893395.0, 5888395.0, 5883395.0],\n",
       "      dtype=&#x27;float64&#x27;, name=&#x27;angle_y&#x27;))</pre></div></li><li class='xr-var-item'><div class='xr-index-name'><div>angle</div></div><div class='xr-index-preview'>PandasIndex</div><input type='checkbox' disabled/><label></label><input id='index-e9aeb39c-50e4-42e3-ad73-5453b1348474' class='xr-index-data-in' type='checkbox'/><label for='index-e9aeb39c-50e4-42e3-ad73-5453b1348474' title='Show/Hide index repr'><svg class='icon xr-icon-database'><use xlink:href='#icon-database'></use></svg></label><div class='xr-index-data'><pre>PandasIndex(Index([&#x27;zenith&#x27;, &#x27;azimuth&#x27;], dtype=&#x27;object&#x27;, name=&#x27;angle&#x27;))</pre></div></li><li class='xr-var-item'><div class='xr-index-name'><div>band</div></div><div class='xr-index-preview'>PandasIndex</div><input type='checkbox' disabled/><label></label><input id='index-4c0db9cb-ba54-47a6-a639-d9e0277fefd1' class='xr-index-data-in' type='checkbox'/><label for='index-4c0db9cb-ba54-47a6-a639-d9e0277fefd1' title='Show/Hide index repr'><svg class='icon xr-icon-database'><use xlink:href='#icon-database'></use></svg></label><div class='xr-index-data'><pre>PandasIndex(Index([&#x27;B02&#x27;, &#x27;B03&#x27;, &#x27;B04&#x27;], dtype=&#x27;object&#x27;, name=&#x27;band&#x27;))</pre></div></li></ul></div></li><li class='xr-section-item'><input id='section-b45ae934-8088-4924-9a18-285b3a85b624' class='xr-section-summary-in' type='checkbox'  checked><label for='section-b45ae934-8088-4924-9a18-285b3a85b624' class='xr-section-summary' >Attributes: <span>(2)</span></label><div class='xr-section-inline-details'></div><div class='xr-section-details'><dl class='xr-attrs'><dt><span>stac_item_ids :</span></dt><dd>{&#x27;2020-07-15T10:15:59.024000&#x27;: [&#x27;S2B_MSIL2A_20200715T101559_N0500_R065_T32UND_20230423T052638&#x27;, &#x27;S2B_MSIL2A_20200715T101559_N0500_R065_T32UNE_20230423T052638&#x27;, &#x27;S2B_MSIL2A_20200715T101559_N0500_R065_T32UPD_20230423T052638&#x27;, &#x27;S2B_MSIL2A_20200715T101559_N0500_R065_T32UPE_20230423T052638&#x27;], &#x27;2020-07-16T10:40:31.024000&#x27;: [&#x27;S2A_MSIL2A_20200716T104031_N0500_R008_T32UMD_20230410T110332&#x27;, &#x27;S2A_MSIL2A_20200716T104031_N0500_R008_T32UME_20230410T110332&#x27;, &#x27;S2A_MSIL2A_20200716T104031_N0500_R008_T32UME_20230325T195238&#x27;, &#x27;S2A_MSIL2A_20200716T104031_N0500_R008_T32UND_20230410T110332&#x27;, &#x27;S2A_MSIL2A_20200716T104031_N0500_R008_T32UNE_20230410T110332&#x27;, &#x27;S2A_MSIL2A_20200716T104031_N0500_R008_T32UNE_20230325T195238&#x27;], &#x27;2020-07-18T10:25:59.024000&#x27;: [&#x27;S2B_MSIL2A_20200718T102559_N0500_R108_T32UMD_20230425T043013&#x27;, &#x27;S2B_MSIL2A_20200718T102559_N0500_R108_T32UMD_20230423T131809&#x27;, &#x27;S2B_MSIL2A_20200718T102559_N0500_R108_T32UME_20230425T043013&#x27;, &#x27;S2B_MSIL2A_20200718T102559_N0500_R108_T32UME_20230423T131809&#x27;, &#x27;S2B_MSIL2A_20200718T102559_N0500_R108_T32UND_20230425T043013&#x27;, &#x27;S2B_MSIL2A_20200718T102559_N0500_R108_T32UND_20230423T131809&#x27;, &#x27;S2B_MSIL2A_20200718T102559_N0500_R108_T32UNE_20230425T043013&#x27;, &#x27;S2B_MSIL2A_20200718T102559_N0500_R108_T32UNE_20230423T131809&#x27;, &#x27;S2B_MSIL2A_20200718T102559_N0500_R108_T32UPD_20230425T043013&#x27;, &#x27;S2B_MSIL2A_20200718T102559_N0500_R108_T32UPD_20230423T131809&#x27;, &#x27;S2B_MSIL2A_20200718T102559_N0500_R108_T32UPE_20230425T043013&#x27;], &#x27;2020-07-20T10:20:31.024000&#x27;: [&#x27;S2A_MSIL2A_20200720T102031_N0500_R065_T32UND_20230501T182808&#x27;, &#x27;S2A_MSIL2A_20200720T102031_N0500_R065_T32UNE_20230501T182808&#x27;, &#x27;S2A_MSIL2A_20200720T102031_N0500_R065_T32UPD_20230501T182808&#x27;, &#x27;S2A_MSIL2A_20200720T102031_N0500_R065_T32UPE_20230501T182808&#x27;], &#x27;2020-07-21T10:36:29.024000&#x27;: [&#x27;S2B_MSIL2A_20200721T103629_N0500_R008_T32UMD_20230614T014152&#x27;, &#x27;S2B_MSIL2A_20200721T103629_N0500_R008_T32UME_20230614T014152&#x27;, &#x27;S2B_MSIL2A_20200721T103629_N0500_R008_T32UND_20230614T014152&#x27;, &#x27;S2B_MSIL2A_20200721T103629_N0500_R008_T32UNE_20230614T014152&#x27;], &#x27;2020-07-23T10:30:31.024000&#x27;: [&#x27;S2A_MSIL2A_20200723T103031_N0500_R108_T32UMD_20230504T135307&#x27;, &#x27;S2A_MSIL2A_20200723T103031_N0500_R108_T32UME_20230504T135307&#x27;, &#x27;S2A_MSIL2A_20200723T103031_N0500_R108_T32UND_20230504T135307&#x27;, &#x27;S2A_MSIL2A_20200723T103031_N0500_R108_T32UNE_20230504T135307&#x27;, &#x27;S2A_MSIL2A_20200723T103031_N0500_R108_T32UPD_20230504T135307&#x27;, &#x27;S2A_MSIL2A_20200723T103031_N0500_R108_T32UPE_20230504T135307&#x27;], &#x27;2020-07-25T10:15:59.024000&#x27;: [&#x27;S2B_MSIL2A_20200725T101559_N0500_R065_T32UND_20230430T175257&#x27;, &#x27;S2B_MSIL2A_20200725T101559_N0500_R065_T32UNE_20230430T175257&#x27;, &#x27;S2B_MSIL2A_20200725T101559_N0500_R065_T32UPD_20230430T175257&#x27;, &#x27;S2B_MSIL2A_20200725T101559_N0500_R065_T32UPE_20230430T175257&#x27;], &#x27;2020-07-26T10:40:31.024000&#x27;: [&#x27;S2A_MSIL2A_20200726T104031_N0500_R008_T32UMD_20230506T073348&#x27;, &#x27;S2A_MSIL2A_20200726T104031_N0500_R008_T32UME_20230506T073348&#x27;, &#x27;S2A_MSIL2A_20200726T104031_N0500_R008_T32UND_20230506T073348&#x27;, &#x27;S2A_MSIL2A_20200726T104031_N0500_R008_T32UNE_20230506T073348&#x27;], &#x27;2020-07-28T10:25:59.024000&#x27;: [&#x27;S2B_MSIL2A_20200728T102559_N0500_R108_T32UMD_20230505T111819&#x27;, &#x27;S2B_MSIL2A_20200728T102559_N0500_R108_T32UME_20230505T111819&#x27;, &#x27;S2B_MSIL2A_20200728T102559_N0500_R108_T32UND_20230505T111819&#x27;, &#x27;S2B_MSIL2A_20200728T102559_N0500_R108_T32UNE_20230505T111819&#x27;, &#x27;S2B_MSIL2A_20200728T102559_N0500_R108_T32UPD_20230505T111819&#x27;, &#x27;S2B_MSIL2A_20200728T102559_N0500_R108_T32UPE_20230505T111819&#x27;], &#x27;2020-07-30T10:20:31.024000&#x27;: [&#x27;S2A_MSIL2A_20200730T102031_N0500_R065_T32UND_20230414T031753&#x27;, &#x27;S2A_MSIL2A_20200730T102031_N0500_R065_T32UNE_20230414T031753&#x27;, &#x27;S2A_MSIL2A_20200730T102031_N0500_R065_T32UPD_20230414T031753&#x27;, &#x27;S2A_MSIL2A_20200730T102031_N0500_R065_T32UPE_20230414T031753&#x27;], &#x27;2020-07-31T10:36:29.024000&#x27;: [&#x27;S2B_MSIL2A_20200731T103629_N0500_R008_T32UMD_20230523T160015&#x27;, &#x27;S2B_MSIL2A_20200731T103629_N0500_R008_T32UMD_20230523T094537&#x27;, &#x27;S2B_MSIL2A_20200731T103629_N0500_R008_T32UME_20230523T160015&#x27;, &#x27;S2B_MSIL2A_20200731T103629_N0500_R008_T32UND_20230523T160015&#x27;, &#x27;S2B_MSIL2A_20200731T103629_N0500_R008_T32UND_20230523T094537&#x27;, &#x27;S2B_MSIL2A_20200731T103629_N0500_R008_T32UNE_20230523T160015&#x27;]}</dd><dt><span>stac_catalog_url :</span></dt><dd>https://stac.dataspace.copernicus.eu/v1</dd></dl></div></li></ul></div></div>"
      ],
      "text/plain": [
       "<xarray.Dataset> Size: 17GB\n",
       "Dimensions:        (time: 11, y: 10147, x: 10727, angle_x: 23, angle_y: 22,\n",
       "                    angle: 2, band: 3)\n",
       "Coordinates:\n",
       "  * time           (time) datetime64[ns] 88B 2020-07-15T10:15:59.024000 ... 2...\n",
       "    spatial_ref    int64 8B 0\n",
       "  * x              (x) float64 86kB 5.066e+05 5.066e+05 ... 6.138e+05 6.138e+05\n",
       "  * y              (y) float64 81kB 5.985e+06 5.985e+06 ... 5.883e+06 5.883e+06\n",
       "  * angle_x        (angle_x) float64 184B 5.066e+05 5.116e+05 ... 6.166e+05\n",
       "  * angle_y        (angle_y) float64 176B 5.988e+06 5.983e+06 ... 5.883e+06\n",
       "  * angle          (angle) object 16B 'zenith' 'azimuth'\n",
       "  * band           (band) <U3 36B 'B02' 'B03' 'B04'\n",
       "Data variables:\n",
       "    B02            (time, y, x) float32 5GB dask.array<chunksize=(1, 2048, 2048), meta=np.ndarray>\n",
       "    B03            (time, y, x) float32 5GB dask.array<chunksize=(1, 2048, 2048), meta=np.ndarray>\n",
       "    B04            (time, y, x) float32 5GB dask.array<chunksize=(1, 2048, 2048), meta=np.ndarray>\n",
       "    SCL            (time, y, x) uint16 2GB dask.array<chunksize=(1, 2048, 2048), meta=np.ndarray>\n",
       "    solar_angle    (angle, time, angle_y, angle_x) float32 45kB dask.array<chunksize=(2, 1, 22, 23), meta=np.ndarray>\n",
       "    viewing_angle  (angle, band, time, angle_y, angle_x) float32 134kB dask.array<chunksize=(2, 3, 1, 22, 23), meta=np.ndarray>\n",
       "Attributes:\n",
       "    stac_item_ids:     {'2020-07-15T10:15:59.024000': ['S2B_MSIL2A_20200715T1...\n",
       "    stac_catalog_url:  https://stac.dataspace.copernicus.eu/v1"
      ]
     },
     "execution_count": 9,
     "metadata": {},
     "output_type": "execute_result"
    }
   ],
   "source": [
    "%%time\n",
    "ds = store.open_data(\n",
    "    data_id=\"sentinel-2-l2a\",\n",
    "    bbox=bbox_utm,\n",
    "    time_range=[\"2020-07-15\", \"2020-08-01\"],\n",
    "    spatial_res=10,\n",
    "    crs=crs_target,\n",
    "    asset_names=[\"B02\", \"B03\", \"B04\", \"SCL\"],\n",
    "    apply_scaling=True,\n",
    "    angles_sentinel2=True,\n",
    ")\n",
    "ds"
   ]
  },
  {
   "cell_type": "markdown",
   "metadata": {},
   "source": [
    "Note that the search function in the CDSE STAC API is very slow. Further investigation and comparison with other STAC APIs is needed. "
   ]
  },
  {
   "cell_type": "markdown",
   "metadata": {},
   "source": [
    "We can plot the B04 (red) band for a given timestamp as an example. Hereby a mosaicking of multiple tiles have been applied. Additionally, we plot the solar and viewing angle."
   ]
  },
  {
   "cell_type": "code",
   "execution_count": null,
   "metadata": {},
   "outputs": [],
   "source": [
    "%%time\n",
    "fig, ax = plt.subplots(1, 3, figsize=(20, 6))\n",
    "ds.B04.isel(time=-1)[::10, ::10].plot(ax=ax[0], vmin=0, vmax=0.2)\n",
    "ds.solar_angle.isel(angle=0, time=-1).plot(ax=ax[1])\n",
    "ds.viewing_angle.isel(band=2, angle=0, time=-1).plot(ax=ax[2])"
   ]
  },
  {
   "cell_type": "markdown",
   "metadata": {},
   "source": [
    "----\n",
    "## Data store in the single-tile mode\n",
    "For completeness, we initiate the data store in the single-tile mode and open data of one tile. "
   ]
  },
  {
   "cell_type": "code",
   "execution_count": null,
   "metadata": {},
   "outputs": [],
   "source": [
    "%%time\n",
    "store = new_data_store(\"stac-cdse\", stack_mode=False, **credentials)"
   ]
  },
  {
   "cell_type": "markdown",
   "metadata": {},
   "source": [
    "The data IDs point to a [STAC item's JSON](https://github.com/radiantearth/stac-spec/blob/master/item-spec/item-spec.md) and are specified by the segment of the URL that follows the catalog's URL. The data IDs can be streamed using the following code where we show the first 10 data IDs as an example.\n",
    "\n",
    "⚠️ Warning: If you use `store.list_data_ids()` it will try to collect all Sentinel-2 tiles in the archive, before printing the result. This can take a while, and is not recommended. "
   ]
  },
  {
   "cell_type": "code",
   "execution_count": null,
   "metadata": {},
   "outputs": [],
   "source": [
    "%%time\n",
    "data_ids = store.get_data_ids()\n",
    "list(itertools.islice(data_ids, 10))"
   ]
  },
  {
   "cell_type": "markdown",
   "metadata": {},
   "source": [
    "In the next step, we can search for items using search parameters. The following code shows which search parameters are available."
   ]
  },
  {
   "cell_type": "code",
   "execution_count": null,
   "metadata": {},
   "outputs": [],
   "source": [
    "%%time\n",
    "search_params = store.get_search_params_schema()\n",
    "search_params"
   ]
  },
  {
   "cell_type": "markdown",
   "metadata": {},
   "source": [
    " Next, we will search for tiles of Sentinel-2 data."
   ]
  },
  {
   "cell_type": "code",
   "execution_count": null,
   "metadata": {},
   "outputs": [],
   "source": [
    "%%time\n",
    "descriptors = list(\n",
    "    store.search_data(\n",
    "        collections=[\"sentinel-2-l2a\"],\n",
    "        bbox=[9, 47, 10, 48],\n",
    "        time_range=[\"2020-07-01\", \"2020-07-05\"],\n",
    "    )\n",
    ")\n",
    "[d.to_dict() for d in descriptors]"
   ]
  },
  {
   "cell_type": "markdown",
   "metadata": {},
   "source": [
    "In the next step, we can open the data for each data ID. The following code shows which parameters are available for opening the data."
   ]
  },
  {
   "cell_type": "code",
   "execution_count": null,
   "metadata": {},
   "outputs": [],
   "source": [
    "%%time\n",
    "open_params = store.get_open_data_params_schema()\n",
    "open_params"
   ]
  },
  {
   "cell_type": "markdown",
   "metadata": {},
   "source": [
    "We select the band B04 (red), B03 (green), B02 (blue), and the science classification layer (SLC), and lazily load the corresponding data."
   ]
  },
  {
   "cell_type": "code",
   "execution_count": null,
   "metadata": {},
   "outputs": [],
   "source": [
    "%%time\n",
    "ds = store.open_data(\n",
    "    \"collections/sentinel-2-l2a/items/S2B_MSIL2A_20200705T101559_N0500_R065_T32TMT_20230530T175912\",\n",
    "    asset_names=[\"B04\", \"B03\", \"B02\", \"SCL\"],\n",
    "    apply_scaling=True,\n",
    "    angles_sentinel2=True,\n",
    ")\n",
    "ds"
   ]
  },
  {
   "cell_type": "markdown",
   "metadata": {},
   "source": [
    "We plot the loaded data as an example below."
   ]
  },
  {
   "cell_type": "code",
   "execution_count": null,
   "metadata": {},
   "outputs": [],
   "source": [
    "%%time\n",
    "ds.B04[::10, ::10].plot(vmin=0.0, vmax=0.2)"
   ]
  },
  {
   "cell_type": "markdown",
   "metadata": {},
   "source": [
    "We can also open a `.jp2` as a [xcube's multi-resolution  dataset](https://xcube.readthedocs.io/en/latest/mldatasets.html#xcube-multi-resolution-datasets), where we can select the level of resolution, shown below.  "
   ]
  },
  {
   "cell_type": "code",
   "execution_count": null,
   "metadata": {},
   "outputs": [],
   "source": [
    "%%time\n",
    "mlds = store.open_data(\n",
    "    descriptors[3].data_id,\n",
    "    data_type=\"mldataset\",\n",
    "    asset_names=[\"B04\", \"B03\", \"B02\"],\n",
    "    apply_scaling=True,\n",
    "    angles_sentinel2=True,\n",
    ")\n",
    "mlds.num_levels"
   ]
  },
  {
   "cell_type": "code",
   "execution_count": null,
   "metadata": {},
   "outputs": [],
   "source": [
    "%%time\n",
    "ds = mlds.get_dataset(2)\n",
    "ds"
   ]
  },
  {
   "cell_type": "code",
   "execution_count": null,
   "metadata": {},
   "outputs": [],
   "source": [
    "%%time\n",
    "ds.B04[::10, ::10].plot(vmin=0.0, vmax=0.2)"
   ]
  }
 ],
 "metadata": {
  "kernelspec": {
   "display_name": "Python 3 (ipykernel)",
   "language": "python",
   "name": "python3"
  },
  "language_info": {
   "codemirror_mode": {
    "name": "ipython",
    "version": 3
   },
   "file_extension": ".py",
   "mimetype": "text/x-python",
   "name": "python",
   "nbconvert_exporter": "python",
   "pygments_lexer": "ipython3",
   "version": "3.13.3"
  }
 },
 "nbformat": 4,
 "nbformat_minor": 4
}
