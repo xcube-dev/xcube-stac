{
 "cells": [
  {
   "cell_type": "markdown",
   "metadata": {},
   "source": [
    "# Load GeoTiff file from a non-seachable STAC catalog\n",
    "\n",
    "This notebook shows an example how to load a GeoTIFF file from a non-searchable STAC catalog. \n",
    "\n",
    "A non-searchable catalog does not implement the [STAC API - Item Search](https://github.com/radiantearth/stac-api-spec/tree/release/v1.0.0/item-search) conformance class. When searching in such type of catalog, the catalog needs to be crawled through and the items properties needs to be matched to the search parameters. This process can be slow, especially for large catalogs.\n",
    "\n",
    "### Setup\n",
    "In order to run this notebook you may install [`xcube_stac`](https://github.com/xcube-dev/xcube-stac), following the [README](../README.md).\n",
    "\n",
    "Now, we first import everything we need:"
   ]
  },
  {
   "cell_type": "code",
   "execution_count": 1,
   "metadata": {},
   "outputs": [
    {
     "name": "stdout",
     "output_type": "stream",
     "text": [
      "CPU times: user 2.96 s, sys: 234 ms, total: 3.19 s\n",
      "Wall time: 1.25 s\n"
     ]
    }
   ],
   "source": [
    "%%time\n",
    "from xcube.core.store import new_data_store, get_data_store_params_schema\n",
    "import itertools"
   ]
  },
  {
   "cell_type": "markdown",
   "metadata": {},
   "source": [
    "First, we get the store parameters needed to initialize a STAC [data store](https://xcube.readthedocs.io/en/latest/dataaccess.html#data-store-framework). "
   ]
  },
  {
   "cell_type": "code",
   "execution_count": 2,
   "metadata": {},
   "outputs": [
    {
     "data": {
      "application/json": {
       "additionalProperties": true,
       "description": "Describes the parameters of the xcube data store 'stac'.",
       "properties": {
        "anon": {
         "title": "Whether to anonymously connect to AWS S3.",
         "type": "boolean"
        },
        "asynchronous": {
         "type": "boolean"
        },
        "client_kwargs": {
         "additionalProperties": true,
         "description": "Parameters for the botocore client.",
         "properties": {
          "endpoint_url": {
           "format": "uri",
           "minLength": 1,
           "title": "Alternative endpoint URL.",
           "type": "string"
          },
          "profile_name": {
           "description": "Section name with within ~/.aws/config file, which provides AWS configurations and credentials.",
           "minLength": 1,
           "title": "Name of the AWS configuration profile",
           "type": "string"
          },
          "region_name": {
           "minLength": 1,
           "title": "AWS storage region name",
           "type": "string"
          }
         },
         "type": "object"
        },
        "key": {
         "description": "Can also be set in profile section of ~/.aws/config, or by environment variable AWS_ACCESS_KEY_ID.",
         "minLength": 1,
         "title": "AWS access key identifier.",
         "type": "string"
        },
        "listings_expiry_time": {
         "type": "number"
        },
        "max_paths": {
         "type": "integer"
        },
        "requester_pays": {
         "default": false,
         "description": "If \"RequesterPays\" buckets are supported.",
         "type": "boolean"
        },
        "s3_additional_kwargs": {
         "additionalProperties": true,
         "description": "parameters that are used when calling S3 API methods. Typically used for things like \"ServerSideEncryption\".",
         "properties": {},
         "type": "object"
        },
        "secret": {
         "description": "Can also be set in profile section of ~/.aws/config, or by environment variable AWS_SECRET_ACCESS_KEY.",
         "minLength": 1,
         "title": "AWS secret access key.",
         "type": "string"
        },
        "skip_instance_cache": {
         "type": "boolean"
        },
        "stack_mode": {
         "default": false,
         "description": "If True, 'odc-stac' is used as a default backend.",
         "title": "Decide if stacking of STAC items is applied",
         "type": "boolean"
        },
        "token": {
         "description": "Can also be set in profile section of ~/.aws/config, or by environment variable AWS_SESSION_TOKEN.",
         "minLength": 1,
         "title": "Session token.",
         "type": "string"
        },
        "url": {
         "title": "URL to STAC catalog",
         "type": "string"
        },
        "use_listings_cache": {
         "type": "boolean"
        },
        "use_ssl": {
         "default": true,
         "description": "Whether to use SSL in connections to S3; may be faster without, but insecure.",
         "type": "boolean"
        }
       },
       "required": [
        "url"
       ],
       "type": "object"
      },
      "text/plain": [
       "<xcube.util.jsonschema.JsonObjectSchema at 0x77cc96077f50>"
      ]
     },
     "execution_count": 2,
     "metadata": {},
     "output_type": "execute_result"
    }
   ],
   "source": [
    "get_data_store_params_schema(\"stac\")"
   ]
  },
  {
   "cell_type": "markdown",
   "metadata": {},
   "source": [
    "We determine the url of the [EcoDataCube.eu](https://stac.ecodatacube.eu/) STAC catalog and initiate a STAC [data store](https://xcube.readthedocs.io/en/latest/dataaccess.html#data-store-framework) where the `xcube-stac` plugin is recognized by setting the first argument to `\"stac\"` in the `new_data_store` function."
   ]
  },
  {
   "cell_type": "code",
   "execution_count": 3,
   "metadata": {},
   "outputs": [
    {
     "name": "stdout",
     "output_type": "stream",
     "text": [
      "CPU times: user 20.9 ms, sys: 1.99 ms, total: 22.9 ms\n",
      "Wall time: 332 ms\n"
     ]
    },
    {
     "name": "stderr",
     "output_type": "stream",
     "text": [
      "/home/konstantin/micromamba/envs/xcube-stac/lib/python3.12/site-packages/pystac_client/client.py:186: NoConformsTo: Server does not advertise any conformance classes.\n",
      "  warnings.warn(NoConformsTo())\n"
     ]
    }
   ],
   "source": [
    "%%time\n",
    "url = \"https://s3.eu-central-1.wasabisys.com/stac/odse/catalog.json\"\n",
    "store = new_data_store(\"stac\", url=url)"
   ]
  },
  {
   "cell_type": "markdown",
   "metadata": {},
   "source": [
    "The data IDs point to a [STAC item's JSON](https://github.com/radiantearth/stac-spec/blob/master/item-spec/item-spec.md) and are specified by the segment of the URL that follows the catalog's URL. The data IDs can be streamed using the following code where we show the first 10 data IDs as an example."
   ]
  },
  {
   "cell_type": "code",
   "execution_count": 4,
   "metadata": {},
   "outputs": [
    {
     "name": "stdout",
     "output_type": "stream",
     "text": [
      "CPU times: user 966 ms, sys: 124 ms, total: 1.09 s\n",
      "Wall time: 20.5 s\n"
     ]
    },
    {
     "data": {
      "text/plain": [
       "['lcv_land.mask_eumap/lcv_land.mask_eumap_2014.01.01..2016.12.31/lcv_land.mask_eumap_2014.01.01..2016.12.31.json',\n",
       " 'lcv_blue_landsat.glad.ard/lcv_blue_landsat.glad.ard_1999.12.02..2000.03.20/lcv_blue_landsat.glad.ard_1999.12.02..2000.03.20.json',\n",
       " 'lcv_blue_landsat.glad.ard/lcv_blue_landsat.glad.ard_2000.03.21..2000.06.24/lcv_blue_landsat.glad.ard_2000.03.21..2000.06.24.json',\n",
       " 'lcv_blue_landsat.glad.ard/lcv_blue_landsat.glad.ard_2000.06.25..2000.09.12/lcv_blue_landsat.glad.ard_2000.06.25..2000.09.12.json',\n",
       " 'lcv_blue_landsat.glad.ard/lcv_blue_landsat.glad.ard_2000.09.13..2000.12.01/lcv_blue_landsat.glad.ard_2000.09.13..2000.12.01.json',\n",
       " 'lcv_blue_landsat.glad.ard/lcv_blue_landsat.glad.ard_2000.12.02..2001.03.20/lcv_blue_landsat.glad.ard_2000.12.02..2001.03.20.json',\n",
       " 'lcv_blue_landsat.glad.ard/lcv_blue_landsat.glad.ard_2001.03.21..2001.06.24/lcv_blue_landsat.glad.ard_2001.03.21..2001.06.24.json',\n",
       " 'lcv_blue_landsat.glad.ard/lcv_blue_landsat.glad.ard_2001.06.25..2001.09.12/lcv_blue_landsat.glad.ard_2001.06.25..2001.09.12.json',\n",
       " 'lcv_blue_landsat.glad.ard/lcv_blue_landsat.glad.ard_2001.09.13..2001.12.01/lcv_blue_landsat.glad.ard_2001.09.13..2001.12.01.json',\n",
       " 'lcv_blue_landsat.glad.ard/lcv_blue_landsat.glad.ard_2001.12.02..2002.03.20/lcv_blue_landsat.glad.ard_2001.12.02..2002.03.20.json']"
      ]
     },
     "execution_count": 4,
     "metadata": {},
     "output_type": "execute_result"
    }
   ],
   "source": [
    "%%time\n",
    "data_ids = store.get_data_ids()\n",
    "list(itertools.islice(data_ids, 10))"
   ]
  },
  {
   "cell_type": "markdown",
   "metadata": {},
   "source": [
    "In the next step, we can search for items using search parameters. The following code shows which search parameters are available."
   ]
  },
  {
   "cell_type": "code",
   "execution_count": 5,
   "metadata": {},
   "outputs": [
    {
     "name": "stdout",
     "output_type": "stream",
     "text": [
      "CPU times: user 27 μs, sys: 3 μs, total: 30 μs\n",
      "Wall time: 32.9 μs\n"
     ]
    },
    {
     "data": {
      "application/json": {
       "additionalProperties": false,
       "properties": {
        "bbox": {
         "items": [
          {
           "type": "number"
          },
          {
           "type": "number"
          },
          {
           "type": "number"
          },
          {
           "type": "number"
          }
         ],
         "title": "Bounding box [x1,y1,x2,y2] in geographical coordinates.",
         "type": "array"
        },
        "collections": {
         "description": "Collection IDs to be included in the search request.",
         "items": {
          "minLength": 0,
          "type": "string"
         },
         "title": "Collection IDs",
         "type": "array",
         "uniqueItems": true
        },
        "query": {
         "additionalProperties": true,
         "description": "If STAC Catalog is conform with query extension, additional filtering based on the properties of Item objects is supported. For more information see https://github.com/stac-api-extensions/query",
         "properties": {},
         "title": "Additional query options used during item search of STAC API.",
         "type": "object"
        },
        "time_range": {
         "description": "Time range given as pair of start and stop dates. Dates must be given using format 'YYYY-MM-DD'. Start and stop are inclusive.",
         "items": [
          {
           "format": "date",
           "type": [
            "string",
            "null"
           ]
          },
          {
           "format": "date",
           "type": [
            "string",
            "null"
           ]
          }
         ],
         "title": "Time Range",
         "type": "array"
        }
       },
       "type": "object"
      },
      "text/plain": [
       "<xcube.util.jsonschema.JsonObjectSchema at 0x77cc8cba22a0>"
      ]
     },
     "execution_count": 5,
     "metadata": {},
     "output_type": "execute_result"
    }
   ],
   "source": [
    "%%time\n",
    "search_params = store.get_search_params_schema()\n",
    "search_params"
   ]
  },
  {
   "cell_type": "markdown",
   "metadata": {},
   "source": [
    "Now, let's search for Landsat Thematic Mapper data for the European region during the first quarter of 2000."
   ]
  },
  {
   "cell_type": "code",
   "execution_count": 6,
   "metadata": {},
   "outputs": [
    {
     "name": "stdout",
     "output_type": "stream",
     "text": [
      "CPU times: user 297 ms, sys: 65.2 ms, total: 362 ms\n",
      "Wall time: 10.6 s\n"
     ]
    },
    {
     "data": {
      "text/plain": [
       "[{'data_id': 'lcv_blue_landsat.glad.ard/lcv_blue_landsat.glad.ard_1999.12.02..2000.03.20/lcv_blue_landsat.glad.ard_1999.12.02..2000.03.20.json',\n",
       "  'data_type': 'dataset',\n",
       "  'bbox': [-23.550818268711048,\n",
       "   24.399543432891665,\n",
       "   63.352379098951936,\n",
       "   77.69295185585888],\n",
       "  'time_range': ('1999-12-02', '2000-03-20')},\n",
       " {'data_id': 'lcv_blue_landsat.glad.ard/lcv_blue_landsat.glad.ard_2000.03.21..2000.06.24/lcv_blue_landsat.glad.ard_2000.03.21..2000.06.24.json',\n",
       "  'data_type': 'dataset',\n",
       "  'bbox': [-23.550818268711048,\n",
       "   24.399543432891665,\n",
       "   63.352379098951936,\n",
       "   77.69295185585888],\n",
       "  'time_range': ('2000-03-21', '2000-06-24')}]"
      ]
     },
     "execution_count": 6,
     "metadata": {},
     "output_type": "execute_result"
    }
   ],
   "source": [
    "%%time\n",
    "descriptors = list(\n",
    "    store.search_data(\n",
    "        collections=[\"lcv_blue_landsat.glad.ard\"],\n",
    "        bbox=[-10, 40, 40, 70],\n",
    "        time_range=[\"2000-01-01\", \"2000-04-01\"],\n",
    "    )\n",
    ")\n",
    "[d.to_dict() for d in descriptors]"
   ]
  },
  {
   "cell_type": "markdown",
   "metadata": {},
   "source": [
    "In the next step, we can open the data for each data ID. The following code shows which parameters are available for opening the data."
   ]
  },
  {
   "cell_type": "code",
   "execution_count": 7,
   "metadata": {},
   "outputs": [
    {
     "name": "stdout",
     "output_type": "stream",
     "text": [
      "CPU times: user 86 μs, sys: 9 μs, total: 95 μs\n",
      "Wall time: 97.5 μs\n"
     ]
    },
    {
     "data": {
      "application/json": {
       "additionalProperties": false,
       "properties": {
        "angles_sentinel2": {
         "default": false,
         "description": "Viewing and solar angles will be extracted for all spectral bands defined in keyword `asset_name`.",
         "title": "Add viewing and solar angles from Sentinel2 metadata.",
         "type": "boolean"
        },
        "apply_scaling": {
         "title": "Apply scaling, offset, and no-data values to data.",
         "type": "boolean"
        },
        "asset_names": {
         "description": "Names of assets which will be included in the data cube.",
         "items": {
          "minLength": 0,
          "type": "string"
         },
         "title": "Names of assets",
         "type": "array",
         "uniqueItems": true
        },
        "open_params_dataset_geotiff": {
         "additionalProperties": false,
         "properties": {
          "overview_level": {
           "default": null,
           "description": "GeoTIFF overview level. 0 is the first overview.",
           "type": [
            "integer",
            "null"
           ]
          },
          "tile_size": {
           "default": [
            512,
            512
           ],
           "items": [
            {
             "default": 512,
             "minimum": 256,
             "type": "number"
            },
            {
             "default": 512,
             "minimum": 256,
             "type": "number"
            }
           ],
           "type": "array"
          }
         },
         "type": "object"
        },
        "open_params_dataset_jp2": {
         "additionalProperties": false,
         "properties": {
          "overview_level": {
           "default": null,
           "description": "GeoTIFF overview level. 0 is the first overview.",
           "type": [
            "integer",
            "null"
           ]
          },
          "tile_size": {
           "default": [
            512,
            512
           ],
           "items": [
            {
             "default": 512,
             "minimum": 256,
             "type": "number"
            },
            {
             "default": 512,
             "minimum": 256,
             "type": "number"
            }
           ],
           "type": "array"
          }
         },
         "type": "object"
        },
        "open_params_dataset_levels": {
         "additionalProperties": false,
         "properties": {
          "cache_size": {
           "minimum": 0,
           "type": "integer"
          },
          "chunks": {
           "additionalProperties": true,
           "description": "Optional chunk sizes along each dimension. Chunk size values may be None, \"auto\" or an integer value.",
           "examples": [
            {
             "lat": "auto",
             "lon": 90,
             "time": null
            },
            {
             "time": 1,
             "x": 512,
             "y": 512
            }
           ],
           "properties": {},
           "type": "object"
          },
          "consolidated": {
           "default": false,
           "description": "Whether to open the store using Zarr's consolidated metadata capability. Only works for stores that have already been consolidated.",
           "type": "boolean"
          },
          "decode_cf": {
           "default": true,
           "description": "Whether to decode these variables, assuming they were saved according to CF conventions.",
           "type": "boolean"
          },
          "decode_coords": {
           "default": true,
           "description": "If True, decode the \"coordinates\" attribute to identify coordinates in the resulting dataset.",
           "type": "boolean"
          },
          "decode_times": {
           "default": true,
           "description": "If True, decode times encoded in the standard NetCDF datetime format into datetime objects. Otherwise, leave them encoded as numbers.",
           "type": "boolean"
          },
          "drop_variables": {
           "items": {
            "minLength": 1,
            "type": "string"
           },
           "type": "array"
          },
          "group": {
           "description": "Group path. (a.k.a. path in zarr terminology.).",
           "minLength": 1,
           "type": "string"
          },
          "log_access": {
           "default": false,
           "type": "boolean"
          },
          "mask_and_scale": {
           "default": true,
           "description": "If True, replace array values equal to attribute \"_FillValue\" with NaN.  Use \"scale_factor\" and \"add_offset\" attributes to compute actual values.",
           "type": "boolean"
          }
         },
         "type": "object"
        },
        "open_params_dataset_netcdf": {
         "additionalProperties": true,
         "properties": {},
         "type": "object"
        },
        "open_params_dataset_zarr": {
         "additionalProperties": false,
         "properties": {
          "cache_size": {
           "minimum": 0,
           "type": "integer"
          },
          "chunks": {
           "additionalProperties": true,
           "description": "Optional chunk sizes along each dimension. Chunk size values may be None, \"auto\" or an integer value.",
           "examples": [
            {
             "lat": "auto",
             "lon": 90,
             "time": null
            },
            {
             "time": 1,
             "x": 512,
             "y": 512
            }
           ],
           "properties": {},
           "type": "object"
          },
          "consolidated": {
           "default": false,
           "description": "Whether to open the store using Zarr's consolidated metadata capability. Only works for stores that have already been consolidated.",
           "type": "boolean"
          },
          "decode_cf": {
           "default": true,
           "description": "Whether to decode these variables, assuming they were saved according to CF conventions.",
           "type": "boolean"
          },
          "decode_coords": {
           "default": true,
           "description": "If True, decode the \"coordinates\" attribute to identify coordinates in the resulting dataset.",
           "type": "boolean"
          },
          "decode_times": {
           "default": true,
           "description": "If True, decode times encoded in the standard NetCDF datetime format into datetime objects. Otherwise, leave them encoded as numbers.",
           "type": "boolean"
          },
          "drop_variables": {
           "items": {
            "minLength": 1,
            "type": "string"
           },
           "type": "array"
          },
          "group": {
           "description": "Group path. (a.k.a. path in zarr terminology.).",
           "minLength": 1,
           "type": "string"
          },
          "log_access": {
           "default": false,
           "type": "boolean"
          },
          "mask_and_scale": {
           "default": true,
           "description": "If True, replace array values equal to attribute \"_FillValue\" with NaN.  Use \"scale_factor\" and \"add_offset\" attributes to compute actual values.",
           "type": "boolean"
          }
         },
         "type": "object"
        },
        "open_params_mldataset_geotiff": {
         "additionalProperties": false,
         "properties": {
          "tile_size": {
           "default": [
            512,
            512
           ],
           "items": [
            {
             "default": 512,
             "minimum": 256,
             "type": "number"
            },
            {
             "default": 512,
             "minimum": 256,
             "type": "number"
            }
           ],
           "type": "array"
          }
         },
         "type": "object"
        },
        "open_params_mldataset_jp2": {
         "additionalProperties": false,
         "properties": {
          "tile_size": {
           "default": [
            512,
            512
           ],
           "items": [
            {
             "default": 512,
             "minimum": 256,
             "type": "number"
            },
            {
             "default": 512,
             "minimum": 256,
             "type": "number"
            }
           ],
           "type": "array"
          }
         },
         "type": "object"
        },
        "open_params_mldataset_levels": {
         "additionalProperties": false,
         "properties": {
          "cache_size": {
           "minimum": 0,
           "type": "integer"
          },
          "chunks": {
           "additionalProperties": true,
           "description": "Optional chunk sizes along each dimension. Chunk size values may be None, \"auto\" or an integer value.",
           "examples": [
            {
             "lat": "auto",
             "lon": 90,
             "time": null
            },
            {
             "time": 1,
             "x": 512,
             "y": 512
            }
           ],
           "properties": {},
           "type": "object"
          },
          "consolidated": {
           "default": false,
           "description": "Whether to open the store using Zarr's consolidated metadata capability. Only works for stores that have already been consolidated.",
           "type": "boolean"
          },
          "decode_cf": {
           "default": true,
           "description": "Whether to decode these variables, assuming they were saved according to CF conventions.",
           "type": "boolean"
          },
          "decode_coords": {
           "default": true,
           "description": "If True, decode the \"coordinates\" attribute to identify coordinates in the resulting dataset.",
           "type": "boolean"
          },
          "decode_times": {
           "default": true,
           "description": "If True, decode times encoded in the standard NetCDF datetime format into datetime objects. Otherwise, leave them encoded as numbers.",
           "type": "boolean"
          },
          "drop_variables": {
           "items": {
            "minLength": 1,
            "type": "string"
           },
           "type": "array"
          },
          "group": {
           "description": "Group path. (a.k.a. path in zarr terminology.).",
           "minLength": 1,
           "type": "string"
          },
          "log_access": {
           "default": false,
           "type": "boolean"
          },
          "mask_and_scale": {
           "default": true,
           "description": "If True, replace array values equal to attribute \"_FillValue\" with NaN.  Use \"scale_factor\" and \"add_offset\" attributes to compute actual values.",
           "type": "boolean"
          }
         },
         "type": "object"
        }
       },
       "type": "object"
      },
      "text/plain": [
       "<xcube.util.jsonschema.JsonObjectSchema at 0x77cc8c017e00>"
      ]
     },
     "execution_count": 7,
     "metadata": {},
     "output_type": "execute_result"
    }
   ],
   "source": [
    "%%time\n",
    "open_params = store.get_open_data_params_schema()\n",
    "open_params"
   ]
  },
  {
   "cell_type": "markdown",
   "metadata": {},
   "source": [
    "Now, we open the data for a given data ID, where we select all available assets, which can be opened by the data store. Note that we assign `data_type` to get an `xarray.Dataset` as return value. "
   ]
  },
  {
   "cell_type": "code",
   "execution_count": 8,
   "metadata": {
    "scrolled": true
   },
   "outputs": [
    {
     "name": "stdout",
     "output_type": "stream",
     "text": [
      "CPU times: user 4.22 s, sys: 219 ms, total: 4.44 s\n",
      "Wall time: 6.11 s\n"
     ]
    },
    {
     "data": {
      "text/html": [
       "<div><svg style=\"position: absolute; width: 0; height: 0; overflow: hidden\">\n",
       "<defs>\n",
       "<symbol id=\"icon-database\" viewBox=\"0 0 32 32\">\n",
       "<path d=\"M16 0c-8.837 0-16 2.239-16 5v4c0 2.761 7.163 5 16 5s16-2.239 16-5v-4c0-2.761-7.163-5-16-5z\"></path>\n",
       "<path d=\"M16 17c-8.837 0-16-2.239-16-5v6c0 2.761 7.163 5 16 5s16-2.239 16-5v-6c0 2.761-7.163 5-16 5z\"></path>\n",
       "<path d=\"M16 26c-8.837 0-16-2.239-16-5v6c0 2.761 7.163 5 16 5s16-2.239 16-5v-6c0 2.761-7.163 5-16 5z\"></path>\n",
       "</symbol>\n",
       "<symbol id=\"icon-file-text2\" viewBox=\"0 0 32 32\">\n",
       "<path d=\"M28.681 7.159c-0.694-0.947-1.662-2.053-2.724-3.116s-2.169-2.030-3.116-2.724c-1.612-1.182-2.393-1.319-2.841-1.319h-15.5c-1.378 0-2.5 1.121-2.5 2.5v27c0 1.378 1.122 2.5 2.5 2.5h23c1.378 0 2.5-1.122 2.5-2.5v-19.5c0-0.448-0.137-1.23-1.319-2.841zM24.543 5.457c0.959 0.959 1.712 1.825 2.268 2.543h-4.811v-4.811c0.718 0.556 1.584 1.309 2.543 2.268zM28 29.5c0 0.271-0.229 0.5-0.5 0.5h-23c-0.271 0-0.5-0.229-0.5-0.5v-27c0-0.271 0.229-0.5 0.5-0.5 0 0 15.499-0 15.5 0v7c0 0.552 0.448 1 1 1h7v19.5z\"></path>\n",
       "<path d=\"M23 26h-14c-0.552 0-1-0.448-1-1s0.448-1 1-1h14c0.552 0 1 0.448 1 1s-0.448 1-1 1z\"></path>\n",
       "<path d=\"M23 22h-14c-0.552 0-1-0.448-1-1s0.448-1 1-1h14c0.552 0 1 0.448 1 1s-0.448 1-1 1z\"></path>\n",
       "<path d=\"M23 18h-14c-0.552 0-1-0.448-1-1s0.448-1 1-1h14c0.552 0 1 0.448 1 1s-0.448 1-1 1z\"></path>\n",
       "</symbol>\n",
       "</defs>\n",
       "</svg>\n",
       "<style>/* CSS stylesheet for displaying xarray objects in jupyterlab.\n",
       " *\n",
       " */\n",
       "\n",
       ":root {\n",
       "  --xr-font-color0: var(--jp-content-font-color0, rgba(0, 0, 0, 1));\n",
       "  --xr-font-color2: var(--jp-content-font-color2, rgba(0, 0, 0, 0.54));\n",
       "  --xr-font-color3: var(--jp-content-font-color3, rgba(0, 0, 0, 0.38));\n",
       "  --xr-border-color: var(--jp-border-color2, #e0e0e0);\n",
       "  --xr-disabled-color: var(--jp-layout-color3, #bdbdbd);\n",
       "  --xr-background-color: var(--jp-layout-color0, white);\n",
       "  --xr-background-color-row-even: var(--jp-layout-color1, white);\n",
       "  --xr-background-color-row-odd: var(--jp-layout-color2, #eeeeee);\n",
       "}\n",
       "\n",
       "html[theme=\"dark\"],\n",
       "html[data-theme=\"dark\"],\n",
       "body[data-theme=\"dark\"],\n",
       "body.vscode-dark {\n",
       "  --xr-font-color0: rgba(255, 255, 255, 1);\n",
       "  --xr-font-color2: rgba(255, 255, 255, 0.54);\n",
       "  --xr-font-color3: rgba(255, 255, 255, 0.38);\n",
       "  --xr-border-color: #1f1f1f;\n",
       "  --xr-disabled-color: #515151;\n",
       "  --xr-background-color: #111111;\n",
       "  --xr-background-color-row-even: #111111;\n",
       "  --xr-background-color-row-odd: #313131;\n",
       "}\n",
       "\n",
       ".xr-wrap {\n",
       "  display: block !important;\n",
       "  min-width: 300px;\n",
       "  max-width: 700px;\n",
       "}\n",
       "\n",
       ".xr-text-repr-fallback {\n",
       "  /* fallback to plain text repr when CSS is not injected (untrusted notebook) */\n",
       "  display: none;\n",
       "}\n",
       "\n",
       ".xr-header {\n",
       "  padding-top: 6px;\n",
       "  padding-bottom: 6px;\n",
       "  margin-bottom: 4px;\n",
       "  border-bottom: solid 1px var(--xr-border-color);\n",
       "}\n",
       "\n",
       ".xr-header > div,\n",
       ".xr-header > ul {\n",
       "  display: inline;\n",
       "  margin-top: 0;\n",
       "  margin-bottom: 0;\n",
       "}\n",
       "\n",
       ".xr-obj-type,\n",
       ".xr-array-name {\n",
       "  margin-left: 2px;\n",
       "  margin-right: 10px;\n",
       "}\n",
       "\n",
       ".xr-obj-type {\n",
       "  color: var(--xr-font-color2);\n",
       "}\n",
       "\n",
       ".xr-sections {\n",
       "  padding-left: 0 !important;\n",
       "  display: grid;\n",
       "  grid-template-columns: 150px auto auto 1fr 0 20px 0 20px;\n",
       "}\n",
       "\n",
       ".xr-section-item {\n",
       "  display: contents;\n",
       "}\n",
       "\n",
       ".xr-section-item input {\n",
       "  display: inline-block;\n",
       "  opacity: 0;\n",
       "  height: 0;\n",
       "}\n",
       "\n",
       ".xr-section-item input + label {\n",
       "  color: var(--xr-disabled-color);\n",
       "}\n",
       "\n",
       ".xr-section-item input:enabled + label {\n",
       "  cursor: pointer;\n",
       "  color: var(--xr-font-color2);\n",
       "}\n",
       "\n",
       ".xr-section-item input:focus + label {\n",
       "  border: 2px solid var(--xr-font-color0);\n",
       "}\n",
       "\n",
       ".xr-section-item input:enabled + label:hover {\n",
       "  color: var(--xr-font-color0);\n",
       "}\n",
       "\n",
       ".xr-section-summary {\n",
       "  grid-column: 1;\n",
       "  color: var(--xr-font-color2);\n",
       "  font-weight: 500;\n",
       "}\n",
       "\n",
       ".xr-section-summary > span {\n",
       "  display: inline-block;\n",
       "  padding-left: 0.5em;\n",
       "}\n",
       "\n",
       ".xr-section-summary-in:disabled + label {\n",
       "  color: var(--xr-font-color2);\n",
       "}\n",
       "\n",
       ".xr-section-summary-in + label:before {\n",
       "  display: inline-block;\n",
       "  content: \"►\";\n",
       "  font-size: 11px;\n",
       "  width: 15px;\n",
       "  text-align: center;\n",
       "}\n",
       "\n",
       ".xr-section-summary-in:disabled + label:before {\n",
       "  color: var(--xr-disabled-color);\n",
       "}\n",
       "\n",
       ".xr-section-summary-in:checked + label:before {\n",
       "  content: \"▼\";\n",
       "}\n",
       "\n",
       ".xr-section-summary-in:checked + label > span {\n",
       "  display: none;\n",
       "}\n",
       "\n",
       ".xr-section-summary,\n",
       ".xr-section-inline-details {\n",
       "  padding-top: 4px;\n",
       "  padding-bottom: 4px;\n",
       "}\n",
       "\n",
       ".xr-section-inline-details {\n",
       "  grid-column: 2 / -1;\n",
       "}\n",
       "\n",
       ".xr-section-details {\n",
       "  display: none;\n",
       "  grid-column: 1 / -1;\n",
       "  margin-bottom: 5px;\n",
       "}\n",
       "\n",
       ".xr-section-summary-in:checked ~ .xr-section-details {\n",
       "  display: contents;\n",
       "}\n",
       "\n",
       ".xr-array-wrap {\n",
       "  grid-column: 1 / -1;\n",
       "  display: grid;\n",
       "  grid-template-columns: 20px auto;\n",
       "}\n",
       "\n",
       ".xr-array-wrap > label {\n",
       "  grid-column: 1;\n",
       "  vertical-align: top;\n",
       "}\n",
       "\n",
       ".xr-preview {\n",
       "  color: var(--xr-font-color3);\n",
       "}\n",
       "\n",
       ".xr-array-preview,\n",
       ".xr-array-data {\n",
       "  padding: 0 5px !important;\n",
       "  grid-column: 2;\n",
       "}\n",
       "\n",
       ".xr-array-data,\n",
       ".xr-array-in:checked ~ .xr-array-preview {\n",
       "  display: none;\n",
       "}\n",
       "\n",
       ".xr-array-in:checked ~ .xr-array-data,\n",
       ".xr-array-preview {\n",
       "  display: inline-block;\n",
       "}\n",
       "\n",
       ".xr-dim-list {\n",
       "  display: inline-block !important;\n",
       "  list-style: none;\n",
       "  padding: 0 !important;\n",
       "  margin: 0;\n",
       "}\n",
       "\n",
       ".xr-dim-list li {\n",
       "  display: inline-block;\n",
       "  padding: 0;\n",
       "  margin: 0;\n",
       "}\n",
       "\n",
       ".xr-dim-list:before {\n",
       "  content: \"(\";\n",
       "}\n",
       "\n",
       ".xr-dim-list:after {\n",
       "  content: \")\";\n",
       "}\n",
       "\n",
       ".xr-dim-list li:not(:last-child):after {\n",
       "  content: \",\";\n",
       "  padding-right: 5px;\n",
       "}\n",
       "\n",
       ".xr-has-index {\n",
       "  font-weight: bold;\n",
       "}\n",
       "\n",
       ".xr-var-list,\n",
       ".xr-var-item {\n",
       "  display: contents;\n",
       "}\n",
       "\n",
       ".xr-var-item > div,\n",
       ".xr-var-item label,\n",
       ".xr-var-item > .xr-var-name span {\n",
       "  background-color: var(--xr-background-color-row-even);\n",
       "  margin-bottom: 0;\n",
       "}\n",
       "\n",
       ".xr-var-item > .xr-var-name:hover span {\n",
       "  padding-right: 5px;\n",
       "}\n",
       "\n",
       ".xr-var-list > li:nth-child(odd) > div,\n",
       ".xr-var-list > li:nth-child(odd) > label,\n",
       ".xr-var-list > li:nth-child(odd) > .xr-var-name span {\n",
       "  background-color: var(--xr-background-color-row-odd);\n",
       "}\n",
       "\n",
       ".xr-var-name {\n",
       "  grid-column: 1;\n",
       "}\n",
       "\n",
       ".xr-var-dims {\n",
       "  grid-column: 2;\n",
       "}\n",
       "\n",
       ".xr-var-dtype {\n",
       "  grid-column: 3;\n",
       "  text-align: right;\n",
       "  color: var(--xr-font-color2);\n",
       "}\n",
       "\n",
       ".xr-var-preview {\n",
       "  grid-column: 4;\n",
       "}\n",
       "\n",
       ".xr-index-preview {\n",
       "  grid-column: 2 / 5;\n",
       "  color: var(--xr-font-color2);\n",
       "}\n",
       "\n",
       ".xr-var-name,\n",
       ".xr-var-dims,\n",
       ".xr-var-dtype,\n",
       ".xr-preview,\n",
       ".xr-attrs dt {\n",
       "  white-space: nowrap;\n",
       "  overflow: hidden;\n",
       "  text-overflow: ellipsis;\n",
       "  padding-right: 10px;\n",
       "}\n",
       "\n",
       ".xr-var-name:hover,\n",
       ".xr-var-dims:hover,\n",
       ".xr-var-dtype:hover,\n",
       ".xr-attrs dt:hover {\n",
       "  overflow: visible;\n",
       "  width: auto;\n",
       "  z-index: 1;\n",
       "}\n",
       "\n",
       ".xr-var-attrs,\n",
       ".xr-var-data,\n",
       ".xr-index-data {\n",
       "  display: none;\n",
       "  background-color: var(--xr-background-color) !important;\n",
       "  padding-bottom: 5px !important;\n",
       "}\n",
       "\n",
       ".xr-var-attrs-in:checked ~ .xr-var-attrs,\n",
       ".xr-var-data-in:checked ~ .xr-var-data,\n",
       ".xr-index-data-in:checked ~ .xr-index-data {\n",
       "  display: block;\n",
       "}\n",
       "\n",
       ".xr-var-data > table {\n",
       "  float: right;\n",
       "}\n",
       "\n",
       ".xr-var-name span,\n",
       ".xr-var-data,\n",
       ".xr-index-name div,\n",
       ".xr-index-data,\n",
       ".xr-attrs {\n",
       "  padding-left: 25px !important;\n",
       "}\n",
       "\n",
       ".xr-attrs,\n",
       ".xr-var-attrs,\n",
       ".xr-var-data,\n",
       ".xr-index-data {\n",
       "  grid-column: 1 / -1;\n",
       "}\n",
       "\n",
       "dl.xr-attrs {\n",
       "  padding: 0;\n",
       "  margin: 0;\n",
       "  display: grid;\n",
       "  grid-template-columns: 125px auto;\n",
       "}\n",
       "\n",
       ".xr-attrs dt,\n",
       ".xr-attrs dd {\n",
       "  padding: 0;\n",
       "  margin: 0;\n",
       "  float: left;\n",
       "  padding-right: 10px;\n",
       "  width: auto;\n",
       "}\n",
       "\n",
       ".xr-attrs dt {\n",
       "  font-weight: normal;\n",
       "  grid-column: 1;\n",
       "}\n",
       "\n",
       ".xr-attrs dt:hover span {\n",
       "  display: inline-block;\n",
       "  background: var(--xr-background-color);\n",
       "  padding-right: 10px;\n",
       "}\n",
       "\n",
       ".xr-attrs dd {\n",
       "  grid-column: 2;\n",
       "  white-space: pre-wrap;\n",
       "  word-break: break-all;\n",
       "}\n",
       "\n",
       ".xr-icon-database,\n",
       ".xr-icon-file-text2,\n",
       ".xr-no-icon {\n",
       "  display: inline-block;\n",
       "  vertical-align: middle;\n",
       "  width: 1em;\n",
       "  height: 1.5em !important;\n",
       "  stroke-width: 0;\n",
       "  stroke: currentColor;\n",
       "  fill: currentColor;\n",
       "}\n",
       "</style><pre class='xr-text-repr-fallback'>&lt;xarray.Dataset&gt; Size: 114GB\n",
       "Dimensions:      (x: 188000, y: 151000)\n",
       "Coordinates:\n",
       "  * x            (x) float64 2MB 9e+05 9e+05 9.001e+05 ... 6.54e+06 6.54e+06\n",
       "  * y            (y) float64 1MB 5.46e+06 5.46e+06 ... 9.301e+05 9.3e+05\n",
       "    spatial_ref  int64 8B 0\n",
       "Data variables:\n",
       "    blue_p50     (y, x) uint8 28GB dask.array&lt;chunksize=(512, 512), meta=np.ndarray&gt;\n",
       "    blue_p25     (y, x) uint8 28GB dask.array&lt;chunksize=(512, 512), meta=np.ndarray&gt;\n",
       "    blue_p75     (y, x) uint8 28GB dask.array&lt;chunksize=(512, 512), meta=np.ndarray&gt;\n",
       "    qa_f         (y, x) uint8 28GB dask.array&lt;chunksize=(512, 512), meta=np.ndarray&gt;\n",
       "Attributes:\n",
       "    stac_catalog_url:  https://s3.eu-central-1.wasabisys.com/stac/odse/catalo...\n",
       "    stac_item_id:      lcv_blue_landsat.glad.ard_1999.12.02..2000.03.20</pre><div class='xr-wrap' style='display:none'><div class='xr-header'><div class='xr-obj-type'>xarray.Dataset</div></div><ul class='xr-sections'><li class='xr-section-item'><input id='section-24c66b0a-c659-4613-be06-55efc789a23a' class='xr-section-summary-in' type='checkbox' disabled ><label for='section-24c66b0a-c659-4613-be06-55efc789a23a' class='xr-section-summary'  title='Expand/collapse section'>Dimensions:</label><div class='xr-section-inline-details'><ul class='xr-dim-list'><li><span class='xr-has-index'>x</span>: 188000</li><li><span class='xr-has-index'>y</span>: 151000</li></ul></div><div class='xr-section-details'></div></li><li class='xr-section-item'><input id='section-0bf46f01-048e-4c21-ae1f-d261c143d0e8' class='xr-section-summary-in' type='checkbox'  checked><label for='section-0bf46f01-048e-4c21-ae1f-d261c143d0e8' class='xr-section-summary' >Coordinates: <span>(3)</span></label><div class='xr-section-inline-details'></div><div class='xr-section-details'><ul class='xr-var-list'><li class='xr-var-item'><div class='xr-var-name'><span class='xr-has-index'>x</span></div><div class='xr-var-dims'>(x)</div><div class='xr-var-dtype'>float64</div><div class='xr-var-preview xr-preview'>9e+05 9e+05 ... 6.54e+06 6.54e+06</div><input id='attrs-feb041c8-29e5-454d-8210-3622cabf2149' class='xr-var-attrs-in' type='checkbox' disabled><label for='attrs-feb041c8-29e5-454d-8210-3622cabf2149' title='Show/Hide attributes'><svg class='icon xr-icon-file-text2'><use xlink:href='#icon-file-text2'></use></svg></label><input id='data-05b970b7-50c9-43df-b37a-a25d33c82816' class='xr-var-data-in' type='checkbox'><label for='data-05b970b7-50c9-43df-b37a-a25d33c82816' title='Show/Hide data repr'><svg class='icon xr-icon-database'><use xlink:href='#icon-database'></use></svg></label><div class='xr-var-attrs'><dl class='xr-attrs'></dl></div><div class='xr-var-data'><pre>array([ 900015.,  900045.,  900075., ..., 6539925., 6539955., 6539985.])</pre></div></li><li class='xr-var-item'><div class='xr-var-name'><span class='xr-has-index'>y</span></div><div class='xr-var-dims'>(y)</div><div class='xr-var-dtype'>float64</div><div class='xr-var-preview xr-preview'>5.46e+06 5.46e+06 ... 9.3e+05</div><input id='attrs-18411ae1-dc20-4d29-a9b0-59d453f02319' class='xr-var-attrs-in' type='checkbox' disabled><label for='attrs-18411ae1-dc20-4d29-a9b0-59d453f02319' title='Show/Hide attributes'><svg class='icon xr-icon-file-text2'><use xlink:href='#icon-file-text2'></use></svg></label><input id='data-7006c9f5-70aa-4008-b285-2fd0275d2603' class='xr-var-data-in' type='checkbox'><label for='data-7006c9f5-70aa-4008-b285-2fd0275d2603' title='Show/Hide data repr'><svg class='icon xr-icon-database'><use xlink:href='#icon-database'></use></svg></label><div class='xr-var-attrs'><dl class='xr-attrs'></dl></div><div class='xr-var-data'><pre>array([5459995., 5459965., 5459935., ...,  930085.,  930055.,  930025.])</pre></div></li><li class='xr-var-item'><div class='xr-var-name'><span>spatial_ref</span></div><div class='xr-var-dims'>()</div><div class='xr-var-dtype'>int64</div><div class='xr-var-preview xr-preview'>0</div><input id='attrs-63e07937-f688-48c2-a3a6-3fc871bb27d0' class='xr-var-attrs-in' type='checkbox' ><label for='attrs-63e07937-f688-48c2-a3a6-3fc871bb27d0' title='Show/Hide attributes'><svg class='icon xr-icon-file-text2'><use xlink:href='#icon-file-text2'></use></svg></label><input id='data-34c93928-fdb7-4d1b-9b65-7530e6cf6f86' class='xr-var-data-in' type='checkbox'><label for='data-34c93928-fdb7-4d1b-9b65-7530e6cf6f86' title='Show/Hide data repr'><svg class='icon xr-icon-database'><use xlink:href='#icon-database'></use></svg></label><div class='xr-var-attrs'><dl class='xr-attrs'><dt><span>crs_wkt :</span></dt><dd>PROJCRS[&quot;unknown&quot;,BASEGEOGCRS[&quot;unknown&quot;,DATUM[&quot;Unknown_based_on_GRS80_ellipsoid&quot;,ELLIPSOID[&quot;GRS 1980&quot;,6378137,298.257222101004,LENGTHUNIT[&quot;metre&quot;,1],ID[&quot;EPSG&quot;,7019]]],PRIMEM[&quot;Greenwich&quot;,0,ANGLEUNIT[&quot;degree&quot;,0.0174532925199433,ID[&quot;EPSG&quot;,9122]]]],CONVERSION[&quot;unnamed&quot;,METHOD[&quot;Lambert Azimuthal Equal Area&quot;,ID[&quot;EPSG&quot;,9820]],PARAMETER[&quot;Latitude of natural origin&quot;,52,ANGLEUNIT[&quot;degree&quot;,0.0174532925199433],ID[&quot;EPSG&quot;,8801]],PARAMETER[&quot;Longitude of natural origin&quot;,10,ANGLEUNIT[&quot;degree&quot;,0.0174532925199433],ID[&quot;EPSG&quot;,8802]],PARAMETER[&quot;False easting&quot;,4321000,LENGTHUNIT[&quot;metre&quot;,1],ID[&quot;EPSG&quot;,8806]],PARAMETER[&quot;False northing&quot;,3210000,LENGTHUNIT[&quot;metre&quot;,1],ID[&quot;EPSG&quot;,8807]]],CS[Cartesian,2],AXIS[&quot;easting&quot;,east,ORDER[1],LENGTHUNIT[&quot;metre&quot;,1]],AXIS[&quot;northing&quot;,north,ORDER[2],LENGTHUNIT[&quot;metre&quot;,1]]]</dd><dt><span>semi_major_axis :</span></dt><dd>6378137.0</dd><dt><span>semi_minor_axis :</span></dt><dd>6356752.314140356</dd><dt><span>inverse_flattening :</span></dt><dd>298.257222101004</dd><dt><span>reference_ellipsoid_name :</span></dt><dd>GRS 1980</dd><dt><span>longitude_of_prime_meridian :</span></dt><dd>0.0</dd><dt><span>prime_meridian_name :</span></dt><dd>Greenwich</dd><dt><span>geographic_crs_name :</span></dt><dd>unknown</dd><dt><span>horizontal_datum_name :</span></dt><dd>Unknown_based_on_GRS80_ellipsoid</dd><dt><span>projected_crs_name :</span></dt><dd>unknown</dd><dt><span>grid_mapping_name :</span></dt><dd>lambert_azimuthal_equal_area</dd><dt><span>latitude_of_projection_origin :</span></dt><dd>52.0</dd><dt><span>longitude_of_projection_origin :</span></dt><dd>10.0</dd><dt><span>false_easting :</span></dt><dd>4321000.0</dd><dt><span>false_northing :</span></dt><dd>3210000.0</dd></dl></div><div class='xr-var-data'><pre>array(0)</pre></div></li></ul></div></li><li class='xr-section-item'><input id='section-2f04fd74-d507-4c67-87da-318a14929dd9' class='xr-section-summary-in' type='checkbox'  checked><label for='section-2f04fd74-d507-4c67-87da-318a14929dd9' class='xr-section-summary' >Data variables: <span>(4)</span></label><div class='xr-section-inline-details'></div><div class='xr-section-details'><ul class='xr-var-list'><li class='xr-var-item'><div class='xr-var-name'><span>blue_p50</span></div><div class='xr-var-dims'>(y, x)</div><div class='xr-var-dtype'>uint8</div><div class='xr-var-preview xr-preview'>dask.array&lt;chunksize=(512, 512), meta=np.ndarray&gt;</div><input id='attrs-b56de8c7-ca09-44aa-b4cd-9110a77882cf' class='xr-var-attrs-in' type='checkbox' ><label for='attrs-b56de8c7-ca09-44aa-b4cd-9110a77882cf' title='Show/Hide attributes'><svg class='icon xr-icon-file-text2'><use xlink:href='#icon-file-text2'></use></svg></label><input id='data-b23b1867-a863-4c88-ae06-19293fa5521c' class='xr-var-data-in' type='checkbox'><label for='data-b23b1867-a863-4c88-ae06-19293fa5521c' title='Show/Hide data repr'><svg class='icon xr-icon-database'><use xlink:href='#icon-database'></use></svg></label><div class='xr-var-attrs'><dl class='xr-attrs'><dt><span>AREA_OR_POINT :</span></dt><dd>Area</dd><dt><span>_FillValue :</span></dt><dd>0</dd><dt><span>scale_factor :</span></dt><dd>1.0</dd><dt><span>add_offset :</span></dt><dd>0.0</dd><dt><span>grid_mapping :</span></dt><dd>spatial_ref</dd></dl></div><div class='xr-var-data'><table>\n",
       "    <tr>\n",
       "        <td>\n",
       "            <table style=\"border-collapse: collapse;\">\n",
       "                <thead>\n",
       "                    <tr>\n",
       "                        <td> </td>\n",
       "                        <th> Array </th>\n",
       "                        <th> Chunk </th>\n",
       "                    </tr>\n",
       "                </thead>\n",
       "                <tbody>\n",
       "                    \n",
       "                    <tr>\n",
       "                        <th> Bytes </th>\n",
       "                        <td> 26.44 GiB </td>\n",
       "                        <td> 256.00 kiB </td>\n",
       "                    </tr>\n",
       "                    \n",
       "                    <tr>\n",
       "                        <th> Shape </th>\n",
       "                        <td> (151000, 188000) </td>\n",
       "                        <td> (512, 512) </td>\n",
       "                    </tr>\n",
       "                    <tr>\n",
       "                        <th> Dask graph </th>\n",
       "                        <td colspan=\"2\"> 108560 chunks in 3 graph layers </td>\n",
       "                    </tr>\n",
       "                    <tr>\n",
       "                        <th> Data type </th>\n",
       "                        <td colspan=\"2\"> uint8 numpy.ndarray </td>\n",
       "                    </tr>\n",
       "                </tbody>\n",
       "            </table>\n",
       "        </td>\n",
       "        <td>\n",
       "        <svg width=\"170\" height=\"146\" style=\"stroke:rgb(0,0,0);stroke-width:1\" >\n",
       "\n",
       "  <!-- Horizontal lines -->\n",
       "  <line x1=\"0\" y1=\"0\" x2=\"120\" y2=\"0\" style=\"stroke-width:2\" />\n",
       "  <line x1=\"0\" y1=\"4\" x2=\"120\" y2=\"4\" />\n",
       "  <line x1=\"0\" y1=\"10\" x2=\"120\" y2=\"10\" />\n",
       "  <line x1=\"0\" y1=\"15\" x2=\"120\" y2=\"15\" />\n",
       "  <line x1=\"0\" y1=\"20\" x2=\"120\" y2=\"20\" />\n",
       "  <line x1=\"0\" y1=\"25\" x2=\"120\" y2=\"25\" />\n",
       "  <line x1=\"0\" y1=\"30\" x2=\"120\" y2=\"30\" />\n",
       "  <line x1=\"0\" y1=\"35\" x2=\"120\" y2=\"35\" />\n",
       "  <line x1=\"0\" y1=\"40\" x2=\"120\" y2=\"40\" />\n",
       "  <line x1=\"0\" y1=\"45\" x2=\"120\" y2=\"45\" />\n",
       "  <line x1=\"0\" y1=\"50\" x2=\"120\" y2=\"50\" />\n",
       "  <line x1=\"0\" y1=\"55\" x2=\"120\" y2=\"55\" />\n",
       "  <line x1=\"0\" y1=\"60\" x2=\"120\" y2=\"60\" />\n",
       "  <line x1=\"0\" y1=\"65\" x2=\"120\" y2=\"65\" />\n",
       "  <line x1=\"0\" y1=\"70\" x2=\"120\" y2=\"70\" />\n",
       "  <line x1=\"0\" y1=\"75\" x2=\"120\" y2=\"75\" />\n",
       "  <line x1=\"0\" y1=\"81\" x2=\"120\" y2=\"81\" />\n",
       "  <line x1=\"0\" y1=\"85\" x2=\"120\" y2=\"85\" />\n",
       "  <line x1=\"0\" y1=\"91\" x2=\"120\" y2=\"91\" />\n",
       "  <line x1=\"0\" y1=\"96\" x2=\"120\" y2=\"96\" style=\"stroke-width:2\" />\n",
       "\n",
       "  <!-- Vertical lines -->\n",
       "  <line x1=\"0\" y1=\"0\" x2=\"0\" y2=\"96\" style=\"stroke-width:2\" />\n",
       "  <line x1=\"6\" y1=\"0\" x2=\"6\" y2=\"96\" />\n",
       "  <line x1=\"12\" y1=\"0\" x2=\"12\" y2=\"96\" />\n",
       "  <line x1=\"18\" y1=\"0\" x2=\"18\" y2=\"96\" />\n",
       "  <line x1=\"25\" y1=\"0\" x2=\"25\" y2=\"96\" />\n",
       "  <line x1=\"31\" y1=\"0\" x2=\"31\" y2=\"96\" />\n",
       "  <line x1=\"37\" y1=\"0\" x2=\"37\" y2=\"96\" />\n",
       "  <line x1=\"44\" y1=\"0\" x2=\"44\" y2=\"96\" />\n",
       "  <line x1=\"50\" y1=\"0\" x2=\"50\" y2=\"96\" />\n",
       "  <line x1=\"56\" y1=\"0\" x2=\"56\" y2=\"96\" />\n",
       "  <line x1=\"63\" y1=\"0\" x2=\"63\" y2=\"96\" />\n",
       "  <line x1=\"69\" y1=\"0\" x2=\"69\" y2=\"96\" />\n",
       "  <line x1=\"75\" y1=\"0\" x2=\"75\" y2=\"96\" />\n",
       "  <line x1=\"82\" y1=\"0\" x2=\"82\" y2=\"96\" />\n",
       "  <line x1=\"88\" y1=\"0\" x2=\"88\" y2=\"96\" />\n",
       "  <line x1=\"94\" y1=\"0\" x2=\"94\" y2=\"96\" />\n",
       "  <line x1=\"100\" y1=\"0\" x2=\"100\" y2=\"96\" />\n",
       "  <line x1=\"107\" y1=\"0\" x2=\"107\" y2=\"96\" />\n",
       "  <line x1=\"113\" y1=\"0\" x2=\"113\" y2=\"96\" />\n",
       "  <line x1=\"120\" y1=\"0\" x2=\"120\" y2=\"96\" style=\"stroke-width:2\" />\n",
       "\n",
       "  <!-- Colored Rectangle -->\n",
       "  <polygon points=\"0.0,0.0 120.0,0.0 120.0,96.38297872340426 0.0,96.38297872340426\" style=\"fill:#8B4903A0;stroke-width:0\"/>\n",
       "\n",
       "  <!-- Text -->\n",
       "  <text x=\"60.000000\" y=\"116.382979\" font-size=\"1.0rem\" font-weight=\"100\" text-anchor=\"middle\" >188000</text>\n",
       "  <text x=\"140.000000\" y=\"48.191489\" font-size=\"1.0rem\" font-weight=\"100\" text-anchor=\"middle\" transform=\"rotate(-90,140.000000,48.191489)\">151000</text>\n",
       "</svg>\n",
       "        </td>\n",
       "    </tr>\n",
       "</table></div></li><li class='xr-var-item'><div class='xr-var-name'><span>blue_p25</span></div><div class='xr-var-dims'>(y, x)</div><div class='xr-var-dtype'>uint8</div><div class='xr-var-preview xr-preview'>dask.array&lt;chunksize=(512, 512), meta=np.ndarray&gt;</div><input id='attrs-638d5b66-dfda-4e46-9fed-68fe0b9d307d' class='xr-var-attrs-in' type='checkbox' ><label for='attrs-638d5b66-dfda-4e46-9fed-68fe0b9d307d' title='Show/Hide attributes'><svg class='icon xr-icon-file-text2'><use xlink:href='#icon-file-text2'></use></svg></label><input id='data-22dc578e-1f02-4b2b-bbb3-137e7b97f828' class='xr-var-data-in' type='checkbox'><label for='data-22dc578e-1f02-4b2b-bbb3-137e7b97f828' title='Show/Hide data repr'><svg class='icon xr-icon-database'><use xlink:href='#icon-database'></use></svg></label><div class='xr-var-attrs'><dl class='xr-attrs'><dt><span>AREA_OR_POINT :</span></dt><dd>Area</dd><dt><span>_FillValue :</span></dt><dd>0</dd><dt><span>scale_factor :</span></dt><dd>1.0</dd><dt><span>add_offset :</span></dt><dd>0.0</dd><dt><span>grid_mapping :</span></dt><dd>spatial_ref</dd></dl></div><div class='xr-var-data'><table>\n",
       "    <tr>\n",
       "        <td>\n",
       "            <table style=\"border-collapse: collapse;\">\n",
       "                <thead>\n",
       "                    <tr>\n",
       "                        <td> </td>\n",
       "                        <th> Array </th>\n",
       "                        <th> Chunk </th>\n",
       "                    </tr>\n",
       "                </thead>\n",
       "                <tbody>\n",
       "                    \n",
       "                    <tr>\n",
       "                        <th> Bytes </th>\n",
       "                        <td> 26.44 GiB </td>\n",
       "                        <td> 256.00 kiB </td>\n",
       "                    </tr>\n",
       "                    \n",
       "                    <tr>\n",
       "                        <th> Shape </th>\n",
       "                        <td> (151000, 188000) </td>\n",
       "                        <td> (512, 512) </td>\n",
       "                    </tr>\n",
       "                    <tr>\n",
       "                        <th> Dask graph </th>\n",
       "                        <td colspan=\"2\"> 108560 chunks in 3 graph layers </td>\n",
       "                    </tr>\n",
       "                    <tr>\n",
       "                        <th> Data type </th>\n",
       "                        <td colspan=\"2\"> uint8 numpy.ndarray </td>\n",
       "                    </tr>\n",
       "                </tbody>\n",
       "            </table>\n",
       "        </td>\n",
       "        <td>\n",
       "        <svg width=\"170\" height=\"146\" style=\"stroke:rgb(0,0,0);stroke-width:1\" >\n",
       "\n",
       "  <!-- Horizontal lines -->\n",
       "  <line x1=\"0\" y1=\"0\" x2=\"120\" y2=\"0\" style=\"stroke-width:2\" />\n",
       "  <line x1=\"0\" y1=\"4\" x2=\"120\" y2=\"4\" />\n",
       "  <line x1=\"0\" y1=\"10\" x2=\"120\" y2=\"10\" />\n",
       "  <line x1=\"0\" y1=\"15\" x2=\"120\" y2=\"15\" />\n",
       "  <line x1=\"0\" y1=\"20\" x2=\"120\" y2=\"20\" />\n",
       "  <line x1=\"0\" y1=\"25\" x2=\"120\" y2=\"25\" />\n",
       "  <line x1=\"0\" y1=\"30\" x2=\"120\" y2=\"30\" />\n",
       "  <line x1=\"0\" y1=\"35\" x2=\"120\" y2=\"35\" />\n",
       "  <line x1=\"0\" y1=\"40\" x2=\"120\" y2=\"40\" />\n",
       "  <line x1=\"0\" y1=\"45\" x2=\"120\" y2=\"45\" />\n",
       "  <line x1=\"0\" y1=\"50\" x2=\"120\" y2=\"50\" />\n",
       "  <line x1=\"0\" y1=\"55\" x2=\"120\" y2=\"55\" />\n",
       "  <line x1=\"0\" y1=\"60\" x2=\"120\" y2=\"60\" />\n",
       "  <line x1=\"0\" y1=\"65\" x2=\"120\" y2=\"65\" />\n",
       "  <line x1=\"0\" y1=\"70\" x2=\"120\" y2=\"70\" />\n",
       "  <line x1=\"0\" y1=\"75\" x2=\"120\" y2=\"75\" />\n",
       "  <line x1=\"0\" y1=\"81\" x2=\"120\" y2=\"81\" />\n",
       "  <line x1=\"0\" y1=\"85\" x2=\"120\" y2=\"85\" />\n",
       "  <line x1=\"0\" y1=\"91\" x2=\"120\" y2=\"91\" />\n",
       "  <line x1=\"0\" y1=\"96\" x2=\"120\" y2=\"96\" style=\"stroke-width:2\" />\n",
       "\n",
       "  <!-- Vertical lines -->\n",
       "  <line x1=\"0\" y1=\"0\" x2=\"0\" y2=\"96\" style=\"stroke-width:2\" />\n",
       "  <line x1=\"6\" y1=\"0\" x2=\"6\" y2=\"96\" />\n",
       "  <line x1=\"12\" y1=\"0\" x2=\"12\" y2=\"96\" />\n",
       "  <line x1=\"18\" y1=\"0\" x2=\"18\" y2=\"96\" />\n",
       "  <line x1=\"25\" y1=\"0\" x2=\"25\" y2=\"96\" />\n",
       "  <line x1=\"31\" y1=\"0\" x2=\"31\" y2=\"96\" />\n",
       "  <line x1=\"37\" y1=\"0\" x2=\"37\" y2=\"96\" />\n",
       "  <line x1=\"44\" y1=\"0\" x2=\"44\" y2=\"96\" />\n",
       "  <line x1=\"50\" y1=\"0\" x2=\"50\" y2=\"96\" />\n",
       "  <line x1=\"56\" y1=\"0\" x2=\"56\" y2=\"96\" />\n",
       "  <line x1=\"63\" y1=\"0\" x2=\"63\" y2=\"96\" />\n",
       "  <line x1=\"69\" y1=\"0\" x2=\"69\" y2=\"96\" />\n",
       "  <line x1=\"75\" y1=\"0\" x2=\"75\" y2=\"96\" />\n",
       "  <line x1=\"82\" y1=\"0\" x2=\"82\" y2=\"96\" />\n",
       "  <line x1=\"88\" y1=\"0\" x2=\"88\" y2=\"96\" />\n",
       "  <line x1=\"94\" y1=\"0\" x2=\"94\" y2=\"96\" />\n",
       "  <line x1=\"100\" y1=\"0\" x2=\"100\" y2=\"96\" />\n",
       "  <line x1=\"107\" y1=\"0\" x2=\"107\" y2=\"96\" />\n",
       "  <line x1=\"113\" y1=\"0\" x2=\"113\" y2=\"96\" />\n",
       "  <line x1=\"120\" y1=\"0\" x2=\"120\" y2=\"96\" style=\"stroke-width:2\" />\n",
       "\n",
       "  <!-- Colored Rectangle -->\n",
       "  <polygon points=\"0.0,0.0 120.0,0.0 120.0,96.38297872340426 0.0,96.38297872340426\" style=\"fill:#8B4903A0;stroke-width:0\"/>\n",
       "\n",
       "  <!-- Text -->\n",
       "  <text x=\"60.000000\" y=\"116.382979\" font-size=\"1.0rem\" font-weight=\"100\" text-anchor=\"middle\" >188000</text>\n",
       "  <text x=\"140.000000\" y=\"48.191489\" font-size=\"1.0rem\" font-weight=\"100\" text-anchor=\"middle\" transform=\"rotate(-90,140.000000,48.191489)\">151000</text>\n",
       "</svg>\n",
       "        </td>\n",
       "    </tr>\n",
       "</table></div></li><li class='xr-var-item'><div class='xr-var-name'><span>blue_p75</span></div><div class='xr-var-dims'>(y, x)</div><div class='xr-var-dtype'>uint8</div><div class='xr-var-preview xr-preview'>dask.array&lt;chunksize=(512, 512), meta=np.ndarray&gt;</div><input id='attrs-c43f7503-2af7-4641-bc70-9e2e815fc511' class='xr-var-attrs-in' type='checkbox' ><label for='attrs-c43f7503-2af7-4641-bc70-9e2e815fc511' title='Show/Hide attributes'><svg class='icon xr-icon-file-text2'><use xlink:href='#icon-file-text2'></use></svg></label><input id='data-acd299f5-f6df-4e96-b222-e8cfcf2261bf' class='xr-var-data-in' type='checkbox'><label for='data-acd299f5-f6df-4e96-b222-e8cfcf2261bf' title='Show/Hide data repr'><svg class='icon xr-icon-database'><use xlink:href='#icon-database'></use></svg></label><div class='xr-var-attrs'><dl class='xr-attrs'><dt><span>AREA_OR_POINT :</span></dt><dd>Area</dd><dt><span>_FillValue :</span></dt><dd>0</dd><dt><span>scale_factor :</span></dt><dd>1.0</dd><dt><span>add_offset :</span></dt><dd>0.0</dd><dt><span>grid_mapping :</span></dt><dd>spatial_ref</dd></dl></div><div class='xr-var-data'><table>\n",
       "    <tr>\n",
       "        <td>\n",
       "            <table style=\"border-collapse: collapse;\">\n",
       "                <thead>\n",
       "                    <tr>\n",
       "                        <td> </td>\n",
       "                        <th> Array </th>\n",
       "                        <th> Chunk </th>\n",
       "                    </tr>\n",
       "                </thead>\n",
       "                <tbody>\n",
       "                    \n",
       "                    <tr>\n",
       "                        <th> Bytes </th>\n",
       "                        <td> 26.44 GiB </td>\n",
       "                        <td> 256.00 kiB </td>\n",
       "                    </tr>\n",
       "                    \n",
       "                    <tr>\n",
       "                        <th> Shape </th>\n",
       "                        <td> (151000, 188000) </td>\n",
       "                        <td> (512, 512) </td>\n",
       "                    </tr>\n",
       "                    <tr>\n",
       "                        <th> Dask graph </th>\n",
       "                        <td colspan=\"2\"> 108560 chunks in 3 graph layers </td>\n",
       "                    </tr>\n",
       "                    <tr>\n",
       "                        <th> Data type </th>\n",
       "                        <td colspan=\"2\"> uint8 numpy.ndarray </td>\n",
       "                    </tr>\n",
       "                </tbody>\n",
       "            </table>\n",
       "        </td>\n",
       "        <td>\n",
       "        <svg width=\"170\" height=\"146\" style=\"stroke:rgb(0,0,0);stroke-width:1\" >\n",
       "\n",
       "  <!-- Horizontal lines -->\n",
       "  <line x1=\"0\" y1=\"0\" x2=\"120\" y2=\"0\" style=\"stroke-width:2\" />\n",
       "  <line x1=\"0\" y1=\"4\" x2=\"120\" y2=\"4\" />\n",
       "  <line x1=\"0\" y1=\"10\" x2=\"120\" y2=\"10\" />\n",
       "  <line x1=\"0\" y1=\"15\" x2=\"120\" y2=\"15\" />\n",
       "  <line x1=\"0\" y1=\"20\" x2=\"120\" y2=\"20\" />\n",
       "  <line x1=\"0\" y1=\"25\" x2=\"120\" y2=\"25\" />\n",
       "  <line x1=\"0\" y1=\"30\" x2=\"120\" y2=\"30\" />\n",
       "  <line x1=\"0\" y1=\"35\" x2=\"120\" y2=\"35\" />\n",
       "  <line x1=\"0\" y1=\"40\" x2=\"120\" y2=\"40\" />\n",
       "  <line x1=\"0\" y1=\"45\" x2=\"120\" y2=\"45\" />\n",
       "  <line x1=\"0\" y1=\"50\" x2=\"120\" y2=\"50\" />\n",
       "  <line x1=\"0\" y1=\"55\" x2=\"120\" y2=\"55\" />\n",
       "  <line x1=\"0\" y1=\"60\" x2=\"120\" y2=\"60\" />\n",
       "  <line x1=\"0\" y1=\"65\" x2=\"120\" y2=\"65\" />\n",
       "  <line x1=\"0\" y1=\"70\" x2=\"120\" y2=\"70\" />\n",
       "  <line x1=\"0\" y1=\"75\" x2=\"120\" y2=\"75\" />\n",
       "  <line x1=\"0\" y1=\"81\" x2=\"120\" y2=\"81\" />\n",
       "  <line x1=\"0\" y1=\"85\" x2=\"120\" y2=\"85\" />\n",
       "  <line x1=\"0\" y1=\"91\" x2=\"120\" y2=\"91\" />\n",
       "  <line x1=\"0\" y1=\"96\" x2=\"120\" y2=\"96\" style=\"stroke-width:2\" />\n",
       "\n",
       "  <!-- Vertical lines -->\n",
       "  <line x1=\"0\" y1=\"0\" x2=\"0\" y2=\"96\" style=\"stroke-width:2\" />\n",
       "  <line x1=\"6\" y1=\"0\" x2=\"6\" y2=\"96\" />\n",
       "  <line x1=\"12\" y1=\"0\" x2=\"12\" y2=\"96\" />\n",
       "  <line x1=\"18\" y1=\"0\" x2=\"18\" y2=\"96\" />\n",
       "  <line x1=\"25\" y1=\"0\" x2=\"25\" y2=\"96\" />\n",
       "  <line x1=\"31\" y1=\"0\" x2=\"31\" y2=\"96\" />\n",
       "  <line x1=\"37\" y1=\"0\" x2=\"37\" y2=\"96\" />\n",
       "  <line x1=\"44\" y1=\"0\" x2=\"44\" y2=\"96\" />\n",
       "  <line x1=\"50\" y1=\"0\" x2=\"50\" y2=\"96\" />\n",
       "  <line x1=\"56\" y1=\"0\" x2=\"56\" y2=\"96\" />\n",
       "  <line x1=\"63\" y1=\"0\" x2=\"63\" y2=\"96\" />\n",
       "  <line x1=\"69\" y1=\"0\" x2=\"69\" y2=\"96\" />\n",
       "  <line x1=\"75\" y1=\"0\" x2=\"75\" y2=\"96\" />\n",
       "  <line x1=\"82\" y1=\"0\" x2=\"82\" y2=\"96\" />\n",
       "  <line x1=\"88\" y1=\"0\" x2=\"88\" y2=\"96\" />\n",
       "  <line x1=\"94\" y1=\"0\" x2=\"94\" y2=\"96\" />\n",
       "  <line x1=\"100\" y1=\"0\" x2=\"100\" y2=\"96\" />\n",
       "  <line x1=\"107\" y1=\"0\" x2=\"107\" y2=\"96\" />\n",
       "  <line x1=\"113\" y1=\"0\" x2=\"113\" y2=\"96\" />\n",
       "  <line x1=\"120\" y1=\"0\" x2=\"120\" y2=\"96\" style=\"stroke-width:2\" />\n",
       "\n",
       "  <!-- Colored Rectangle -->\n",
       "  <polygon points=\"0.0,0.0 120.0,0.0 120.0,96.38297872340426 0.0,96.38297872340426\" style=\"fill:#8B4903A0;stroke-width:0\"/>\n",
       "\n",
       "  <!-- Text -->\n",
       "  <text x=\"60.000000\" y=\"116.382979\" font-size=\"1.0rem\" font-weight=\"100\" text-anchor=\"middle\" >188000</text>\n",
       "  <text x=\"140.000000\" y=\"48.191489\" font-size=\"1.0rem\" font-weight=\"100\" text-anchor=\"middle\" transform=\"rotate(-90,140.000000,48.191489)\">151000</text>\n",
       "</svg>\n",
       "        </td>\n",
       "    </tr>\n",
       "</table></div></li><li class='xr-var-item'><div class='xr-var-name'><span>qa_f</span></div><div class='xr-var-dims'>(y, x)</div><div class='xr-var-dtype'>uint8</div><div class='xr-var-preview xr-preview'>dask.array&lt;chunksize=(512, 512), meta=np.ndarray&gt;</div><input id='attrs-8bc6e28b-1e8b-4b62-ac8f-050e8bed6e15' class='xr-var-attrs-in' type='checkbox' ><label for='attrs-8bc6e28b-1e8b-4b62-ac8f-050e8bed6e15' title='Show/Hide attributes'><svg class='icon xr-icon-file-text2'><use xlink:href='#icon-file-text2'></use></svg></label><input id='data-e4e67526-7747-4152-904e-68d09501ab4c' class='xr-var-data-in' type='checkbox'><label for='data-e4e67526-7747-4152-904e-68d09501ab4c' title='Show/Hide data repr'><svg class='icon xr-icon-database'><use xlink:href='#icon-database'></use></svg></label><div class='xr-var-attrs'><dl class='xr-attrs'><dt><span>AREA_OR_POINT :</span></dt><dd>Area</dd><dt><span>_FillValue :</span></dt><dd>0</dd><dt><span>scale_factor :</span></dt><dd>1.0</dd><dt><span>add_offset :</span></dt><dd>0.0</dd><dt><span>grid_mapping :</span></dt><dd>spatial_ref</dd></dl></div><div class='xr-var-data'><table>\n",
       "    <tr>\n",
       "        <td>\n",
       "            <table style=\"border-collapse: collapse;\">\n",
       "                <thead>\n",
       "                    <tr>\n",
       "                        <td> </td>\n",
       "                        <th> Array </th>\n",
       "                        <th> Chunk </th>\n",
       "                    </tr>\n",
       "                </thead>\n",
       "                <tbody>\n",
       "                    \n",
       "                    <tr>\n",
       "                        <th> Bytes </th>\n",
       "                        <td> 26.44 GiB </td>\n",
       "                        <td> 256.00 kiB </td>\n",
       "                    </tr>\n",
       "                    \n",
       "                    <tr>\n",
       "                        <th> Shape </th>\n",
       "                        <td> (151000, 188000) </td>\n",
       "                        <td> (512, 512) </td>\n",
       "                    </tr>\n",
       "                    <tr>\n",
       "                        <th> Dask graph </th>\n",
       "                        <td colspan=\"2\"> 108560 chunks in 3 graph layers </td>\n",
       "                    </tr>\n",
       "                    <tr>\n",
       "                        <th> Data type </th>\n",
       "                        <td colspan=\"2\"> uint8 numpy.ndarray </td>\n",
       "                    </tr>\n",
       "                </tbody>\n",
       "            </table>\n",
       "        </td>\n",
       "        <td>\n",
       "        <svg width=\"170\" height=\"146\" style=\"stroke:rgb(0,0,0);stroke-width:1\" >\n",
       "\n",
       "  <!-- Horizontal lines -->\n",
       "  <line x1=\"0\" y1=\"0\" x2=\"120\" y2=\"0\" style=\"stroke-width:2\" />\n",
       "  <line x1=\"0\" y1=\"4\" x2=\"120\" y2=\"4\" />\n",
       "  <line x1=\"0\" y1=\"10\" x2=\"120\" y2=\"10\" />\n",
       "  <line x1=\"0\" y1=\"15\" x2=\"120\" y2=\"15\" />\n",
       "  <line x1=\"0\" y1=\"20\" x2=\"120\" y2=\"20\" />\n",
       "  <line x1=\"0\" y1=\"25\" x2=\"120\" y2=\"25\" />\n",
       "  <line x1=\"0\" y1=\"30\" x2=\"120\" y2=\"30\" />\n",
       "  <line x1=\"0\" y1=\"35\" x2=\"120\" y2=\"35\" />\n",
       "  <line x1=\"0\" y1=\"40\" x2=\"120\" y2=\"40\" />\n",
       "  <line x1=\"0\" y1=\"45\" x2=\"120\" y2=\"45\" />\n",
       "  <line x1=\"0\" y1=\"50\" x2=\"120\" y2=\"50\" />\n",
       "  <line x1=\"0\" y1=\"55\" x2=\"120\" y2=\"55\" />\n",
       "  <line x1=\"0\" y1=\"60\" x2=\"120\" y2=\"60\" />\n",
       "  <line x1=\"0\" y1=\"65\" x2=\"120\" y2=\"65\" />\n",
       "  <line x1=\"0\" y1=\"70\" x2=\"120\" y2=\"70\" />\n",
       "  <line x1=\"0\" y1=\"75\" x2=\"120\" y2=\"75\" />\n",
       "  <line x1=\"0\" y1=\"81\" x2=\"120\" y2=\"81\" />\n",
       "  <line x1=\"0\" y1=\"85\" x2=\"120\" y2=\"85\" />\n",
       "  <line x1=\"0\" y1=\"91\" x2=\"120\" y2=\"91\" />\n",
       "  <line x1=\"0\" y1=\"96\" x2=\"120\" y2=\"96\" style=\"stroke-width:2\" />\n",
       "\n",
       "  <!-- Vertical lines -->\n",
       "  <line x1=\"0\" y1=\"0\" x2=\"0\" y2=\"96\" style=\"stroke-width:2\" />\n",
       "  <line x1=\"6\" y1=\"0\" x2=\"6\" y2=\"96\" />\n",
       "  <line x1=\"12\" y1=\"0\" x2=\"12\" y2=\"96\" />\n",
       "  <line x1=\"18\" y1=\"0\" x2=\"18\" y2=\"96\" />\n",
       "  <line x1=\"25\" y1=\"0\" x2=\"25\" y2=\"96\" />\n",
       "  <line x1=\"31\" y1=\"0\" x2=\"31\" y2=\"96\" />\n",
       "  <line x1=\"37\" y1=\"0\" x2=\"37\" y2=\"96\" />\n",
       "  <line x1=\"44\" y1=\"0\" x2=\"44\" y2=\"96\" />\n",
       "  <line x1=\"50\" y1=\"0\" x2=\"50\" y2=\"96\" />\n",
       "  <line x1=\"56\" y1=\"0\" x2=\"56\" y2=\"96\" />\n",
       "  <line x1=\"63\" y1=\"0\" x2=\"63\" y2=\"96\" />\n",
       "  <line x1=\"69\" y1=\"0\" x2=\"69\" y2=\"96\" />\n",
       "  <line x1=\"75\" y1=\"0\" x2=\"75\" y2=\"96\" />\n",
       "  <line x1=\"82\" y1=\"0\" x2=\"82\" y2=\"96\" />\n",
       "  <line x1=\"88\" y1=\"0\" x2=\"88\" y2=\"96\" />\n",
       "  <line x1=\"94\" y1=\"0\" x2=\"94\" y2=\"96\" />\n",
       "  <line x1=\"100\" y1=\"0\" x2=\"100\" y2=\"96\" />\n",
       "  <line x1=\"107\" y1=\"0\" x2=\"107\" y2=\"96\" />\n",
       "  <line x1=\"113\" y1=\"0\" x2=\"113\" y2=\"96\" />\n",
       "  <line x1=\"120\" y1=\"0\" x2=\"120\" y2=\"96\" style=\"stroke-width:2\" />\n",
       "\n",
       "  <!-- Colored Rectangle -->\n",
       "  <polygon points=\"0.0,0.0 120.0,0.0 120.0,96.38297872340426 0.0,96.38297872340426\" style=\"fill:#8B4903A0;stroke-width:0\"/>\n",
       "\n",
       "  <!-- Text -->\n",
       "  <text x=\"60.000000\" y=\"116.382979\" font-size=\"1.0rem\" font-weight=\"100\" text-anchor=\"middle\" >188000</text>\n",
       "  <text x=\"140.000000\" y=\"48.191489\" font-size=\"1.0rem\" font-weight=\"100\" text-anchor=\"middle\" transform=\"rotate(-90,140.000000,48.191489)\">151000</text>\n",
       "</svg>\n",
       "        </td>\n",
       "    </tr>\n",
       "</table></div></li></ul></div></li><li class='xr-section-item'><input id='section-d7f4898f-1e3c-4b7d-9466-64445aeab689' class='xr-section-summary-in' type='checkbox'  ><label for='section-d7f4898f-1e3c-4b7d-9466-64445aeab689' class='xr-section-summary' >Indexes: <span>(2)</span></label><div class='xr-section-inline-details'></div><div class='xr-section-details'><ul class='xr-var-list'><li class='xr-var-item'><div class='xr-index-name'><div>x</div></div><div class='xr-index-preview'>PandasIndex</div><input type='checkbox' disabled/><label></label><input id='index-9f595458-607d-4fcf-b6c4-7f83852b238d' class='xr-index-data-in' type='checkbox'/><label for='index-9f595458-607d-4fcf-b6c4-7f83852b238d' title='Show/Hide index repr'><svg class='icon xr-icon-database'><use xlink:href='#icon-database'></use></svg></label><div class='xr-index-data'><pre>PandasIndex(Index([ 900015.0,  900045.0,  900075.0,  900105.0,  900135.0,  900165.0,\n",
       "        900195.0,  900225.0,  900255.0,  900285.0,\n",
       "       ...\n",
       "       6539715.0, 6539745.0, 6539775.0, 6539805.0, 6539835.0, 6539865.0,\n",
       "       6539895.0, 6539925.0, 6539955.0, 6539985.0],\n",
       "      dtype=&#x27;float64&#x27;, name=&#x27;x&#x27;, length=188000))</pre></div></li><li class='xr-var-item'><div class='xr-index-name'><div>y</div></div><div class='xr-index-preview'>PandasIndex</div><input type='checkbox' disabled/><label></label><input id='index-9bb3d7ba-4ac4-4bf3-8176-9781043c9398' class='xr-index-data-in' type='checkbox'/><label for='index-9bb3d7ba-4ac4-4bf3-8176-9781043c9398' title='Show/Hide index repr'><svg class='icon xr-icon-database'><use xlink:href='#icon-database'></use></svg></label><div class='xr-index-data'><pre>PandasIndex(Index([5459995.0, 5459965.0, 5459935.0, 5459905.0, 5459875.0, 5459845.0,\n",
       "       5459815.0, 5459785.0, 5459755.0, 5459725.0,\n",
       "       ...\n",
       "        930295.0,  930265.0,  930235.0,  930205.0,  930175.0,  930145.0,\n",
       "        930115.0,  930085.0,  930055.0,  930025.0],\n",
       "      dtype=&#x27;float64&#x27;, name=&#x27;y&#x27;, length=151000))</pre></div></li></ul></div></li><li class='xr-section-item'><input id='section-1037bcbe-7ddf-4705-b942-07b1c69b5dc8' class='xr-section-summary-in' type='checkbox'  checked><label for='section-1037bcbe-7ddf-4705-b942-07b1c69b5dc8' class='xr-section-summary' >Attributes: <span>(2)</span></label><div class='xr-section-inline-details'></div><div class='xr-section-details'><dl class='xr-attrs'><dt><span>stac_catalog_url :</span></dt><dd>https://s3.eu-central-1.wasabisys.com/stac/odse/catalog.json</dd><dt><span>stac_item_id :</span></dt><dd>lcv_blue_landsat.glad.ard_1999.12.02..2000.03.20</dd></dl></div></li></ul></div></div>"
      ],
      "text/plain": [
       "<xarray.Dataset> Size: 114GB\n",
       "Dimensions:      (x: 188000, y: 151000)\n",
       "Coordinates:\n",
       "  * x            (x) float64 2MB 9e+05 9e+05 9.001e+05 ... 6.54e+06 6.54e+06\n",
       "  * y            (y) float64 1MB 5.46e+06 5.46e+06 ... 9.301e+05 9.3e+05\n",
       "    spatial_ref  int64 8B 0\n",
       "Data variables:\n",
       "    blue_p50     (y, x) uint8 28GB dask.array<chunksize=(512, 512), meta=np.ndarray>\n",
       "    blue_p25     (y, x) uint8 28GB dask.array<chunksize=(512, 512), meta=np.ndarray>\n",
       "    blue_p75     (y, x) uint8 28GB dask.array<chunksize=(512, 512), meta=np.ndarray>\n",
       "    qa_f         (y, x) uint8 28GB dask.array<chunksize=(512, 512), meta=np.ndarray>\n",
       "Attributes:\n",
       "    stac_catalog_url:  https://s3.eu-central-1.wasabisys.com/stac/odse/catalo...\n",
       "    stac_item_id:      lcv_blue_landsat.glad.ard_1999.12.02..2000.03.20"
      ]
     },
     "execution_count": 8,
     "metadata": {},
     "output_type": "execute_result"
    }
   ],
   "source": [
    "%%time\n",
    "ds = store.open_data(descriptors[0].data_id, data_type=\"dataset\")\n",
    "ds"
   ]
  },
  {
   "cell_type": "markdown",
   "metadata": {},
   "source": [
    "We plot the loaded data as an example below."
   ]
  },
  {
   "cell_type": "code",
   "execution_count": 9,
   "metadata": {},
   "outputs": [
    {
     "name": "stdout",
     "output_type": "stream",
     "text": [
      "CPU times: user 2.06 s, sys: 704 ms, total: 2.76 s\n",
      "Wall time: 34.7 s\n"
     ]
    },
    {
     "data": {
      "text/plain": [
       "<matplotlib.collections.QuadMesh at 0x77cc67168770>"
      ]
     },
     "execution_count": 9,
     "metadata": {},
     "output_type": "execute_result"
    },
    {
     "data": {
      "image/png": "[encoded data removed]",
      "text/plain": [
       "<Figure size 640x480 with 2 Axes>"
      ]
     },
     "metadata": {},
     "output_type": "display_data"
    }
   ],
   "source": [
    "%%time\n",
    "ds.blue_p50[100000:120000:20, 100000:120000:20].plot(vmax=20)"
   ]
  },
  {
   "cell_type": "markdown",
   "metadata": {},
   "source": [
    "We can also open a GeoTIFF as a [xcube's multi-resolution  dataset](https://xcube.readthedocs.io/en/latest/mldatasets.html#xcube-multi-resolution-datasets), where we can select the level of resolution, shown below."
   ]
  },
  {
   "cell_type": "code",
   "execution_count": 10,
   "metadata": {},
   "outputs": [
    {
     "name": "stdout",
     "output_type": "stream",
     "text": [
      "CPU times: user 18.7 ms, sys: 3.23 ms, total: 21.9 ms\n",
      "Wall time: 360 ms\n"
     ]
    },
    {
     "data": {
      "text/plain": [
       "9"
      ]
     },
     "execution_count": 10,
     "metadata": {},
     "output_type": "execute_result"
    }
   ],
   "source": [
    "%%time\n",
    "mlds = store.open_data(descriptors[0].data_id, data_type=\"mldataset\")\n",
    "mlds.num_levels"
   ]
  },
  {
   "cell_type": "code",
   "execution_count": 11,
   "metadata": {},
   "outputs": [
    {
     "data": {
      "text/html": [
       "<div><svg style=\"position: absolute; width: 0; height: 0; overflow: hidden\">\n",
       "<defs>\n",
       "<symbol id=\"icon-database\" viewBox=\"0 0 32 32\">\n",
       "<path d=\"M16 0c-8.837 0-16 2.239-16 5v4c0 2.761 7.163 5 16 5s16-2.239 16-5v-4c0-2.761-7.163-5-16-5z\"></path>\n",
       "<path d=\"M16 17c-8.837 0-16-2.239-16-5v6c0 2.761 7.163 5 16 5s16-2.239 16-5v-6c0 2.761-7.163 5-16 5z\"></path>\n",
       "<path d=\"M16 26c-8.837 0-16-2.239-16-5v6c0 2.761 7.163 5 16 5s16-2.239 16-5v-6c0 2.761-7.163 5-16 5z\"></path>\n",
       "</symbol>\n",
       "<symbol id=\"icon-file-text2\" viewBox=\"0 0 32 32\">\n",
       "<path d=\"M28.681 7.159c-0.694-0.947-1.662-2.053-2.724-3.116s-2.169-2.030-3.116-2.724c-1.612-1.182-2.393-1.319-2.841-1.319h-15.5c-1.378 0-2.5 1.121-2.5 2.5v27c0 1.378 1.122 2.5 2.5 2.5h23c1.378 0 2.5-1.122 2.5-2.5v-19.5c0-0.448-0.137-1.23-1.319-2.841zM24.543 5.457c0.959 0.959 1.712 1.825 2.268 2.543h-4.811v-4.811c0.718 0.556 1.584 1.309 2.543 2.268zM28 29.5c0 0.271-0.229 0.5-0.5 0.5h-23c-0.271 0-0.5-0.229-0.5-0.5v-27c0-0.271 0.229-0.5 0.5-0.5 0 0 15.499-0 15.5 0v7c0 0.552 0.448 1 1 1h7v19.5z\"></path>\n",
       "<path d=\"M23 26h-14c-0.552 0-1-0.448-1-1s0.448-1 1-1h14c0.552 0 1 0.448 1 1s-0.448 1-1 1z\"></path>\n",
       "<path d=\"M23 22h-14c-0.552 0-1-0.448-1-1s0.448-1 1-1h14c0.552 0 1 0.448 1 1s-0.448 1-1 1z\"></path>\n",
       "<path d=\"M23 18h-14c-0.552 0-1-0.448-1-1s0.448-1 1-1h14c0.552 0 1 0.448 1 1s-0.448 1-1 1z\"></path>\n",
       "</symbol>\n",
       "</defs>\n",
       "</svg>\n",
       "<style>/* CSS stylesheet for displaying xarray objects in jupyterlab.\n",
       " *\n",
       " */\n",
       "\n",
       ":root {\n",
       "  --xr-font-color0: var(--jp-content-font-color0, rgba(0, 0, 0, 1));\n",
       "  --xr-font-color2: var(--jp-content-font-color2, rgba(0, 0, 0, 0.54));\n",
       "  --xr-font-color3: var(--jp-content-font-color3, rgba(0, 0, 0, 0.38));\n",
       "  --xr-border-color: var(--jp-border-color2, #e0e0e0);\n",
       "  --xr-disabled-color: var(--jp-layout-color3, #bdbdbd);\n",
       "  --xr-background-color: var(--jp-layout-color0, white);\n",
       "  --xr-background-color-row-even: var(--jp-layout-color1, white);\n",
       "  --xr-background-color-row-odd: var(--jp-layout-color2, #eeeeee);\n",
       "}\n",
       "\n",
       "html[theme=\"dark\"],\n",
       "html[data-theme=\"dark\"],\n",
       "body[data-theme=\"dark\"],\n",
       "body.vscode-dark {\n",
       "  --xr-font-color0: rgba(255, 255, 255, 1);\n",
       "  --xr-font-color2: rgba(255, 255, 255, 0.54);\n",
       "  --xr-font-color3: rgba(255, 255, 255, 0.38);\n",
       "  --xr-border-color: #1f1f1f;\n",
       "  --xr-disabled-color: #515151;\n",
       "  --xr-background-color: #111111;\n",
       "  --xr-background-color-row-even: #111111;\n",
       "  --xr-background-color-row-odd: #313131;\n",
       "}\n",
       "\n",
       ".xr-wrap {\n",
       "  display: block !important;\n",
       "  min-width: 300px;\n",
       "  max-width: 700px;\n",
       "}\n",
       "\n",
       ".xr-text-repr-fallback {\n",
       "  /* fallback to plain text repr when CSS is not injected (untrusted notebook) */\n",
       "  display: none;\n",
       "}\n",
       "\n",
       ".xr-header {\n",
       "  padding-top: 6px;\n",
       "  padding-bottom: 6px;\n",
       "  margin-bottom: 4px;\n",
       "  border-bottom: solid 1px var(--xr-border-color);\n",
       "}\n",
       "\n",
       ".xr-header > div,\n",
       ".xr-header > ul {\n",
       "  display: inline;\n",
       "  margin-top: 0;\n",
       "  margin-bottom: 0;\n",
       "}\n",
       "\n",
       ".xr-obj-type,\n",
       ".xr-array-name {\n",
       "  margin-left: 2px;\n",
       "  margin-right: 10px;\n",
       "}\n",
       "\n",
       ".xr-obj-type {\n",
       "  color: var(--xr-font-color2);\n",
       "}\n",
       "\n",
       ".xr-sections {\n",
       "  padding-left: 0 !important;\n",
       "  display: grid;\n",
       "  grid-template-columns: 150px auto auto 1fr 0 20px 0 20px;\n",
       "}\n",
       "\n",
       ".xr-section-item {\n",
       "  display: contents;\n",
       "}\n",
       "\n",
       ".xr-section-item input {\n",
       "  display: inline-block;\n",
       "  opacity: 0;\n",
       "  height: 0;\n",
       "}\n",
       "\n",
       ".xr-section-item input + label {\n",
       "  color: var(--xr-disabled-color);\n",
       "}\n",
       "\n",
       ".xr-section-item input:enabled + label {\n",
       "  cursor: pointer;\n",
       "  color: var(--xr-font-color2);\n",
       "}\n",
       "\n",
       ".xr-section-item input:focus + label {\n",
       "  border: 2px solid var(--xr-font-color0);\n",
       "}\n",
       "\n",
       ".xr-section-item input:enabled + label:hover {\n",
       "  color: var(--xr-font-color0);\n",
       "}\n",
       "\n",
       ".xr-section-summary {\n",
       "  grid-column: 1;\n",
       "  color: var(--xr-font-color2);\n",
       "  font-weight: 500;\n",
       "}\n",
       "\n",
       ".xr-section-summary > span {\n",
       "  display: inline-block;\n",
       "  padding-left: 0.5em;\n",
       "}\n",
       "\n",
       ".xr-section-summary-in:disabled + label {\n",
       "  color: var(--xr-font-color2);\n",
       "}\n",
       "\n",
       ".xr-section-summary-in + label:before {\n",
       "  display: inline-block;\n",
       "  content: \"►\";\n",
       "  font-size: 11px;\n",
       "  width: 15px;\n",
       "  text-align: center;\n",
       "}\n",
       "\n",
       ".xr-section-summary-in:disabled + label:before {\n",
       "  color: var(--xr-disabled-color);\n",
       "}\n",
       "\n",
       ".xr-section-summary-in:checked + label:before {\n",
       "  content: \"▼\";\n",
       "}\n",
       "\n",
       ".xr-section-summary-in:checked + label > span {\n",
       "  display: none;\n",
       "}\n",
       "\n",
       ".xr-section-summary,\n",
       ".xr-section-inline-details {\n",
       "  padding-top: 4px;\n",
       "  padding-bottom: 4px;\n",
       "}\n",
       "\n",
       ".xr-section-inline-details {\n",
       "  grid-column: 2 / -1;\n",
       "}\n",
       "\n",
       ".xr-section-details {\n",
       "  display: none;\n",
       "  grid-column: 1 / -1;\n",
       "  margin-bottom: 5px;\n",
       "}\n",
       "\n",
       ".xr-section-summary-in:checked ~ .xr-section-details {\n",
       "  display: contents;\n",
       "}\n",
       "\n",
       ".xr-array-wrap {\n",
       "  grid-column: 1 / -1;\n",
       "  display: grid;\n",
       "  grid-template-columns: 20px auto;\n",
       "}\n",
       "\n",
       ".xr-array-wrap > label {\n",
       "  grid-column: 1;\n",
       "  vertical-align: top;\n",
       "}\n",
       "\n",
       ".xr-preview {\n",
       "  color: var(--xr-font-color3);\n",
       "}\n",
       "\n",
       ".xr-array-preview,\n",
       ".xr-array-data {\n",
       "  padding: 0 5px !important;\n",
       "  grid-column: 2;\n",
       "}\n",
       "\n",
       ".xr-array-data,\n",
       ".xr-array-in:checked ~ .xr-array-preview {\n",
       "  display: none;\n",
       "}\n",
       "\n",
       ".xr-array-in:checked ~ .xr-array-data,\n",
       ".xr-array-preview {\n",
       "  display: inline-block;\n",
       "}\n",
       "\n",
       ".xr-dim-list {\n",
       "  display: inline-block !important;\n",
       "  list-style: none;\n",
       "  padding: 0 !important;\n",
       "  margin: 0;\n",
       "}\n",
       "\n",
       ".xr-dim-list li {\n",
       "  display: inline-block;\n",
       "  padding: 0;\n",
       "  margin: 0;\n",
       "}\n",
       "\n",
       ".xr-dim-list:before {\n",
       "  content: \"(\";\n",
       "}\n",
       "\n",
       ".xr-dim-list:after {\n",
       "  content: \")\";\n",
       "}\n",
       "\n",
       ".xr-dim-list li:not(:last-child):after {\n",
       "  content: \",\";\n",
       "  padding-right: 5px;\n",
       "}\n",
       "\n",
       ".xr-has-index {\n",
       "  font-weight: bold;\n",
       "}\n",
       "\n",
       ".xr-var-list,\n",
       ".xr-var-item {\n",
       "  display: contents;\n",
       "}\n",
       "\n",
       ".xr-var-item > div,\n",
       ".xr-var-item label,\n",
       ".xr-var-item > .xr-var-name span {\n",
       "  background-color: var(--xr-background-color-row-even);\n",
       "  margin-bottom: 0;\n",
       "}\n",
       "\n",
       ".xr-var-item > .xr-var-name:hover span {\n",
       "  padding-right: 5px;\n",
       "}\n",
       "\n",
       ".xr-var-list > li:nth-child(odd) > div,\n",
       ".xr-var-list > li:nth-child(odd) > label,\n",
       ".xr-var-list > li:nth-child(odd) > .xr-var-name span {\n",
       "  background-color: var(--xr-background-color-row-odd);\n",
       "}\n",
       "\n",
       ".xr-var-name {\n",
       "  grid-column: 1;\n",
       "}\n",
       "\n",
       ".xr-var-dims {\n",
       "  grid-column: 2;\n",
       "}\n",
       "\n",
       ".xr-var-dtype {\n",
       "  grid-column: 3;\n",
       "  text-align: right;\n",
       "  color: var(--xr-font-color2);\n",
       "}\n",
       "\n",
       ".xr-var-preview {\n",
       "  grid-column: 4;\n",
       "}\n",
       "\n",
       ".xr-index-preview {\n",
       "  grid-column: 2 / 5;\n",
       "  color: var(--xr-font-color2);\n",
       "}\n",
       "\n",
       ".xr-var-name,\n",
       ".xr-var-dims,\n",
       ".xr-var-dtype,\n",
       ".xr-preview,\n",
       ".xr-attrs dt {\n",
       "  white-space: nowrap;\n",
       "  overflow: hidden;\n",
       "  text-overflow: ellipsis;\n",
       "  padding-right: 10px;\n",
       "}\n",
       "\n",
       ".xr-var-name:hover,\n",
       ".xr-var-dims:hover,\n",
       ".xr-var-dtype:hover,\n",
       ".xr-attrs dt:hover {\n",
       "  overflow: visible;\n",
       "  width: auto;\n",
       "  z-index: 1;\n",
       "}\n",
       "\n",
       ".xr-var-attrs,\n",
       ".xr-var-data,\n",
       ".xr-index-data {\n",
       "  display: none;\n",
       "  background-color: var(--xr-background-color) !important;\n",
       "  padding-bottom: 5px !important;\n",
       "}\n",
       "\n",
       ".xr-var-attrs-in:checked ~ .xr-var-attrs,\n",
       ".xr-var-data-in:checked ~ .xr-var-data,\n",
       ".xr-index-data-in:checked ~ .xr-index-data {\n",
       "  display: block;\n",
       "}\n",
       "\n",
       ".xr-var-data > table {\n",
       "  float: right;\n",
       "}\n",
       "\n",
       ".xr-var-name span,\n",
       ".xr-var-data,\n",
       ".xr-index-name div,\n",
       ".xr-index-data,\n",
       ".xr-attrs {\n",
       "  padding-left: 25px !important;\n",
       "}\n",
       "\n",
       ".xr-attrs,\n",
       ".xr-var-attrs,\n",
       ".xr-var-data,\n",
       ".xr-index-data {\n",
       "  grid-column: 1 / -1;\n",
       "}\n",
       "\n",
       "dl.xr-attrs {\n",
       "  padding: 0;\n",
       "  margin: 0;\n",
       "  display: grid;\n",
       "  grid-template-columns: 125px auto;\n",
       "}\n",
       "\n",
       ".xr-attrs dt,\n",
       ".xr-attrs dd {\n",
       "  padding: 0;\n",
       "  margin: 0;\n",
       "  float: left;\n",
       "  padding-right: 10px;\n",
       "  width: auto;\n",
       "}\n",
       "\n",
       ".xr-attrs dt {\n",
       "  font-weight: normal;\n",
       "  grid-column: 1;\n",
       "}\n",
       "\n",
       ".xr-attrs dt:hover span {\n",
       "  display: inline-block;\n",
       "  background: var(--xr-background-color);\n",
       "  padding-right: 10px;\n",
       "}\n",
       "\n",
       ".xr-attrs dd {\n",
       "  grid-column: 2;\n",
       "  white-space: pre-wrap;\n",
       "  word-break: break-all;\n",
       "}\n",
       "\n",
       ".xr-icon-database,\n",
       ".xr-icon-file-text2,\n",
       ".xr-no-icon {\n",
       "  display: inline-block;\n",
       "  vertical-align: middle;\n",
       "  width: 1em;\n",
       "  height: 1.5em !important;\n",
       "  stroke-width: 0;\n",
       "  stroke: currentColor;\n",
       "  fill: currentColor;\n",
       "}\n",
       "</style><pre class='xr-text-repr-fallback'>&lt;xarray.Dataset&gt; Size: 111MB\n",
       "Dimensions:      (x: 5875, y: 4719)\n",
       "Coordinates:\n",
       "  * x            (x) float64 47kB 9.005e+05 9.014e+05 ... 6.539e+06 6.54e+06\n",
       "  * y            (y) float64 38kB 5.46e+06 5.459e+06 ... 9.314e+05 9.305e+05\n",
       "    spatial_ref  int64 8B 0\n",
       "Data variables:\n",
       "    blue_p50     (y, x) uint8 28MB dask.array&lt;chunksize=(512, 512), meta=np.ndarray&gt;\n",
       "    blue_p25     (y, x) uint8 28MB dask.array&lt;chunksize=(512, 512), meta=np.ndarray&gt;\n",
       "    blue_p75     (y, x) uint8 28MB dask.array&lt;chunksize=(512, 512), meta=np.ndarray&gt;\n",
       "    qa_f         (y, x) uint8 28MB dask.array&lt;chunksize=(512, 512), meta=np.ndarray&gt;\n",
       "Attributes:\n",
       "    stac_catalog_url:  https://s3.eu-central-1.wasabisys.com/stac/odse/catalo...\n",
       "    stac_item_id:      lcv_blue_landsat.glad.ard_1999.12.02..2000.03.20</pre><div class='xr-wrap' style='display:none'><div class='xr-header'><div class='xr-obj-type'>xarray.Dataset</div></div><ul class='xr-sections'><li class='xr-section-item'><input id='section-e59487fe-d6e5-4a20-a873-51fc4cfd7980' class='xr-section-summary-in' type='checkbox' disabled ><label for='section-e59487fe-d6e5-4a20-a873-51fc4cfd7980' class='xr-section-summary'  title='Expand/collapse section'>Dimensions:</label><div class='xr-section-inline-details'><ul class='xr-dim-list'><li><span class='xr-has-index'>x</span>: 5875</li><li><span class='xr-has-index'>y</span>: 4719</li></ul></div><div class='xr-section-details'></div></li><li class='xr-section-item'><input id='section-6ebd34c1-65c0-4468-b2e1-d36b49a3f652' class='xr-section-summary-in' type='checkbox'  checked><label for='section-6ebd34c1-65c0-4468-b2e1-d36b49a3f652' class='xr-section-summary' >Coordinates: <span>(3)</span></label><div class='xr-section-inline-details'></div><div class='xr-section-details'><ul class='xr-var-list'><li class='xr-var-item'><div class='xr-var-name'><span class='xr-has-index'>x</span></div><div class='xr-var-dims'>(x)</div><div class='xr-var-dtype'>float64</div><div class='xr-var-preview xr-preview'>9.005e+05 9.014e+05 ... 6.54e+06</div><input id='attrs-09da32a9-aaf8-4d71-9ba0-fcf42a4c233b' class='xr-var-attrs-in' type='checkbox' disabled><label for='attrs-09da32a9-aaf8-4d71-9ba0-fcf42a4c233b' title='Show/Hide attributes'><svg class='icon xr-icon-file-text2'><use xlink:href='#icon-file-text2'></use></svg></label><input id='data-bec19536-f25c-41da-a3c4-5932fcef58e9' class='xr-var-data-in' type='checkbox'><label for='data-bec19536-f25c-41da-a3c4-5932fcef58e9' title='Show/Hide data repr'><svg class='icon xr-icon-database'><use xlink:href='#icon-database'></use></svg></label><div class='xr-var-attrs'><dl class='xr-attrs'></dl></div><div class='xr-var-data'><pre>array([ 900480.,  901440.,  902400., ..., 6537600., 6538560., 6539520.])</pre></div></li><li class='xr-var-item'><div class='xr-var-name'><span class='xr-has-index'>y</span></div><div class='xr-var-dims'>(y)</div><div class='xr-var-dtype'>float64</div><div class='xr-var-preview xr-preview'>5.46e+06 5.459e+06 ... 9.305e+05</div><input id='attrs-eb82d2c2-fab8-4dc0-bb85-30a4f66cbeeb' class='xr-var-attrs-in' type='checkbox' disabled><label for='attrs-eb82d2c2-fab8-4dc0-bb85-30a4f66cbeeb' title='Show/Hide attributes'><svg class='icon xr-icon-file-text2'><use xlink:href='#icon-file-text2'></use></svg></label><input id='data-e13d75d6-bd38-45ca-a717-96d0a4ed2fe5' class='xr-var-data-in' type='checkbox'><label for='data-e13d75d6-bd38-45ca-a717-96d0a4ed2fe5' title='Show/Hide data repr'><svg class='icon xr-icon-database'><use xlink:href='#icon-database'></use></svg></label><div class='xr-var-attrs'><dl class='xr-attrs'></dl></div><div class='xr-var-data'><pre>array([5459530.025429, 5458570.076287, 5457610.127146, ...,  932409.872854,\n",
       "        931449.923713,  930489.974571])</pre></div></li><li class='xr-var-item'><div class='xr-var-name'><span>spatial_ref</span></div><div class='xr-var-dims'>()</div><div class='xr-var-dtype'>int64</div><div class='xr-var-preview xr-preview'>0</div><input id='attrs-6ded0575-f0aa-42fd-9d9f-8ff693d9864e' class='xr-var-attrs-in' type='checkbox' ><label for='attrs-6ded0575-f0aa-42fd-9d9f-8ff693d9864e' title='Show/Hide attributes'><svg class='icon xr-icon-file-text2'><use xlink:href='#icon-file-text2'></use></svg></label><input id='data-afbe56fd-a912-40e4-8c96-125f962025af' class='xr-var-data-in' type='checkbox'><label for='data-afbe56fd-a912-40e4-8c96-125f962025af' title='Show/Hide data repr'><svg class='icon xr-icon-database'><use xlink:href='#icon-database'></use></svg></label><div class='xr-var-attrs'><dl class='xr-attrs'><dt><span>crs_wkt :</span></dt><dd>PROJCRS[&quot;unknown&quot;,BASEGEOGCRS[&quot;unknown&quot;,DATUM[&quot;Unknown_based_on_GRS80_ellipsoid&quot;,ELLIPSOID[&quot;GRS 1980&quot;,6378137,298.257222101004,LENGTHUNIT[&quot;metre&quot;,1],ID[&quot;EPSG&quot;,7019]]],PRIMEM[&quot;Greenwich&quot;,0,ANGLEUNIT[&quot;degree&quot;,0.0174532925199433,ID[&quot;EPSG&quot;,9122]]]],CONVERSION[&quot;unnamed&quot;,METHOD[&quot;Lambert Azimuthal Equal Area&quot;,ID[&quot;EPSG&quot;,9820]],PARAMETER[&quot;Latitude of natural origin&quot;,52,ANGLEUNIT[&quot;degree&quot;,0.0174532925199433],ID[&quot;EPSG&quot;,8801]],PARAMETER[&quot;Longitude of natural origin&quot;,10,ANGLEUNIT[&quot;degree&quot;,0.0174532925199433],ID[&quot;EPSG&quot;,8802]],PARAMETER[&quot;False easting&quot;,4321000,LENGTHUNIT[&quot;metre&quot;,1],ID[&quot;EPSG&quot;,8806]],PARAMETER[&quot;False northing&quot;,3210000,LENGTHUNIT[&quot;metre&quot;,1],ID[&quot;EPSG&quot;,8807]]],CS[Cartesian,2],AXIS[&quot;easting&quot;,east,ORDER[1],LENGTHUNIT[&quot;metre&quot;,1]],AXIS[&quot;northing&quot;,north,ORDER[2],LENGTHUNIT[&quot;metre&quot;,1]]]</dd><dt><span>semi_major_axis :</span></dt><dd>6378137.0</dd><dt><span>semi_minor_axis :</span></dt><dd>6356752.314140356</dd><dt><span>inverse_flattening :</span></dt><dd>298.257222101004</dd><dt><span>reference_ellipsoid_name :</span></dt><dd>GRS 1980</dd><dt><span>longitude_of_prime_meridian :</span></dt><dd>0.0</dd><dt><span>prime_meridian_name :</span></dt><dd>Greenwich</dd><dt><span>geographic_crs_name :</span></dt><dd>unknown</dd><dt><span>horizontal_datum_name :</span></dt><dd>Unknown_based_on_GRS80_ellipsoid</dd><dt><span>projected_crs_name :</span></dt><dd>unknown</dd><dt><span>grid_mapping_name :</span></dt><dd>lambert_azimuthal_equal_area</dd><dt><span>latitude_of_projection_origin :</span></dt><dd>52.0</dd><dt><span>longitude_of_projection_origin :</span></dt><dd>10.0</dd><dt><span>false_easting :</span></dt><dd>4321000.0</dd><dt><span>false_northing :</span></dt><dd>3210000.0</dd></dl></div><div class='xr-var-data'><pre>array(0)</pre></div></li></ul></div></li><li class='xr-section-item'><input id='section-03828e0e-e1e5-4746-b6c5-5b08ff07fd1a' class='xr-section-summary-in' type='checkbox'  checked><label for='section-03828e0e-e1e5-4746-b6c5-5b08ff07fd1a' class='xr-section-summary' >Data variables: <span>(4)</span></label><div class='xr-section-inline-details'></div><div class='xr-section-details'><ul class='xr-var-list'><li class='xr-var-item'><div class='xr-var-name'><span>blue_p50</span></div><div class='xr-var-dims'>(y, x)</div><div class='xr-var-dtype'>uint8</div><div class='xr-var-preview xr-preview'>dask.array&lt;chunksize=(512, 512), meta=np.ndarray&gt;</div><input id='attrs-6235a021-c371-4bf4-80a5-5ca18599fa8b' class='xr-var-attrs-in' type='checkbox' ><label for='attrs-6235a021-c371-4bf4-80a5-5ca18599fa8b' title='Show/Hide attributes'><svg class='icon xr-icon-file-text2'><use xlink:href='#icon-file-text2'></use></svg></label><input id='data-95114f63-47fb-45a2-9d22-d7805543c421' class='xr-var-data-in' type='checkbox'><label for='data-95114f63-47fb-45a2-9d22-d7805543c421' title='Show/Hide data repr'><svg class='icon xr-icon-database'><use xlink:href='#icon-database'></use></svg></label><div class='xr-var-attrs'><dl class='xr-attrs'><dt><span>AREA_OR_POINT :</span></dt><dd>Area</dd><dt><span>_FillValue :</span></dt><dd>0</dd><dt><span>scale_factor :</span></dt><dd>1.0</dd><dt><span>add_offset :</span></dt><dd>0.0</dd><dt><span>grid_mapping :</span></dt><dd>spatial_ref</dd></dl></div><div class='xr-var-data'><table>\n",
       "    <tr>\n",
       "        <td>\n",
       "            <table style=\"border-collapse: collapse;\">\n",
       "                <thead>\n",
       "                    <tr>\n",
       "                        <td> </td>\n",
       "                        <th> Array </th>\n",
       "                        <th> Chunk </th>\n",
       "                    </tr>\n",
       "                </thead>\n",
       "                <tbody>\n",
       "                    \n",
       "                    <tr>\n",
       "                        <th> Bytes </th>\n",
       "                        <td> 26.44 MiB </td>\n",
       "                        <td> 256.00 kiB </td>\n",
       "                    </tr>\n",
       "                    \n",
       "                    <tr>\n",
       "                        <th> Shape </th>\n",
       "                        <td> (4719, 5875) </td>\n",
       "                        <td> (512, 512) </td>\n",
       "                    </tr>\n",
       "                    <tr>\n",
       "                        <th> Dask graph </th>\n",
       "                        <td colspan=\"2\"> 120 chunks in 3 graph layers </td>\n",
       "                    </tr>\n",
       "                    <tr>\n",
       "                        <th> Data type </th>\n",
       "                        <td colspan=\"2\"> uint8 numpy.ndarray </td>\n",
       "                    </tr>\n",
       "                </tbody>\n",
       "            </table>\n",
       "        </td>\n",
       "        <td>\n",
       "        <svg width=\"170\" height=\"146\" style=\"stroke:rgb(0,0,0);stroke-width:1\" >\n",
       "\n",
       "  <!-- Horizontal lines -->\n",
       "  <line x1=\"0\" y1=\"0\" x2=\"120\" y2=\"0\" style=\"stroke-width:2\" />\n",
       "  <line x1=\"0\" y1=\"10\" x2=\"120\" y2=\"10\" />\n",
       "  <line x1=\"0\" y1=\"20\" x2=\"120\" y2=\"20\" />\n",
       "  <line x1=\"0\" y1=\"31\" x2=\"120\" y2=\"31\" />\n",
       "  <line x1=\"0\" y1=\"41\" x2=\"120\" y2=\"41\" />\n",
       "  <line x1=\"0\" y1=\"52\" x2=\"120\" y2=\"52\" />\n",
       "  <line x1=\"0\" y1=\"62\" x2=\"120\" y2=\"62\" />\n",
       "  <line x1=\"0\" y1=\"73\" x2=\"120\" y2=\"73\" />\n",
       "  <line x1=\"0\" y1=\"83\" x2=\"120\" y2=\"83\" />\n",
       "  <line x1=\"0\" y1=\"94\" x2=\"120\" y2=\"94\" />\n",
       "  <line x1=\"0\" y1=\"96\" x2=\"120\" y2=\"96\" style=\"stroke-width:2\" />\n",
       "\n",
       "  <!-- Vertical lines -->\n",
       "  <line x1=\"0\" y1=\"0\" x2=\"0\" y2=\"96\" style=\"stroke-width:2\" />\n",
       "  <line x1=\"10\" y1=\"0\" x2=\"10\" y2=\"96\" />\n",
       "  <line x1=\"20\" y1=\"0\" x2=\"20\" y2=\"96\" />\n",
       "  <line x1=\"31\" y1=\"0\" x2=\"31\" y2=\"96\" />\n",
       "  <line x1=\"41\" y1=\"0\" x2=\"41\" y2=\"96\" />\n",
       "  <line x1=\"52\" y1=\"0\" x2=\"52\" y2=\"96\" />\n",
       "  <line x1=\"62\" y1=\"0\" x2=\"62\" y2=\"96\" />\n",
       "  <line x1=\"73\" y1=\"0\" x2=\"73\" y2=\"96\" />\n",
       "  <line x1=\"83\" y1=\"0\" x2=\"83\" y2=\"96\" />\n",
       "  <line x1=\"94\" y1=\"0\" x2=\"94\" y2=\"96\" />\n",
       "  <line x1=\"104\" y1=\"0\" x2=\"104\" y2=\"96\" />\n",
       "  <line x1=\"115\" y1=\"0\" x2=\"115\" y2=\"96\" />\n",
       "  <line x1=\"120\" y1=\"0\" x2=\"120\" y2=\"96\" style=\"stroke-width:2\" />\n",
       "\n",
       "  <!-- Colored Rectangle -->\n",
       "  <polygon points=\"0.0,0.0 120.0,0.0 120.0,96.38808510638297 0.0,96.38808510638297\" style=\"fill:#ECB172A0;stroke-width:0\"/>\n",
       "\n",
       "  <!-- Text -->\n",
       "  <text x=\"60.000000\" y=\"116.388085\" font-size=\"1.0rem\" font-weight=\"100\" text-anchor=\"middle\" >5875</text>\n",
       "  <text x=\"140.000000\" y=\"48.194043\" font-size=\"1.0rem\" font-weight=\"100\" text-anchor=\"middle\" transform=\"rotate(-90,140.000000,48.194043)\">4719</text>\n",
       "</svg>\n",
       "        </td>\n",
       "    </tr>\n",
       "</table></div></li><li class='xr-var-item'><div class='xr-var-name'><span>blue_p25</span></div><div class='xr-var-dims'>(y, x)</div><div class='xr-var-dtype'>uint8</div><div class='xr-var-preview xr-preview'>dask.array&lt;chunksize=(512, 512), meta=np.ndarray&gt;</div><input id='attrs-2c614028-4f3d-4777-9ea1-c3d1f4eb4087' class='xr-var-attrs-in' type='checkbox' ><label for='attrs-2c614028-4f3d-4777-9ea1-c3d1f4eb4087' title='Show/Hide attributes'><svg class='icon xr-icon-file-text2'><use xlink:href='#icon-file-text2'></use></svg></label><input id='data-d18cc0e3-4299-4521-9b7a-8067be85e309' class='xr-var-data-in' type='checkbox'><label for='data-d18cc0e3-4299-4521-9b7a-8067be85e309' title='Show/Hide data repr'><svg class='icon xr-icon-database'><use xlink:href='#icon-database'></use></svg></label><div class='xr-var-attrs'><dl class='xr-attrs'><dt><span>AREA_OR_POINT :</span></dt><dd>Area</dd><dt><span>_FillValue :</span></dt><dd>0</dd><dt><span>scale_factor :</span></dt><dd>1.0</dd><dt><span>add_offset :</span></dt><dd>0.0</dd><dt><span>grid_mapping :</span></dt><dd>spatial_ref</dd></dl></div><div class='xr-var-data'><table>\n",
       "    <tr>\n",
       "        <td>\n",
       "            <table style=\"border-collapse: collapse;\">\n",
       "                <thead>\n",
       "                    <tr>\n",
       "                        <td> </td>\n",
       "                        <th> Array </th>\n",
       "                        <th> Chunk </th>\n",
       "                    </tr>\n",
       "                </thead>\n",
       "                <tbody>\n",
       "                    \n",
       "                    <tr>\n",
       "                        <th> Bytes </th>\n",
       "                        <td> 26.44 MiB </td>\n",
       "                        <td> 256.00 kiB </td>\n",
       "                    </tr>\n",
       "                    \n",
       "                    <tr>\n",
       "                        <th> Shape </th>\n",
       "                        <td> (4719, 5875) </td>\n",
       "                        <td> (512, 512) </td>\n",
       "                    </tr>\n",
       "                    <tr>\n",
       "                        <th> Dask graph </th>\n",
       "                        <td colspan=\"2\"> 120 chunks in 3 graph layers </td>\n",
       "                    </tr>\n",
       "                    <tr>\n",
       "                        <th> Data type </th>\n",
       "                        <td colspan=\"2\"> uint8 numpy.ndarray </td>\n",
       "                    </tr>\n",
       "                </tbody>\n",
       "            </table>\n",
       "        </td>\n",
       "        <td>\n",
       "        <svg width=\"170\" height=\"146\" style=\"stroke:rgb(0,0,0);stroke-width:1\" >\n",
       "\n",
       "  <!-- Horizontal lines -->\n",
       "  <line x1=\"0\" y1=\"0\" x2=\"120\" y2=\"0\" style=\"stroke-width:2\" />\n",
       "  <line x1=\"0\" y1=\"10\" x2=\"120\" y2=\"10\" />\n",
       "  <line x1=\"0\" y1=\"20\" x2=\"120\" y2=\"20\" />\n",
       "  <line x1=\"0\" y1=\"31\" x2=\"120\" y2=\"31\" />\n",
       "  <line x1=\"0\" y1=\"41\" x2=\"120\" y2=\"41\" />\n",
       "  <line x1=\"0\" y1=\"52\" x2=\"120\" y2=\"52\" />\n",
       "  <line x1=\"0\" y1=\"62\" x2=\"120\" y2=\"62\" />\n",
       "  <line x1=\"0\" y1=\"73\" x2=\"120\" y2=\"73\" />\n",
       "  <line x1=\"0\" y1=\"83\" x2=\"120\" y2=\"83\" />\n",
       "  <line x1=\"0\" y1=\"94\" x2=\"120\" y2=\"94\" />\n",
       "  <line x1=\"0\" y1=\"96\" x2=\"120\" y2=\"96\" style=\"stroke-width:2\" />\n",
       "\n",
       "  <!-- Vertical lines -->\n",
       "  <line x1=\"0\" y1=\"0\" x2=\"0\" y2=\"96\" style=\"stroke-width:2\" />\n",
       "  <line x1=\"10\" y1=\"0\" x2=\"10\" y2=\"96\" />\n",
       "  <line x1=\"20\" y1=\"0\" x2=\"20\" y2=\"96\" />\n",
       "  <line x1=\"31\" y1=\"0\" x2=\"31\" y2=\"96\" />\n",
       "  <line x1=\"41\" y1=\"0\" x2=\"41\" y2=\"96\" />\n",
       "  <line x1=\"52\" y1=\"0\" x2=\"52\" y2=\"96\" />\n",
       "  <line x1=\"62\" y1=\"0\" x2=\"62\" y2=\"96\" />\n",
       "  <line x1=\"73\" y1=\"0\" x2=\"73\" y2=\"96\" />\n",
       "  <line x1=\"83\" y1=\"0\" x2=\"83\" y2=\"96\" />\n",
       "  <line x1=\"94\" y1=\"0\" x2=\"94\" y2=\"96\" />\n",
       "  <line x1=\"104\" y1=\"0\" x2=\"104\" y2=\"96\" />\n",
       "  <line x1=\"115\" y1=\"0\" x2=\"115\" y2=\"96\" />\n",
       "  <line x1=\"120\" y1=\"0\" x2=\"120\" y2=\"96\" style=\"stroke-width:2\" />\n",
       "\n",
       "  <!-- Colored Rectangle -->\n",
       "  <polygon points=\"0.0,0.0 120.0,0.0 120.0,96.38808510638297 0.0,96.38808510638297\" style=\"fill:#ECB172A0;stroke-width:0\"/>\n",
       "\n",
       "  <!-- Text -->\n",
       "  <text x=\"60.000000\" y=\"116.388085\" font-size=\"1.0rem\" font-weight=\"100\" text-anchor=\"middle\" >5875</text>\n",
       "  <text x=\"140.000000\" y=\"48.194043\" font-size=\"1.0rem\" font-weight=\"100\" text-anchor=\"middle\" transform=\"rotate(-90,140.000000,48.194043)\">4719</text>\n",
       "</svg>\n",
       "        </td>\n",
       "    </tr>\n",
       "</table></div></li><li class='xr-var-item'><div class='xr-var-name'><span>blue_p75</span></div><div class='xr-var-dims'>(y, x)</div><div class='xr-var-dtype'>uint8</div><div class='xr-var-preview xr-preview'>dask.array&lt;chunksize=(512, 512), meta=np.ndarray&gt;</div><input id='attrs-975777a2-8e52-4fd2-8c59-4a0e546e5575' class='xr-var-attrs-in' type='checkbox' ><label for='attrs-975777a2-8e52-4fd2-8c59-4a0e546e5575' title='Show/Hide attributes'><svg class='icon xr-icon-file-text2'><use xlink:href='#icon-file-text2'></use></svg></label><input id='data-b3922997-b4f0-4705-aea5-0f66c9fc6b63' class='xr-var-data-in' type='checkbox'><label for='data-b3922997-b4f0-4705-aea5-0f66c9fc6b63' title='Show/Hide data repr'><svg class='icon xr-icon-database'><use xlink:href='#icon-database'></use></svg></label><div class='xr-var-attrs'><dl class='xr-attrs'><dt><span>AREA_OR_POINT :</span></dt><dd>Area</dd><dt><span>_FillValue :</span></dt><dd>0</dd><dt><span>scale_factor :</span></dt><dd>1.0</dd><dt><span>add_offset :</span></dt><dd>0.0</dd><dt><span>grid_mapping :</span></dt><dd>spatial_ref</dd></dl></div><div class='xr-var-data'><table>\n",
       "    <tr>\n",
       "        <td>\n",
       "            <table style=\"border-collapse: collapse;\">\n",
       "                <thead>\n",
       "                    <tr>\n",
       "                        <td> </td>\n",
       "                        <th> Array </th>\n",
       "                        <th> Chunk </th>\n",
       "                    </tr>\n",
       "                </thead>\n",
       "                <tbody>\n",
       "                    \n",
       "                    <tr>\n",
       "                        <th> Bytes </th>\n",
       "                        <td> 26.44 MiB </td>\n",
       "                        <td> 256.00 kiB </td>\n",
       "                    </tr>\n",
       "                    \n",
       "                    <tr>\n",
       "                        <th> Shape </th>\n",
       "                        <td> (4719, 5875) </td>\n",
       "                        <td> (512, 512) </td>\n",
       "                    </tr>\n",
       "                    <tr>\n",
       "                        <th> Dask graph </th>\n",
       "                        <td colspan=\"2\"> 120 chunks in 3 graph layers </td>\n",
       "                    </tr>\n",
       "                    <tr>\n",
       "                        <th> Data type </th>\n",
       "                        <td colspan=\"2\"> uint8 numpy.ndarray </td>\n",
       "                    </tr>\n",
       "                </tbody>\n",
       "            </table>\n",
       "        </td>\n",
       "        <td>\n",
       "        <svg width=\"170\" height=\"146\" style=\"stroke:rgb(0,0,0);stroke-width:1\" >\n",
       "\n",
       "  <!-- Horizontal lines -->\n",
       "  <line x1=\"0\" y1=\"0\" x2=\"120\" y2=\"0\" style=\"stroke-width:2\" />\n",
       "  <line x1=\"0\" y1=\"10\" x2=\"120\" y2=\"10\" />\n",
       "  <line x1=\"0\" y1=\"20\" x2=\"120\" y2=\"20\" />\n",
       "  <line x1=\"0\" y1=\"31\" x2=\"120\" y2=\"31\" />\n",
       "  <line x1=\"0\" y1=\"41\" x2=\"120\" y2=\"41\" />\n",
       "  <line x1=\"0\" y1=\"52\" x2=\"120\" y2=\"52\" />\n",
       "  <line x1=\"0\" y1=\"62\" x2=\"120\" y2=\"62\" />\n",
       "  <line x1=\"0\" y1=\"73\" x2=\"120\" y2=\"73\" />\n",
       "  <line x1=\"0\" y1=\"83\" x2=\"120\" y2=\"83\" />\n",
       "  <line x1=\"0\" y1=\"94\" x2=\"120\" y2=\"94\" />\n",
       "  <line x1=\"0\" y1=\"96\" x2=\"120\" y2=\"96\" style=\"stroke-width:2\" />\n",
       "\n",
       "  <!-- Vertical lines -->\n",
       "  <line x1=\"0\" y1=\"0\" x2=\"0\" y2=\"96\" style=\"stroke-width:2\" />\n",
       "  <line x1=\"10\" y1=\"0\" x2=\"10\" y2=\"96\" />\n",
       "  <line x1=\"20\" y1=\"0\" x2=\"20\" y2=\"96\" />\n",
       "  <line x1=\"31\" y1=\"0\" x2=\"31\" y2=\"96\" />\n",
       "  <line x1=\"41\" y1=\"0\" x2=\"41\" y2=\"96\" />\n",
       "  <line x1=\"52\" y1=\"0\" x2=\"52\" y2=\"96\" />\n",
       "  <line x1=\"62\" y1=\"0\" x2=\"62\" y2=\"96\" />\n",
       "  <line x1=\"73\" y1=\"0\" x2=\"73\" y2=\"96\" />\n",
       "  <line x1=\"83\" y1=\"0\" x2=\"83\" y2=\"96\" />\n",
       "  <line x1=\"94\" y1=\"0\" x2=\"94\" y2=\"96\" />\n",
       "  <line x1=\"104\" y1=\"0\" x2=\"104\" y2=\"96\" />\n",
       "  <line x1=\"115\" y1=\"0\" x2=\"115\" y2=\"96\" />\n",
       "  <line x1=\"120\" y1=\"0\" x2=\"120\" y2=\"96\" style=\"stroke-width:2\" />\n",
       "\n",
       "  <!-- Colored Rectangle -->\n",
       "  <polygon points=\"0.0,0.0 120.0,0.0 120.0,96.38808510638297 0.0,96.38808510638297\" style=\"fill:#ECB172A0;stroke-width:0\"/>\n",
       "\n",
       "  <!-- Text -->\n",
       "  <text x=\"60.000000\" y=\"116.388085\" font-size=\"1.0rem\" font-weight=\"100\" text-anchor=\"middle\" >5875</text>\n",
       "  <text x=\"140.000000\" y=\"48.194043\" font-size=\"1.0rem\" font-weight=\"100\" text-anchor=\"middle\" transform=\"rotate(-90,140.000000,48.194043)\">4719</text>\n",
       "</svg>\n",
       "        </td>\n",
       "    </tr>\n",
       "</table></div></li><li class='xr-var-item'><div class='xr-var-name'><span>qa_f</span></div><div class='xr-var-dims'>(y, x)</div><div class='xr-var-dtype'>uint8</div><div class='xr-var-preview xr-preview'>dask.array&lt;chunksize=(512, 512), meta=np.ndarray&gt;</div><input id='attrs-301e9787-cea4-4333-89a2-5fe8e9248c46' class='xr-var-attrs-in' type='checkbox' ><label for='attrs-301e9787-cea4-4333-89a2-5fe8e9248c46' title='Show/Hide attributes'><svg class='icon xr-icon-file-text2'><use xlink:href='#icon-file-text2'></use></svg></label><input id='data-773c96c8-721c-449d-b82f-3e14ea56a006' class='xr-var-data-in' type='checkbox'><label for='data-773c96c8-721c-449d-b82f-3e14ea56a006' title='Show/Hide data repr'><svg class='icon xr-icon-database'><use xlink:href='#icon-database'></use></svg></label><div class='xr-var-attrs'><dl class='xr-attrs'><dt><span>AREA_OR_POINT :</span></dt><dd>Area</dd><dt><span>_FillValue :</span></dt><dd>0</dd><dt><span>scale_factor :</span></dt><dd>1.0</dd><dt><span>add_offset :</span></dt><dd>0.0</dd><dt><span>grid_mapping :</span></dt><dd>spatial_ref</dd></dl></div><div class='xr-var-data'><table>\n",
       "    <tr>\n",
       "        <td>\n",
       "            <table style=\"border-collapse: collapse;\">\n",
       "                <thead>\n",
       "                    <tr>\n",
       "                        <td> </td>\n",
       "                        <th> Array </th>\n",
       "                        <th> Chunk </th>\n",
       "                    </tr>\n",
       "                </thead>\n",
       "                <tbody>\n",
       "                    \n",
       "                    <tr>\n",
       "                        <th> Bytes </th>\n",
       "                        <td> 26.44 MiB </td>\n",
       "                        <td> 256.00 kiB </td>\n",
       "                    </tr>\n",
       "                    \n",
       "                    <tr>\n",
       "                        <th> Shape </th>\n",
       "                        <td> (4719, 5875) </td>\n",
       "                        <td> (512, 512) </td>\n",
       "                    </tr>\n",
       "                    <tr>\n",
       "                        <th> Dask graph </th>\n",
       "                        <td colspan=\"2\"> 120 chunks in 3 graph layers </td>\n",
       "                    </tr>\n",
       "                    <tr>\n",
       "                        <th> Data type </th>\n",
       "                        <td colspan=\"2\"> uint8 numpy.ndarray </td>\n",
       "                    </tr>\n",
       "                </tbody>\n",
       "            </table>\n",
       "        </td>\n",
       "        <td>\n",
       "        <svg width=\"170\" height=\"146\" style=\"stroke:rgb(0,0,0);stroke-width:1\" >\n",
       "\n",
       "  <!-- Horizontal lines -->\n",
       "  <line x1=\"0\" y1=\"0\" x2=\"120\" y2=\"0\" style=\"stroke-width:2\" />\n",
       "  <line x1=\"0\" y1=\"10\" x2=\"120\" y2=\"10\" />\n",
       "  <line x1=\"0\" y1=\"20\" x2=\"120\" y2=\"20\" />\n",
       "  <line x1=\"0\" y1=\"31\" x2=\"120\" y2=\"31\" />\n",
       "  <line x1=\"0\" y1=\"41\" x2=\"120\" y2=\"41\" />\n",
       "  <line x1=\"0\" y1=\"52\" x2=\"120\" y2=\"52\" />\n",
       "  <line x1=\"0\" y1=\"62\" x2=\"120\" y2=\"62\" />\n",
       "  <line x1=\"0\" y1=\"73\" x2=\"120\" y2=\"73\" />\n",
       "  <line x1=\"0\" y1=\"83\" x2=\"120\" y2=\"83\" />\n",
       "  <line x1=\"0\" y1=\"94\" x2=\"120\" y2=\"94\" />\n",
       "  <line x1=\"0\" y1=\"96\" x2=\"120\" y2=\"96\" style=\"stroke-width:2\" />\n",
       "\n",
       "  <!-- Vertical lines -->\n",
       "  <line x1=\"0\" y1=\"0\" x2=\"0\" y2=\"96\" style=\"stroke-width:2\" />\n",
       "  <line x1=\"10\" y1=\"0\" x2=\"10\" y2=\"96\" />\n",
       "  <line x1=\"20\" y1=\"0\" x2=\"20\" y2=\"96\" />\n",
       "  <line x1=\"31\" y1=\"0\" x2=\"31\" y2=\"96\" />\n",
       "  <line x1=\"41\" y1=\"0\" x2=\"41\" y2=\"96\" />\n",
       "  <line x1=\"52\" y1=\"0\" x2=\"52\" y2=\"96\" />\n",
       "  <line x1=\"62\" y1=\"0\" x2=\"62\" y2=\"96\" />\n",
       "  <line x1=\"73\" y1=\"0\" x2=\"73\" y2=\"96\" />\n",
       "  <line x1=\"83\" y1=\"0\" x2=\"83\" y2=\"96\" />\n",
       "  <line x1=\"94\" y1=\"0\" x2=\"94\" y2=\"96\" />\n",
       "  <line x1=\"104\" y1=\"0\" x2=\"104\" y2=\"96\" />\n",
       "  <line x1=\"115\" y1=\"0\" x2=\"115\" y2=\"96\" />\n",
       "  <line x1=\"120\" y1=\"0\" x2=\"120\" y2=\"96\" style=\"stroke-width:2\" />\n",
       "\n",
       "  <!-- Colored Rectangle -->\n",
       "  <polygon points=\"0.0,0.0 120.0,0.0 120.0,96.38808510638297 0.0,96.38808510638297\" style=\"fill:#ECB172A0;stroke-width:0\"/>\n",
       "\n",
       "  <!-- Text -->\n",
       "  <text x=\"60.000000\" y=\"116.388085\" font-size=\"1.0rem\" font-weight=\"100\" text-anchor=\"middle\" >5875</text>\n",
       "  <text x=\"140.000000\" y=\"48.194043\" font-size=\"1.0rem\" font-weight=\"100\" text-anchor=\"middle\" transform=\"rotate(-90,140.000000,48.194043)\">4719</text>\n",
       "</svg>\n",
       "        </td>\n",
       "    </tr>\n",
       "</table></div></li></ul></div></li><li class='xr-section-item'><input id='section-3d3d62ed-2df0-483b-ae07-eaf6723fa24f' class='xr-section-summary-in' type='checkbox'  ><label for='section-3d3d62ed-2df0-483b-ae07-eaf6723fa24f' class='xr-section-summary' >Indexes: <span>(2)</span></label><div class='xr-section-inline-details'></div><div class='xr-section-details'><ul class='xr-var-list'><li class='xr-var-item'><div class='xr-index-name'><div>x</div></div><div class='xr-index-preview'>PandasIndex</div><input type='checkbox' disabled/><label></label><input id='index-e28f8d34-f846-469c-bb90-7932422320a7' class='xr-index-data-in' type='checkbox'/><label for='index-e28f8d34-f846-469c-bb90-7932422320a7' title='Show/Hide index repr'><svg class='icon xr-icon-database'><use xlink:href='#icon-database'></use></svg></label><div class='xr-index-data'><pre>PandasIndex(Index([ 900480.0,  901440.0,  902400.0,  903360.0,  904320.0,  905280.0,\n",
       "        906240.0,  907200.0,  908160.0,  909120.0,\n",
       "       ...\n",
       "       6530880.0, 6531840.0, 6532800.0, 6533760.0, 6534720.0, 6535680.0,\n",
       "       6536640.0, 6537600.0, 6538560.0, 6539520.0],\n",
       "      dtype=&#x27;float64&#x27;, name=&#x27;x&#x27;, length=5875))</pre></div></li><li class='xr-var-item'><div class='xr-index-name'><div>y</div></div><div class='xr-index-preview'>PandasIndex</div><input type='checkbox' disabled/><label></label><input id='index-79d08e5a-acba-426d-8cd3-9abcaee185e2' class='xr-index-data-in' type='checkbox'/><label for='index-79d08e5a-acba-426d-8cd3-9abcaee185e2' title='Show/Hide index repr'><svg class='icon xr-icon-database'><use xlink:href='#icon-database'></use></svg></label><div class='xr-index-data'><pre>PandasIndex(Index([ 5459530.025429117,   5458570.07628735,  5457610.127145582,\n",
       "        5456650.178003815,  5455690.228862047,   5454730.27972028,\n",
       "       5453770.3305785125,  5452810.381436746,  5451850.432294978,\n",
       "        5450890.483153211,\n",
       "       ...\n",
       "          939129.51684679,  938169.5677050222,  937209.6185632553,\n",
       "        936249.6694214875,  935289.7202797206,  934329.7711379528,\n",
       "        933369.8219961859,   932409.872854419,  931449.9237126512,\n",
       "        930489.9745708844],\n",
       "      dtype=&#x27;float64&#x27;, name=&#x27;y&#x27;, length=4719))</pre></div></li></ul></div></li><li class='xr-section-item'><input id='section-2ebc090b-6ee3-44fe-a0cb-3ab0b000a25e' class='xr-section-summary-in' type='checkbox'  checked><label for='section-2ebc090b-6ee3-44fe-a0cb-3ab0b000a25e' class='xr-section-summary' >Attributes: <span>(2)</span></label><div class='xr-section-inline-details'></div><div class='xr-section-details'><dl class='xr-attrs'><dt><span>stac_catalog_url :</span></dt><dd>https://s3.eu-central-1.wasabisys.com/stac/odse/catalog.json</dd><dt><span>stac_item_id :</span></dt><dd>lcv_blue_landsat.glad.ard_1999.12.02..2000.03.20</dd></dl></div></li></ul></div></div>"
      ],
      "text/plain": [
       "<xarray.Dataset> Size: 111MB\n",
       "Dimensions:      (x: 5875, y: 4719)\n",
       "Coordinates:\n",
       "  * x            (x) float64 47kB 9.005e+05 9.014e+05 ... 6.539e+06 6.54e+06\n",
       "  * y            (y) float64 38kB 5.46e+06 5.459e+06 ... 9.314e+05 9.305e+05\n",
       "    spatial_ref  int64 8B 0\n",
       "Data variables:\n",
       "    blue_p50     (y, x) uint8 28MB dask.array<chunksize=(512, 512), meta=np.ndarray>\n",
       "    blue_p25     (y, x) uint8 28MB dask.array<chunksize=(512, 512), meta=np.ndarray>\n",
       "    blue_p75     (y, x) uint8 28MB dask.array<chunksize=(512, 512), meta=np.ndarray>\n",
       "    qa_f         (y, x) uint8 28MB dask.array<chunksize=(512, 512), meta=np.ndarray>\n",
       "Attributes:\n",
       "    stac_catalog_url:  https://s3.eu-central-1.wasabisys.com/stac/odse/catalo...\n",
       "    stac_item_id:      lcv_blue_landsat.glad.ard_1999.12.02..2000.03.20"
      ]
     },
     "execution_count": 11,
     "metadata": {},
     "output_type": "execute_result"
    }
   ],
   "source": [
    "ds = mlds.get_dataset(5)\n",
    "ds"
   ]
  },
  {
   "cell_type": "code",
   "execution_count": 12,
   "metadata": {},
   "outputs": [
    {
     "name": "stdout",
     "output_type": "stream",
     "text": [
      "CPU times: user 44.7 ms, sys: 1.04 ms, total: 45.7 ms\n",
      "Wall time: 215 ms\n"
     ]
    },
    {
     "data": {
      "text/plain": [
       "<matplotlib.collections.QuadMesh at 0x77cc683e45c0>"
      ]
     },
     "execution_count": 12,
     "metadata": {},
     "output_type": "execute_result"
    },
    {
     "data": {
      "image/png": "[encoded data removed]",
      "text/plain": [
       "<Figure size 640x480 with 2 Axes>"
      ]
     },
     "metadata": {},
     "output_type": "display_data"
    }
   ],
   "source": [
    "%%time\n",
    "ds.blue_p50[3125:3750, 3125:3750].plot(vmax=20)"
   ]
  }
 ],
 "metadata": {
  "kernelspec": {
   "display_name": "Python 3 (ipykernel)",
   "language": "python",
   "name": "python3"
  },
  "language_info": {
   "codemirror_mode": {
    "name": "ipython",
    "version": 3
   },
   "file_extension": ".py",
   "mimetype": "text/x-python",
   "name": "python",
   "nbconvert_exporter": "python",
   "pygments_lexer": "ipython3",
   "version": "3.12.9"
  }
 },
 "nbformat": 4,
 "nbformat_minor": 4
}
